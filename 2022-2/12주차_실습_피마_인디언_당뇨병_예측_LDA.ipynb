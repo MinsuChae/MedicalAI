{
 "cells": [
  {
   "cell_type": "code",
   "execution_count": 1,
   "id": "4115e498",
   "metadata": {},
   "outputs": [],
   "source": [
    "import pandas as pd\n",
    "\n",
    "df = pd.read_csv(\"Pima_Indians_Diabetes_Database.csv\")"
   ]
  },
  {
   "cell_type": "code",
   "execution_count": 2,
   "id": "cdca23b1",
   "metadata": {},
   "outputs": [
    {
     "data": {
      "text/html": [
       "<div>\n",
       "<style scoped>\n",
       "    .dataframe tbody tr th:only-of-type {\n",
       "        vertical-align: middle;\n",
       "    }\n",
       "\n",
       "    .dataframe tbody tr th {\n",
       "        vertical-align: top;\n",
       "    }\n",
       "\n",
       "    .dataframe thead th {\n",
       "        text-align: right;\n",
       "    }\n",
       "</style>\n",
       "<table border=\"1\" class=\"dataframe\">\n",
       "  <thead>\n",
       "    <tr style=\"text-align: right;\">\n",
       "      <th></th>\n",
       "      <th>Pregnancies</th>\n",
       "      <th>Glucose</th>\n",
       "      <th>BloodPressure</th>\n",
       "      <th>SkinThickness</th>\n",
       "      <th>Insulin</th>\n",
       "      <th>BMI</th>\n",
       "      <th>DiabetesPedigreeFunction</th>\n",
       "      <th>Age</th>\n",
       "      <th>Outcome</th>\n",
       "    </tr>\n",
       "  </thead>\n",
       "  <tbody>\n",
       "    <tr>\n",
       "      <th>0</th>\n",
       "      <td>6</td>\n",
       "      <td>148</td>\n",
       "      <td>72</td>\n",
       "      <td>35</td>\n",
       "      <td>0</td>\n",
       "      <td>33.6</td>\n",
       "      <td>0.627</td>\n",
       "      <td>50</td>\n",
       "      <td>1</td>\n",
       "    </tr>\n",
       "    <tr>\n",
       "      <th>1</th>\n",
       "      <td>1</td>\n",
       "      <td>85</td>\n",
       "      <td>66</td>\n",
       "      <td>29</td>\n",
       "      <td>0</td>\n",
       "      <td>26.6</td>\n",
       "      <td>0.351</td>\n",
       "      <td>31</td>\n",
       "      <td>0</td>\n",
       "    </tr>\n",
       "    <tr>\n",
       "      <th>2</th>\n",
       "      <td>8</td>\n",
       "      <td>183</td>\n",
       "      <td>64</td>\n",
       "      <td>0</td>\n",
       "      <td>0</td>\n",
       "      <td>23.3</td>\n",
       "      <td>0.672</td>\n",
       "      <td>32</td>\n",
       "      <td>1</td>\n",
       "    </tr>\n",
       "    <tr>\n",
       "      <th>3</th>\n",
       "      <td>1</td>\n",
       "      <td>89</td>\n",
       "      <td>66</td>\n",
       "      <td>23</td>\n",
       "      <td>94</td>\n",
       "      <td>28.1</td>\n",
       "      <td>0.167</td>\n",
       "      <td>21</td>\n",
       "      <td>0</td>\n",
       "    </tr>\n",
       "    <tr>\n",
       "      <th>4</th>\n",
       "      <td>0</td>\n",
       "      <td>137</td>\n",
       "      <td>40</td>\n",
       "      <td>35</td>\n",
       "      <td>168</td>\n",
       "      <td>43.1</td>\n",
       "      <td>2.288</td>\n",
       "      <td>33</td>\n",
       "      <td>1</td>\n",
       "    </tr>\n",
       "  </tbody>\n",
       "</table>\n",
       "</div>"
      ],
      "text/plain": [
       "   Pregnancies  Glucose  BloodPressure  SkinThickness  Insulin   BMI  \\\n",
       "0            6      148             72             35        0  33.6   \n",
       "1            1       85             66             29        0  26.6   \n",
       "2            8      183             64              0        0  23.3   \n",
       "3            1       89             66             23       94  28.1   \n",
       "4            0      137             40             35      168  43.1   \n",
       "\n",
       "   DiabetesPedigreeFunction  Age  Outcome  \n",
       "0                     0.627   50        1  \n",
       "1                     0.351   31        0  \n",
       "2                     0.672   32        1  \n",
       "3                     0.167   21        0  \n",
       "4                     2.288   33        1  "
      ]
     },
     "execution_count": 2,
     "metadata": {},
     "output_type": "execute_result"
    }
   ],
   "source": [
    "df.head()"
   ]
  },
  {
   "cell_type": "code",
   "execution_count": 3,
   "id": "d56ea0c8",
   "metadata": {},
   "outputs": [],
   "source": [
    "feature = df[df.keys().drop('Outcome')]\n",
    "outcome = df['Outcome']"
   ]
  },
  {
   "cell_type": "code",
   "execution_count": 4,
   "id": "3c2ba576",
   "metadata": {},
   "outputs": [],
   "source": [
    "from sklearn.model_selection import train_test_split\n",
    "\n",
    "train_feature, test_feature, train_target, test_target = train_test_split(feature, outcome, stratify=outcome, random_state=42)"
   ]
  },
  {
   "cell_type": "code",
   "execution_count": 5,
   "id": "a612c8fd",
   "metadata": {},
   "outputs": [],
   "source": [
    "from sklearn.discriminant_analysis import LinearDiscriminantAnalysis\n",
    "\n",
    "lda = LinearDiscriminantAnalysis()\n",
    "train_feature_lda = lda.fit_transform(train_feature,train_target)\n",
    "test_feature_lda = lda.transform(test_feature)"
   ]
  },
  {
   "cell_type": "code",
   "execution_count": 6,
   "id": "3f9d9361",
   "metadata": {},
   "outputs": [
    {
     "data": {
      "text/plain": [
       "(576, 1)"
      ]
     },
     "execution_count": 6,
     "metadata": {},
     "output_type": "execute_result"
    }
   ],
   "source": [
    "train_feature_lda.shape"
   ]
  },
  {
   "cell_type": "code",
   "execution_count": 7,
   "id": "5fb7eabd",
   "metadata": {},
   "outputs": [],
   "source": [
    "keys = sorted(outcome.unique())"
   ]
  },
  {
   "cell_type": "code",
   "execution_count": 8,
   "id": "0c08e52b",
   "metadata": {},
   "outputs": [
    {
     "data": {
      "text/plain": [
       "[0, 1]"
      ]
     },
     "execution_count": 8,
     "metadata": {},
     "output_type": "execute_result"
    }
   ],
   "source": [
    "keys"
   ]
  },
  {
   "cell_type": "code",
   "execution_count": 9,
   "id": "8312fbca",
   "metadata": {},
   "outputs": [],
   "source": [
    "from sklearn.preprocessing import MinMaxScaler\n",
    "\n",
    "scaler = MinMaxScaler()\n",
    "train_feature_lda_scaled = scaler.fit_transform(train_feature_lda)\n",
    "test_feature_lda_scaled = scaler.transform(test_feature_lda)"
   ]
  },
  {
   "cell_type": "code",
   "execution_count": 10,
   "id": "fbc7d28a",
   "metadata": {},
   "outputs": [
    {
     "data": {
      "text/plain": [
       "DecisionTreeClassifier(random_state=42)"
      ]
     },
     "execution_count": 10,
     "metadata": {},
     "output_type": "execute_result"
    }
   ],
   "source": [
    "from sklearn.tree import DecisionTreeClassifier\n",
    "\n",
    "clf = DecisionTreeClassifier(random_state=42)\n",
    "clf.fit(train_feature_lda_scaled, train_target)"
   ]
  },
  {
   "cell_type": "code",
   "execution_count": 11,
   "id": "ac847805",
   "metadata": {},
   "outputs": [],
   "source": [
    "y_pred = clf.predict(test_feature_lda_scaled)"
   ]
  },
  {
   "cell_type": "code",
   "execution_count": 12,
   "id": "6b9c11e6",
   "metadata": {},
   "outputs": [
    {
     "name": "stdout",
     "output_type": "stream",
     "text": [
      "Accuracy : 0.6458333333333334\n",
      "[[29 38]\n",
      " [30 95]]\n"
     ]
    }
   ],
   "source": [
    "from sklearn.metrics import accuracy_score, confusion_matrix\n",
    "\n",
    "print(\"Accuracy :\",accuracy_score(test_target, y_pred))\n",
    "print(confusion_matrix(test_target,y_pred, labels=[1,0]))"
   ]
  },
  {
   "cell_type": "code",
   "execution_count": 13,
   "id": "44865653",
   "metadata": {},
   "outputs": [
    {
     "data": {
      "text/plain": [
       "RandomForestClassifier(n_jobs=-1, random_state=42)"
      ]
     },
     "execution_count": 13,
     "metadata": {},
     "output_type": "execute_result"
    }
   ],
   "source": [
    "from sklearn.ensemble import RandomForestClassifier\n",
    "\n",
    "clf2 = RandomForestClassifier(n_jobs=-1, random_state=42)\n",
    "clf2.fit(train_feature_lda_scaled, train_target)"
   ]
  },
  {
   "cell_type": "code",
   "execution_count": 14,
   "id": "dc57e305",
   "metadata": {},
   "outputs": [],
   "source": [
    "y_pred = clf2.predict(test_feature_lda_scaled)"
   ]
  },
  {
   "cell_type": "code",
   "execution_count": 15,
   "id": "b5191396",
   "metadata": {},
   "outputs": [
    {
     "name": "stdout",
     "output_type": "stream",
     "text": [
      "Accuracy : 0.6458333333333334\n",
      "[[29 38]\n",
      " [30 95]]\n"
     ]
    }
   ],
   "source": [
    "from sklearn.metrics import accuracy_score, confusion_matrix\n",
    "\n",
    "print(\"Accuracy :\",accuracy_score(test_target, y_pred))\n",
    "print(confusion_matrix(test_target,y_pred, labels=[1,0]))"
   ]
  },
  {
   "cell_type": "code",
   "execution_count": 16,
   "id": "aac7048e",
   "metadata": {},
   "outputs": [
    {
     "data": {
      "text/plain": [
       "SVC(random_state=42)"
      ]
     },
     "execution_count": 16,
     "metadata": {},
     "output_type": "execute_result"
    }
   ],
   "source": [
    "from sklearn.svm import SVC\n",
    "\n",
    "clf3 = SVC(random_state=42)\n",
    "clf3.fit(train_feature_lda_scaled, train_target)"
   ]
  },
  {
   "cell_type": "code",
   "execution_count": 17,
   "id": "87de0be7",
   "metadata": {},
   "outputs": [],
   "source": [
    "y_pred = clf3.predict(test_feature_lda_scaled)"
   ]
  },
  {
   "cell_type": "code",
   "execution_count": 18,
   "id": "fd45d451",
   "metadata": {},
   "outputs": [
    {
     "name": "stdout",
     "output_type": "stream",
     "text": [
      "Accuracy : 0.7395833333333334\n",
      "[[ 33  34]\n",
      " [ 16 109]]\n"
     ]
    }
   ],
   "source": [
    "from sklearn.metrics import accuracy_score, confusion_matrix\n",
    "\n",
    "print(\"Accuracy :\",accuracy_score(test_target, y_pred))\n",
    "print(confusion_matrix(test_target,y_pred, labels=[1,0]))"
   ]
  },
  {
   "cell_type": "code",
   "execution_count": 19,
   "id": "d9a9cbaf",
   "metadata": {},
   "outputs": [
    {
     "data": {
      "text/plain": [
       "XGBClassifier(base_score=0.5, booster='gbtree', callbacks=None,\n",
       "              colsample_bylevel=1, colsample_bynode=1, colsample_bytree=1,\n",
       "              early_stopping_rounds=None, enable_categorical=False,\n",
       "              eval_metric=None, feature_types=None, gamma=0, gpu_id=-1,\n",
       "              grow_policy='depthwise', importance_type=None,\n",
       "              interaction_constraints='', learning_rate=0.300000012,\n",
       "              max_bin=256, max_cat_threshold=64, max_cat_to_onehot=4,\n",
       "              max_delta_step=0, max_depth=6, max_leaves=0, min_child_weight=1,\n",
       "              missing=nan, monotone_constraints='()', n_estimators=100,\n",
       "              n_jobs=0, num_parallel_tree=1, predictor='auto', random_state=0, ...)"
      ]
     },
     "execution_count": 19,
     "metadata": {},
     "output_type": "execute_result"
    }
   ],
   "source": [
    "from xgboost import XGBClassifier\n",
    "\n",
    "clf4 = XGBClassifier()\n",
    "clf4.fit(train_feature_lda_scaled, train_target)"
   ]
  },
  {
   "cell_type": "code",
   "execution_count": 20,
   "id": "87acbeb8",
   "metadata": {},
   "outputs": [],
   "source": [
    "y_pred = clf4.predict(test_feature_lda_scaled)"
   ]
  },
  {
   "cell_type": "code",
   "execution_count": 21,
   "id": "194ff677",
   "metadata": {},
   "outputs": [
    {
     "name": "stdout",
     "output_type": "stream",
     "text": [
      "Accuracy : 0.6614583333333334\n",
      "[[ 27  40]\n",
      " [ 25 100]]\n"
     ]
    }
   ],
   "source": [
    "from sklearn.metrics import accuracy_score, confusion_matrix\n",
    "\n",
    "print(\"Accuracy :\",accuracy_score(test_target, y_pred))\n",
    "print(confusion_matrix(test_target,y_pred, labels=[1,0]))"
   ]
  },
  {
   "cell_type": "code",
   "execution_count": null,
   "id": "6fab0d6f",
   "metadata": {},
   "outputs": [],
   "source": []
  }
 ],
 "metadata": {
  "kernelspec": {
   "display_name": "tensorflow gpu 2.7.0",
   "language": "python",
   "name": "tensorflow_gpu_2.7.0"
  },
  "language_info": {
   "codemirror_mode": {
    "name": "ipython",
    "version": 3
   },
   "file_extension": ".py",
   "mimetype": "text/x-python",
   "name": "python",
   "nbconvert_exporter": "python",
   "pygments_lexer": "ipython3",
   "version": "3.9.0"
  }
 },
 "nbformat": 4,
 "nbformat_minor": 5
}
