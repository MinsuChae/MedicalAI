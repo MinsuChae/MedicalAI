{
  "nbformat": 4,
  "nbformat_minor": 0,
  "metadata": {
    "colab": {
      "provenance": [],
      "collapsed_sections": []
    },
    "kernelspec": {
      "name": "python3",
      "display_name": "Python 3"
    },
    "language_info": {
      "name": "python"
    }
  },
  "cells": [
    {
      "cell_type": "markdown",
      "source": [
        "# 함수와 람다, 내장 함수, 클래스, 패키지"
      ],
      "metadata": {
        "id": "PO__1H8hRxy1"
      }
    },
    {
      "cell_type": "markdown",
      "source": [
        "## 함수\n"
      ],
      "metadata": {
        "id": "I7_OUSF8R2Rp"
      }
    },
    {
      "cell_type": "markdown",
      "source": [
        "### 함수 정의"
      ],
      "metadata": {
        "id": "fcIhpthcR3mo"
      }
    },
    {
      "cell_type": "code",
      "execution_count": 1,
      "metadata": {
        "id": "tEGzjhk28bT0"
      },
      "outputs": [],
      "source": [
        "def functionName():\n",
        "    pass"
      ]
    },
    {
      "cell_type": "code",
      "source": [
        "def printUserName(name):\n",
        "    print('Hello',name)"
      ],
      "metadata": {
        "id": "rV_sLK_m8iJl"
      },
      "execution_count": 2,
      "outputs": []
    },
    {
      "cell_type": "code",
      "source": [
        "printUserName('채민수')"
      ],
      "metadata": {
        "colab": {
          "base_uri": "https://localhost:8080/"
        },
        "id": "WMhmi4XT8j1V",
        "outputId": "2c7b6827-ed56-4210-a70d-592696c2537e"
      },
      "execution_count": 3,
      "outputs": [
        {
          "output_type": "stream",
          "name": "stdout",
          "text": [
            "Hello 채민수\n"
          ]
        }
      ]
    },
    {
      "cell_type": "code",
      "source": [
        "def printSum(num1, num2):\n",
        "    print(num1+num2)"
      ],
      "metadata": {
        "id": "s4Yqt1kt9dbY"
      },
      "execution_count": 4,
      "outputs": []
    },
    {
      "cell_type": "code",
      "source": [
        "printSum(1,2)"
      ],
      "metadata": {
        "colab": {
          "base_uri": "https://localhost:8080/"
        },
        "id": "f8UQzBBF-Cpm",
        "outputId": "1474695f-722a-4318-d938-33ed36214fc0"
      },
      "execution_count": 5,
      "outputs": [
        {
          "output_type": "stream",
          "name": "stdout",
          "text": [
            "3\n"
          ]
        }
      ]
    },
    {
      "cell_type": "markdown",
      "source": [
        "### 함수 결과 반환"
      ],
      "metadata": {
        "id": "ux6hNjbFSDN2"
      }
    },
    {
      "cell_type": "code",
      "source": [
        "def functionNone():\n",
        "    return"
      ],
      "metadata": {
        "id": "KhQdVmDr-L3n"
      },
      "execution_count": 6,
      "outputs": []
    },
    {
      "cell_type": "code",
      "source": [
        "print(functionNone())"
      ],
      "metadata": {
        "colab": {
          "base_uri": "https://localhost:8080/"
        },
        "id": "5nga-8ThGnB5",
        "outputId": "f9d3bb33-c5a6-4350-ebf1-92b64f6f7a66"
      },
      "execution_count": 7,
      "outputs": [
        {
          "output_type": "stream",
          "name": "stdout",
          "text": [
            "None\n"
          ]
        }
      ]
    },
    {
      "cell_type": "code",
      "source": [
        "def functionYield():\n",
        "    yield 1\n",
        "    yield 2\n",
        "    yield 3"
      ],
      "metadata": {
        "id": "rYnBVL5nGoxp"
      },
      "execution_count": 8,
      "outputs": []
    },
    {
      "cell_type": "code",
      "source": [
        "print(functionYield())"
      ],
      "metadata": {
        "colab": {
          "base_uri": "https://localhost:8080/"
        },
        "id": "bmXiDqOZGvMJ",
        "outputId": "e8edf3a6-5114-4365-a4b3-7ec78a45979d"
      },
      "execution_count": 9,
      "outputs": [
        {
          "output_type": "stream",
          "name": "stdout",
          "text": [
            "<generator object functionYield at 0x7f38ff8c76d0>\n"
          ]
        }
      ]
    },
    {
      "cell_type": "code",
      "source": [
        "for v in functionYield():\n",
        "    print(v)"
      ],
      "metadata": {
        "colab": {
          "base_uri": "https://localhost:8080/"
        },
        "id": "ItvviQf4GwUJ",
        "outputId": "fe292347-17ae-4919-9edb-07f1a02e3c3c"
      },
      "execution_count": 10,
      "outputs": [
        {
          "output_type": "stream",
          "name": "stdout",
          "text": [
            "1\n",
            "2\n",
            "3\n"
          ]
        }
      ]
    },
    {
      "cell_type": "code",
      "source": [
        "def FizzBuzz(num):\n",
        "    if num % 15 == 0:\n",
        "        return 'FizzBuzz'\n",
        "    elif num % 3 == 0:\n",
        "        return 'Fizz'\n",
        "    elif num % 5 == 0:\n",
        "        return 'Buzz'\n",
        "    else:\n",
        "        return num"
      ],
      "metadata": {
        "id": "B5HtJ7ArG2aB"
      },
      "execution_count": 11,
      "outputs": []
    },
    {
      "cell_type": "code",
      "source": [
        "for i in range(1, 16):\n",
        "    print(FizzBuzz(i))"
      ],
      "metadata": {
        "colab": {
          "base_uri": "https://localhost:8080/"
        },
        "id": "eljniq3yMChD",
        "outputId": "a70fb377-b871-401c-d59e-d2baa8966ea4"
      },
      "execution_count": 12,
      "outputs": [
        {
          "output_type": "stream",
          "name": "stdout",
          "text": [
            "1\n",
            "2\n",
            "Fizz\n",
            "4\n",
            "Buzz\n",
            "Fizz\n",
            "7\n",
            "8\n",
            "Fizz\n",
            "Buzz\n",
            "11\n",
            "Fizz\n",
            "13\n",
            "14\n",
            "FizzBuzz\n"
          ]
        }
      ]
    },
    {
      "cell_type": "markdown",
      "source": [
        "### 함수에서 2개 이상의 값 반환"
      ],
      "metadata": {
        "id": "RMdJ5KTKSHm0"
      }
    },
    {
      "cell_type": "code",
      "source": [
        "def minmax(num1,num2):\n",
        "    return min(num1,num2), max(num1,num2) "
      ],
      "metadata": {
        "id": "rkh-AEdjMX9q"
      },
      "execution_count": 13,
      "outputs": []
    },
    {
      "cell_type": "code",
      "source": [
        "print(minmax(1,3))"
      ],
      "metadata": {
        "colab": {
          "base_uri": "https://localhost:8080/"
        },
        "id": "haDt2LhmOb98",
        "outputId": "91b8503d-8243-489b-8713-be0d9d8e7211"
      },
      "execution_count": 14,
      "outputs": [
        {
          "output_type": "stream",
          "name": "stdout",
          "text": [
            "(1, 3)\n"
          ]
        }
      ]
    },
    {
      "cell_type": "markdown",
      "source": [
        "### 자료형에 따른 적절한 처리"
      ],
      "metadata": {
        "id": "whxkg9vpSJ_H"
      }
    },
    {
      "cell_type": "code",
      "source": [
        "def isPrimenumber(number):\n",
        "    def _isPrime(number):\n",
        "        if number <= 1:\n",
        "            return False\n",
        "        for i in range(2, number):\n",
        "            if number % i == 0:\n",
        "                return False\n",
        "        else:\n",
        "            return True\n",
        "    \n",
        "\n",
        "    if isinstance(number,int):\n",
        "        return _isPrime(number)\n",
        "    elif isinstance(number,list) or isinstance(number,tuple):\n",
        "        results = []\n",
        "        for v in number:\n",
        "            if isinstance(v,int):\n",
        "                results.append(_isPrime(v))\n",
        "        return results\n",
        "    else:\n",
        "        return None"
      ],
      "metadata": {
        "id": "E6jh-5evRuY1"
      },
      "execution_count": 15,
      "outputs": []
    },
    {
      "cell_type": "code",
      "source": [
        "print(isPrimenumber(1))"
      ],
      "metadata": {
        "colab": {
          "base_uri": "https://localhost:8080/"
        },
        "id": "QrQO6mydOsgT",
        "outputId": "9a9df0e7-3391-4403-8ec9-4b49b927e124"
      },
      "execution_count": 16,
      "outputs": [
        {
          "output_type": "stream",
          "name": "stdout",
          "text": [
            "False\n"
          ]
        }
      ]
    },
    {
      "cell_type": "code",
      "source": [
        "print(isPrimenumber([1,2,3,4,5]))"
      ],
      "metadata": {
        "id": "XyLn8MsfRrzc",
        "colab": {
          "base_uri": "https://localhost:8080/"
        },
        "outputId": "7a7f0b56-82a2-443d-890b-28cc2208a17e"
      },
      "execution_count": 17,
      "outputs": [
        {
          "output_type": "stream",
          "name": "stdout",
          "text": [
            "[False, True, True, False, True]\n"
          ]
        }
      ]
    },
    {
      "cell_type": "markdown",
      "source": [
        "## 람다 실습\n"
      ],
      "metadata": {
        "id": "vYAmAOr1-a10"
      }
    },
    {
      "cell_type": "code",
      "source": [
        "my_func = lambda x, y : x*y"
      ],
      "metadata": {
        "id": "r7dYfxSi8Qr_"
      },
      "execution_count": 18,
      "outputs": []
    },
    {
      "cell_type": "code",
      "source": [
        "print(my_func(2,3))"
      ],
      "metadata": {
        "colab": {
          "base_uri": "https://localhost:8080/"
        },
        "id": "ATaedJc2-vx-",
        "outputId": "393a7e7c-d8d3-413b-a4f7-f600b2647cef"
      },
      "execution_count": 19,
      "outputs": [
        {
          "output_type": "stream",
          "name": "stdout",
          "text": [
            "6\n"
          ]
        }
      ]
    },
    {
      "cell_type": "code",
      "source": [
        "import functools"
      ],
      "metadata": {
        "id": "gX7JJ_Y-AvgC"
      },
      "execution_count": 20,
      "outputs": []
    },
    {
      "cell_type": "code",
      "source": [
        "print(functools.reduce(lambda x,y: x+y, [1,2,3,4,5]))"
      ],
      "metadata": {
        "colab": {
          "base_uri": "https://localhost:8080/"
        },
        "id": "DDAAz6r4-yp-",
        "outputId": "fb44af37-28e7-412b-a28b-68deeeb120d1"
      },
      "execution_count": 21,
      "outputs": [
        {
          "output_type": "stream",
          "name": "stdout",
          "text": [
            "15\n"
          ]
        }
      ]
    },
    {
      "cell_type": "code",
      "source": [
        "print(functools.reduce(lambda x,y: x*y, [1,2,3,4,5]))"
      ],
      "metadata": {
        "colab": {
          "base_uri": "https://localhost:8080/"
        },
        "id": "GwH3PJJ6Asz6",
        "outputId": "ef8de2b1-a4d0-4cfe-b4d1-d1e65dbc7ff3"
      },
      "execution_count": 22,
      "outputs": [
        {
          "output_type": "stream",
          "name": "stdout",
          "text": [
            "120\n"
          ]
        }
      ]
    },
    {
      "cell_type": "markdown",
      "source": [
        "### 리스트 함축"
      ],
      "metadata": {
        "id": "bKM-zHtwBqCi"
      }
    },
    {
      "cell_type": "code",
      "source": [
        "a_list = []\n",
        "for i in range(1,6):\n",
        "    a_list.append(i)\n",
        "print(a_list)"
      ],
      "metadata": {
        "colab": {
          "base_uri": "https://localhost:8080/"
        },
        "id": "StygkIImAuHJ",
        "outputId": "c94a0339-0488-420d-b705-b559686e5b23"
      },
      "execution_count": 23,
      "outputs": [
        {
          "output_type": "stream",
          "name": "stdout",
          "text": [
            "[1, 2, 3, 4, 5]\n"
          ]
        }
      ]
    },
    {
      "cell_type": "code",
      "source": [
        "b_list = [v for v in range(1,6)]\n",
        "print(b_list)"
      ],
      "metadata": {
        "colab": {
          "base_uri": "https://localhost:8080/"
        },
        "id": "Awr4PnZ8B0Cb",
        "outputId": "ec298d97-d369-42b8-b3e9-d9310047b6de"
      },
      "execution_count": 24,
      "outputs": [
        {
          "output_type": "stream",
          "name": "stdout",
          "text": [
            "[1, 2, 3, 4, 5]\n"
          ]
        }
      ]
    },
    {
      "cell_type": "markdown",
      "source": [
        "### 조건문을 활용한 리스트 함축"
      ],
      "metadata": {
        "id": "nJRNMCupCToa"
      }
    },
    {
      "cell_type": "code",
      "source": [
        "my_list = [1,2,3,4,5,6,7,8,9,10]"
      ],
      "metadata": {
        "id": "7y7HogU6B9Vk"
      },
      "execution_count": 25,
      "outputs": []
    },
    {
      "cell_type": "code",
      "source": [
        "new_list = [i for i in my_list if i%2==0]"
      ],
      "metadata": {
        "id": "krr1zUYTC5xC"
      },
      "execution_count": 26,
      "outputs": []
    },
    {
      "cell_type": "code",
      "source": [
        "print(new_list)"
      ],
      "metadata": {
        "id": "EKMUMTwaDEj7",
        "outputId": "ddc89fed-720e-4a51-89e9-41d7a2f995b5",
        "colab": {
          "base_uri": "https://localhost:8080/"
        }
      },
      "execution_count": 27,
      "outputs": [
        {
          "output_type": "stream",
          "name": "stdout",
          "text": [
            "[2, 4, 6, 8, 10]\n"
          ]
        }
      ]
    },
    {
      "cell_type": "code",
      "source": [
        "new_list2 = [i*i if i%2==0 else i for i in my_list]"
      ],
      "metadata": {
        "id": "535HJsdICfY3"
      },
      "execution_count": 28,
      "outputs": []
    },
    {
      "cell_type": "code",
      "source": [
        "print(new_list2)"
      ],
      "metadata": {
        "colab": {
          "base_uri": "https://localhost:8080/"
        },
        "id": "9zwEVssHCnCs",
        "outputId": "c85b0b38-1ce4-4a33-f250-4600e8864578"
      },
      "execution_count": 29,
      "outputs": [
        {
          "output_type": "stream",
          "name": "stdout",
          "text": [
            "[1, 4, 3, 16, 5, 36, 7, 64, 9, 100]\n"
          ]
        }
      ]
    },
    {
      "cell_type": "markdown",
      "source": [
        "## 클래스"
      ],
      "metadata": {
        "id": "0FkK20EHhktq"
      }
    },
    {
      "cell_type": "code",
      "source": [
        "class ClassName:\n",
        "    pass"
      ],
      "metadata": {
        "id": "BP11SlFQhnkY"
      },
      "execution_count": 30,
      "outputs": []
    },
    {
      "cell_type": "code",
      "source": [
        "c = ClassName()"
      ],
      "metadata": {
        "id": "8RGccswIhyNS"
      },
      "execution_count": 31,
      "outputs": []
    },
    {
      "cell_type": "code",
      "source": [
        "print(c)"
      ],
      "metadata": {
        "colab": {
          "base_uri": "https://localhost:8080/"
        },
        "id": "oc2FoU-6h9Gs",
        "outputId": "36124b68-44d3-4dfd-9422-94131884f8c4"
      },
      "execution_count": 32,
      "outputs": [
        {
          "output_type": "stream",
          "name": "stdout",
          "text": [
            "<__main__.ClassName object at 0x7f38fbe78510>\n"
          ]
        }
      ]
    },
    {
      "cell_type": "markdown",
      "source": [
        "### 클래스 생성자"
      ],
      "metadata": {
        "id": "sVRmGcxrjExK"
      }
    },
    {
      "cell_type": "code",
      "source": [
        "class Counter:\n",
        "    def __init__(self, start=1):\n",
        "        self.now = start\n",
        "    \n",
        "    def current(self):\n",
        "        return self.now\n",
        "\n",
        "    def next(self):\n",
        "        self.now = self.now + 1"
      ],
      "metadata": {
        "id": "j_sls146h-MA"
      },
      "execution_count": 33,
      "outputs": []
    },
    {
      "cell_type": "code",
      "source": [
        "c1 = Counter(11)"
      ],
      "metadata": {
        "id": "3lvjHt1bjXQd"
      },
      "execution_count": 34,
      "outputs": []
    },
    {
      "cell_type": "code",
      "source": [
        "c1.next()"
      ],
      "metadata": {
        "id": "VEwcmMGjjaJq"
      },
      "execution_count": 35,
      "outputs": []
    },
    {
      "cell_type": "code",
      "source": [
        "print(c1.current())"
      ],
      "metadata": {
        "colab": {
          "base_uri": "https://localhost:8080/"
        },
        "id": "LMEGXNiojcD_",
        "outputId": "529290e3-aeb5-474c-fed6-a9e21865a4f3"
      },
      "execution_count": 36,
      "outputs": [
        {
          "output_type": "stream",
          "name": "stdout",
          "text": [
            "12\n"
          ]
        }
      ]
    },
    {
      "cell_type": "markdown",
      "source": [
        "### 클래스 상속"
      ],
      "metadata": {
        "id": "QZO5OuKGquMx"
      }
    },
    {
      "cell_type": "code",
      "source": [
        "class ClassNameChild(ClassName):\n",
        "    def __init__(self):\n",
        "        ClassName.__init__(self)"
      ],
      "metadata": {
        "id": "I50RP3GKjdR8"
      },
      "execution_count": 37,
      "outputs": []
    },
    {
      "cell_type": "code",
      "source": [
        "child = ClassNameChild()"
      ],
      "metadata": {
        "id": "YDYi1UIWq5Om"
      },
      "execution_count": 38,
      "outputs": []
    },
    {
      "cell_type": "code",
      "source": [
        "print(child)"
      ],
      "metadata": {
        "colab": {
          "base_uri": "https://localhost:8080/"
        },
        "id": "KRpbnepnq6g7",
        "outputId": "387035fc-2966-4437-c0a6-c920ed3eea66"
      },
      "execution_count": 39,
      "outputs": [
        {
          "output_type": "stream",
          "name": "stdout",
          "text": [
            "<__main__.ClassNameChild object at 0x7f38fbe6e590>\n"
          ]
        }
      ]
    },
    {
      "cell_type": "code",
      "source": [
        "\"\"\"\n",
        "import numpy as np\n",
        "import tensorflow as tf\n",
        "class MedicalEarlyStopping(tf.keras.callbacks.Callback):\n",
        "    def __init__(self,\n",
        "               threshold=0.1,\n",
        "               min_delta=0,\n",
        "               patience=0,\n",
        "               verbose=0,\n",
        "               baseline=None,\n",
        "               restore_best_weights=False):\n",
        "        super(MedicalEarlyStopping, self).__init__()\n",
        "        self.threshold = threshold\n",
        "        self.patience = patience\n",
        "        self.verbose = verbose\n",
        "        self.baseline = baseline\n",
        "        self.min_delta = abs(min_delta)\n",
        "        self.wait = 0\n",
        "        self.stopped_epoch = 0\n",
        "        self.restore_best_weights = restore_best_weights\n",
        "        self.best_weights = None\n",
        "\n",
        "        mode = 'max'\n",
        "        if mode == 'min':\n",
        "            self.monitor_op = np.less\n",
        "        elif mode == 'max':\n",
        "            self.monitor_op = np.greater\n",
        "        else:\n",
        "            if (self.monitor.endswith('acc') or self.monitor.endswith('accuracy') or self.monitor.endswith('auc')):\n",
        "                self.monitor_op = np.greater\n",
        "            else:\n",
        "                self.monitor_op = np.less\n",
        "\n",
        "        if self.monitor_op == np.greater:\n",
        "            self.min_delta *= 1\n",
        "        else:\n",
        "            self.min_delta *= -1\n",
        "\n",
        "    def on_train_begin(self, logs=None):\n",
        "        # Allow instances to be re-used\n",
        "        self.wait = 0\n",
        "        self.stopped_epoch = 0\n",
        "        self.best = (np.Inf, np.Inf) if self.monitor_op == np.less else (-np.Inf, -np.Inf)\n",
        "        self.best_weights = None\n",
        "        self.best_epoch = 0\n",
        "\n",
        "    def on_epoch_end(self, epoch, logs=None):\n",
        "        current = self.get_monitor_value(logs)\n",
        "        if current is None:\n",
        "            return\n",
        "        if self.restore_best_weights and self.best_weights is None:\n",
        "        # Restore the weights after first epoch if no progress is ever made.\n",
        "            self.best_weights = self.model.get_weights()\n",
        "\n",
        "        self.wait += 1\n",
        "        if self._is_improvement(current, self.best):\n",
        "            self.best = current\n",
        "            self.best_epoch = epoch\n",
        "            if self.restore_best_weights:\n",
        "                self.best_weights = self.model.get_weights()\n",
        "              # Only restart wait if we beat both the baseline and our previous best.\n",
        "            if self.baseline is None or self._is_improvement(current, self.baseline):\n",
        "                self.wait = 0\n",
        "\n",
        "        # Only check after the first epoch.\n",
        "        if self.wait >= self.patience and epoch > 0:\n",
        "            self.stopped_epoch = epoch\n",
        "            self.model.stop_training = True\n",
        "            if self.restore_best_weights and self.best_weights is not None:\n",
        "                if self.verbose > 0:\n",
        "                    print(' Restoring model weights from the end of the best epoch: '\n",
        "                    f'{self.best_epoch + 1}.')\n",
        "            self.model.set_weights(self.best_weights)\n",
        "\n",
        "    def on_train_end(self, logs=None):\n",
        "        if self.stopped_epoch > 0 and self.verbose > 0:\n",
        "            print(' Epoch %05d: early stopping' % (self.stopped_epoch + 1))\n",
        "\n",
        "    def get_monitor_value(self, logs):\n",
        "        logs = logs or {}\n",
        "        monitor_value1 = logs.get('val_PPV')\n",
        "        if monitor_value1 is None:\n",
        "            monitor_value1 = logs.get('val_precision')\n",
        "            if monitor_value1 is None:\n",
        "                logging.warning(' Early stopping conditioned on metric `%s` '\n",
        "                          'which is not available. Available metrics are: %s',\n",
        "                          'val_PPV', ','.join(list(logs.keys())))\n",
        "        monitor_value2 = logs.get('val_Sensitivity')\n",
        "        if monitor_value2 is None:\n",
        "            monitor_value2 = logs.get('val_recall')\n",
        "            if monitor_value2 is None:\n",
        "                logging.warning(' Early stopping conditioned on metric `%s` '\n",
        "                          'which is not available. Available metrics are: %s',\n",
        "                          'val_Sensitivity', ','.join(list(logs.keys())))\n",
        "        return monitor_value1, monitor_value2\n",
        "\n",
        "    def _is_improvement(self, monitor_value, reference_value):\n",
        "        ppv, sensitivity = monitor_value\n",
        "        reference_ppv, reference_sensitivity = reference_value\n",
        "        if self.monitor_op(ppv - self.min_delta, reference_ppv):\n",
        "            result = reference_sensitivity - sensitivity\n",
        "            if result == np.Inf or result <= self.threshold :\n",
        "                return True\n",
        "            else:\n",
        "                return False\n",
        "        else:\n",
        "            return False\n",
        "\"\"\"\n",
        "pass"
      ],
      "metadata": {
        "id": "UZVpblxXrAwp"
      },
      "execution_count": 40,
      "outputs": []
    },
    {
      "cell_type": "code",
      "source": [],
      "metadata": {
        "id": "AI27N6cGsh1h"
      },
      "execution_count": 40,
      "outputs": []
    }
  ]
}