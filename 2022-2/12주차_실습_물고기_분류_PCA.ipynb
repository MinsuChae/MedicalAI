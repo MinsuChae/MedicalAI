{
 "cells": [
  {
   "cell_type": "code",
   "execution_count": 1,
   "id": "4115e498",
   "metadata": {},
   "outputs": [],
   "source": [
    "import pandas as pd\n",
    "\n",
    "df = pd.read_csv(\"fish_all.csv\")"
   ]
  },
  {
   "cell_type": "code",
   "execution_count": 2,
   "id": "cdca23b1",
   "metadata": {},
   "outputs": [
    {
     "data": {
      "text/html": [
       "<div>\n",
       "<style scoped>\n",
       "    .dataframe tbody tr th:only-of-type {\n",
       "        vertical-align: middle;\n",
       "    }\n",
       "\n",
       "    .dataframe tbody tr th {\n",
       "        vertical-align: top;\n",
       "    }\n",
       "\n",
       "    .dataframe thead th {\n",
       "        text-align: right;\n",
       "    }\n",
       "</style>\n",
       "<table border=\"1\" class=\"dataframe\">\n",
       "  <thead>\n",
       "    <tr style=\"text-align: right;\">\n",
       "      <th></th>\n",
       "      <th>Species</th>\n",
       "      <th>Weight</th>\n",
       "      <th>Length1</th>\n",
       "      <th>Length2</th>\n",
       "      <th>Length3</th>\n",
       "      <th>Height</th>\n",
       "      <th>Width</th>\n",
       "    </tr>\n",
       "  </thead>\n",
       "  <tbody>\n",
       "    <tr>\n",
       "      <th>0</th>\n",
       "      <td>Bream</td>\n",
       "      <td>242.0</td>\n",
       "      <td>23.2</td>\n",
       "      <td>25.4</td>\n",
       "      <td>30.0</td>\n",
       "      <td>11.5200</td>\n",
       "      <td>4.0200</td>\n",
       "    </tr>\n",
       "    <tr>\n",
       "      <th>1</th>\n",
       "      <td>Bream</td>\n",
       "      <td>290.0</td>\n",
       "      <td>24.0</td>\n",
       "      <td>26.3</td>\n",
       "      <td>31.2</td>\n",
       "      <td>12.4800</td>\n",
       "      <td>4.3056</td>\n",
       "    </tr>\n",
       "    <tr>\n",
       "      <th>2</th>\n",
       "      <td>Bream</td>\n",
       "      <td>340.0</td>\n",
       "      <td>23.9</td>\n",
       "      <td>26.5</td>\n",
       "      <td>31.1</td>\n",
       "      <td>12.3778</td>\n",
       "      <td>4.6961</td>\n",
       "    </tr>\n",
       "    <tr>\n",
       "      <th>3</th>\n",
       "      <td>Bream</td>\n",
       "      <td>363.0</td>\n",
       "      <td>26.3</td>\n",
       "      <td>29.0</td>\n",
       "      <td>33.5</td>\n",
       "      <td>12.7300</td>\n",
       "      <td>4.4555</td>\n",
       "    </tr>\n",
       "    <tr>\n",
       "      <th>4</th>\n",
       "      <td>Bream</td>\n",
       "      <td>430.0</td>\n",
       "      <td>26.5</td>\n",
       "      <td>29.0</td>\n",
       "      <td>34.0</td>\n",
       "      <td>12.4440</td>\n",
       "      <td>5.1340</td>\n",
       "    </tr>\n",
       "  </tbody>\n",
       "</table>\n",
       "</div>"
      ],
      "text/plain": [
       "  Species  Weight  Length1  Length2  Length3   Height   Width\n",
       "0   Bream   242.0     23.2     25.4     30.0  11.5200  4.0200\n",
       "1   Bream   290.0     24.0     26.3     31.2  12.4800  4.3056\n",
       "2   Bream   340.0     23.9     26.5     31.1  12.3778  4.6961\n",
       "3   Bream   363.0     26.3     29.0     33.5  12.7300  4.4555\n",
       "4   Bream   430.0     26.5     29.0     34.0  12.4440  5.1340"
      ]
     },
     "execution_count": 2,
     "metadata": {},
     "output_type": "execute_result"
    }
   ],
   "source": [
    "df.head()"
   ]
  },
  {
   "cell_type": "code",
   "execution_count": 3,
   "id": "41041de1",
   "metadata": {},
   "outputs": [
    {
     "data": {
      "text/plain": [
       "Perch        56\n",
       "Bream        35\n",
       "Roach        20\n",
       "Pike         17\n",
       "Smelt        14\n",
       "Parkki       11\n",
       "Whitefish     6\n",
       "Name: Species, dtype: int64"
      ]
     },
     "execution_count": 3,
     "metadata": {},
     "output_type": "execute_result"
    }
   ],
   "source": [
    "df['Species'].value_counts()"
   ]
  },
  {
   "cell_type": "code",
   "execution_count": 4,
   "id": "562be400",
   "metadata": {},
   "outputs": [],
   "source": [
    "df.loc[df['Species']=='Perch','Species'] = 0\n",
    "df.loc[df['Species']=='Bream','Species'] = 1\n",
    "df.loc[df['Species']=='Roach','Species'] = 2\n",
    "df.loc[df['Species']=='Pike','Species'] = 3\n",
    "df.loc[df['Species']=='Smelt','Species'] = 4\n",
    "df.loc[df['Species']=='Parkki','Species'] = 5\n",
    "df.loc[df['Species']=='Whitefish','Species'] = 6\n",
    "df['Species'] = df['Species'].astype(int)"
   ]
  },
  {
   "cell_type": "code",
   "execution_count": 5,
   "id": "d56ea0c8",
   "metadata": {},
   "outputs": [],
   "source": [
    "feature = df[df.keys().drop('Species')]\n",
    "outcome = df['Species']"
   ]
  },
  {
   "cell_type": "code",
   "execution_count": 6,
   "id": "3c2ba576",
   "metadata": {},
   "outputs": [],
   "source": [
    "from sklearn.model_selection import train_test_split\n",
    "\n",
    "train_feature, test_feature, train_target, test_target = train_test_split(feature, outcome, stratify=outcome, random_state=42)"
   ]
  },
  {
   "cell_type": "code",
   "execution_count": 7,
   "id": "a612c8fd",
   "metadata": {},
   "outputs": [],
   "source": [
    "from sklearn.decomposition import PCA\n",
    "\n",
    "pca = PCA(n_components=2)\n",
    "train_feature_pca = pca.fit_transform(train_feature)\n",
    "test_feature_pca = pca.transform(test_feature)"
   ]
  },
  {
   "cell_type": "code",
   "execution_count": 8,
   "id": "1725e404",
   "metadata": {},
   "outputs": [
    {
     "data": {
      "text/plain": [
       "array([9.99573337e-01, 3.46579620e-04])"
      ]
     },
     "execution_count": 8,
     "metadata": {},
     "output_type": "execute_result"
    }
   ],
   "source": [
    "pca.explained_variance_ratio_"
   ]
  },
  {
   "cell_type": "code",
   "execution_count": 9,
   "id": "2f9c42ce",
   "metadata": {},
   "outputs": [
    {
     "data": {
      "text/plain": [
       "0.9995733370668612"
      ]
     },
     "execution_count": 9,
     "metadata": {},
     "output_type": "execute_result"
    }
   ],
   "source": [
    "pca.explained_variance_ratio_[0]"
   ]
  },
  {
   "cell_type": "code",
   "execution_count": 10,
   "id": "e6b7c123",
   "metadata": {},
   "outputs": [
    {
     "data": {
      "text/plain": [
       "0.0003465796198566511"
      ]
     },
     "execution_count": 10,
     "metadata": {},
     "output_type": "execute_result"
    }
   ],
   "source": [
    "pca.explained_variance_ratio_[1]"
   ]
  },
  {
   "cell_type": "code",
   "execution_count": 11,
   "id": "10af8954",
   "metadata": {},
   "outputs": [],
   "source": [
    "keys = sorted(outcome.unique())"
   ]
  },
  {
   "cell_type": "code",
   "execution_count": 12,
   "id": "b351f649",
   "metadata": {
    "scrolled": false
   },
   "outputs": [
    {
     "data": {
      "image/png": "[encoded data removed]",
      "text/plain": [
       "<Figure size 432x288 with 1 Axes>"
      ]
     },
     "metadata": {
      "needs_background": "light"
     },
     "output_type": "display_data"
    }
   ],
   "source": [
    "%matplotlib inline\n",
    "import matplotlib.pyplot as plt\n",
    "\n",
    "color = [\"red\",\"orange\",\"yellow\",\"green\",\"blue\",\"gray\",\"purple\"]\n",
    "\n",
    "for k in keys:\n",
    "    selected_item_feature = train_feature_pca[train_target==k]\n",
    "    plt.scatter(selected_item_feature[:,0],selected_item_feature[:,1], c=color[k], alpha=0.5)\n",
    "plt.show()\n"
   ]
  },
  {
   "cell_type": "code",
   "execution_count": 13,
   "id": "8312fbca",
   "metadata": {},
   "outputs": [],
   "source": [
    "from sklearn.preprocessing import MinMaxScaler\n",
    "\n",
    "scaler = MinMaxScaler()\n",
    "train_feature_pca_scaled = scaler.fit_transform(train_feature_pca)\n",
    "test_feature_pca_scaled = scaler.transform(test_feature_pca)"
   ]
  },
  {
   "cell_type": "code",
   "execution_count": 14,
   "id": "fbc7d28a",
   "metadata": {},
   "outputs": [
    {
     "data": {
      "text/plain": [
       "DecisionTreeClassifier(random_state=42)"
      ]
     },
     "execution_count": 14,
     "metadata": {},
     "output_type": "execute_result"
    }
   ],
   "source": [
    "from sklearn.tree import DecisionTreeClassifier\n",
    "\n",
    "clf = DecisionTreeClassifier(random_state=42)\n",
    "clf.fit(train_feature_pca_scaled, train_target)"
   ]
  },
  {
   "cell_type": "code",
   "execution_count": 15,
   "id": "ac847805",
   "metadata": {},
   "outputs": [],
   "source": [
    "y_pred = clf.predict(test_feature_pca_scaled)"
   ]
  },
  {
   "cell_type": "code",
   "execution_count": 16,
   "id": "6b9c11e6",
   "metadata": {},
   "outputs": [
    {
     "name": "stdout",
     "output_type": "stream",
     "text": [
      "Accuracy : 0.6\n",
      "[[1 0 0 0 0 0 0]\n",
      " [0 1 0 0 0 0 2]\n",
      " [0 0 4 0 0 0 0]\n",
      " [0 0 0 4 0 0 0]\n",
      " [0 0 0 1 3 0 1]\n",
      " [0 0 0 1 0 5 3]\n",
      " [0 0 0 0 5 3 6]]\n"
     ]
    }
   ],
   "source": [
    "from sklearn.metrics import accuracy_score, confusion_matrix\n",
    "\n",
    "print(\"Accuracy :\",accuracy_score(test_target, y_pred))\n",
    "print(confusion_matrix(test_target,y_pred, labels=[6,5,4,3,2,1,0]))"
   ]
  },
  {
   "cell_type": "code",
   "execution_count": 17,
   "id": "44865653",
   "metadata": {},
   "outputs": [
    {
     "data": {
      "text/plain": [
       "RandomForestClassifier(n_jobs=-1, random_state=42)"
      ]
     },
     "execution_count": 17,
     "metadata": {},
     "output_type": "execute_result"
    }
   ],
   "source": [
    "from sklearn.ensemble import RandomForestClassifier\n",
    "\n",
    "clf2 = RandomForestClassifier(n_jobs=-1, random_state=42)\n",
    "clf2.fit(train_feature_pca_scaled, train_target)"
   ]
  },
  {
   "cell_type": "code",
   "execution_count": 18,
   "id": "dc57e305",
   "metadata": {},
   "outputs": [],
   "source": [
    "y_pred = clf2.predict(test_feature_pca_scaled)"
   ]
  },
  {
   "cell_type": "code",
   "execution_count": 19,
   "id": "b5191396",
   "metadata": {},
   "outputs": [
    {
     "name": "stdout",
     "output_type": "stream",
     "text": [
      "Accuracy : 0.7\n",
      "[[1 0 0 0 0 0 0]\n",
      " [0 1 0 0 0 0 2]\n",
      " [0 0 4 0 0 0 0]\n",
      " [0 0 0 4 0 0 0]\n",
      " [0 0 0 1 2 0 2]\n",
      " [0 0 0 1 0 7 1]\n",
      " [0 0 0 0 3 2 9]]\n"
     ]
    }
   ],
   "source": [
    "from sklearn.metrics import accuracy_score, confusion_matrix\n",
    "\n",
    "print(\"Accuracy :\",accuracy_score(test_target, y_pred))\n",
    "print(confusion_matrix(test_target,y_pred, labels=[6,5,4,3,2,1,0]))"
   ]
  },
  {
   "cell_type": "code",
   "execution_count": 20,
   "id": "aac7048e",
   "metadata": {},
   "outputs": [
    {
     "data": {
      "text/plain": [
       "SVC(random_state=42)"
      ]
     },
     "execution_count": 20,
     "metadata": {},
     "output_type": "execute_result"
    }
   ],
   "source": [
    "from sklearn.svm import SVC\n",
    "\n",
    "clf3 = SVC(random_state=42)\n",
    "clf3.fit(train_feature_pca_scaled, train_target)"
   ]
  },
  {
   "cell_type": "code",
   "execution_count": 21,
   "id": "87de0be7",
   "metadata": {},
   "outputs": [],
   "source": [
    "y_pred = clf3.predict(test_feature_pca_scaled)"
   ]
  },
  {
   "cell_type": "code",
   "execution_count": 22,
   "id": "fd45d451",
   "metadata": {},
   "outputs": [
    {
     "name": "stdout",
     "output_type": "stream",
     "text": [
      "Accuracy : 0.525\n",
      "[[ 0  0  0  0  0  0  1]\n",
      " [ 0  0  1  0  0  0  2]\n",
      " [ 0  0  3  0  0  0  1]\n",
      " [ 0  0  0  4  0  0  0]\n",
      " [ 0  0  1  0  0  0  4]\n",
      " [ 0  0  0  0  0  3  6]\n",
      " [ 0  0  0  0  0  3 11]]\n"
     ]
    }
   ],
   "source": [
    "from sklearn.metrics import accuracy_score, confusion_matrix\n",
    "\n",
    "print(\"Accuracy :\",accuracy_score(test_target, y_pred))\n",
    "print(confusion_matrix(test_target,y_pred, labels=[6,5,4,3,2,1,0]))"
   ]
  },
  {
   "cell_type": "code",
   "execution_count": 23,
   "id": "d9a9cbaf",
   "metadata": {},
   "outputs": [
    {
     "data": {
      "text/plain": [
       "XGBClassifier(base_score=0.5, booster='gbtree', callbacks=None,\n",
       "              colsample_bylevel=1, colsample_bynode=1, colsample_bytree=1,\n",
       "              early_stopping_rounds=None, enable_categorical=False,\n",
       "              eval_metric=None, feature_types=None, gamma=0, gpu_id=-1,\n",
       "              grow_policy='depthwise', importance_type=None,\n",
       "              interaction_constraints='', learning_rate=0.300000012,\n",
       "              max_bin=256, max_cat_threshold=64, max_cat_to_onehot=4,\n",
       "              max_delta_step=0, max_depth=6, max_leaves=0, min_child_weight=1,\n",
       "              missing=nan, monotone_constraints='()', n_estimators=100,\n",
       "              n_jobs=0, num_parallel_tree=1, objective='multi:softprob',\n",
       "              predictor='auto', ...)"
      ]
     },
     "execution_count": 23,
     "metadata": {},
     "output_type": "execute_result"
    }
   ],
   "source": [
    "from xgboost import XGBClassifier\n",
    "\n",
    "clf4 = XGBClassifier()\n",
    "clf4.fit(train_feature_pca_scaled, train_target)"
   ]
  },
  {
   "cell_type": "code",
   "execution_count": 24,
   "id": "87acbeb8",
   "metadata": {},
   "outputs": [],
   "source": [
    "y_pred = clf4.predict(test_feature_pca_scaled)"
   ]
  },
  {
   "cell_type": "code",
   "execution_count": 25,
   "id": "194ff677",
   "metadata": {},
   "outputs": [
    {
     "name": "stdout",
     "output_type": "stream",
     "text": [
      "Accuracy : 0.6\n",
      "[[1 0 0 0 0 0 0]\n",
      " [0 1 0 0 0 0 2]\n",
      " [0 0 4 0 0 0 0]\n",
      " [0 0 0 4 0 0 0]\n",
      " [0 0 0 1 2 0 2]\n",
      " [1 0 0 1 0 5 2]\n",
      " [0 0 0 0 4 3 7]]\n"
     ]
    }
   ],
   "source": [
    "from sklearn.metrics import accuracy_score, confusion_matrix\n",
    "\n",
    "print(\"Accuracy :\",accuracy_score(test_target, y_pred))\n",
    "print(confusion_matrix(test_target,y_pred, labels=[6,5,4,3,2,1,0]))"
   ]
  },
  {
   "cell_type": "code",
   "execution_count": null,
   "id": "6fab0d6f",
   "metadata": {},
   "outputs": [],
   "source": []
  }
 ],
 "metadata": {
  "kernelspec": {
   "display_name": "tensorflow gpu 2.7.0",
   "language": "python",
   "name": "tensorflow_gpu_2.7.0"
  },
  "language_info": {
   "codemirror_mode": {
    "name": "ipython",
    "version": 3
   },
   "file_extension": ".py",
   "mimetype": "text/x-python",
   "name": "python",
   "nbconvert_exporter": "python",
   "pygments_lexer": "ipython3",
   "version": "3.9.0"
  }
 },
 "nbformat": 4,
 "nbformat_minor": 5
}
