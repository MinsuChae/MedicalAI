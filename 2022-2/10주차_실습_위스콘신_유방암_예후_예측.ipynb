{
 "cells": [
  {
   "cell_type": "code",
   "execution_count": 1,
   "id": "f5147c3b",
   "metadata": {},
   "outputs": [],
   "source": [
    "import pandas as pd\n",
    "\n",
    "df = pd.read_csv(\"wpbc.data\", names= ['Id','Outcome','Time',\n",
    "                                    'radius_mean','texture_mean','perimeter_mean','area_mean',\n",
    "                                    'smoothness_mean','compactness_mean','concavity_mean','concave points_mean',\n",
    "                                    'symmetry_mean','fractal dimension_mean',\n",
    "                                    'radius_stderr','texture_stderr','perimeter_stderr','area_stderr',\n",
    "                                    'smoothness_stderr','compactness_stderr','concavity_stderr','concave points_stderr',\n",
    "                                    'symmetry_stderr','fractal dimension_stderr',\n",
    "                                    'radius_worst','texture_worst','perimeter_worst','area_worst',\n",
    "                                    'smoothness_worst','compactness_worst','concavity_worst','concave points_worst',\n",
    "                                    'symmetry_worst','fractal dimension_worst',\n",
    "                                    'Tumor size','Lymph node status'])\n"
   ]
  },
  {
   "cell_type": "code",
   "execution_count": 2,
   "id": "c2a2196d",
   "metadata": {},
   "outputs": [
    {
     "data": {
      "text/html": [
       "<div>\n",
       "<style scoped>\n",
       "    .dataframe tbody tr th:only-of-type {\n",
       "        vertical-align: middle;\n",
       "    }\n",
       "\n",
       "    .dataframe tbody tr th {\n",
       "        vertical-align: top;\n",
       "    }\n",
       "\n",
       "    .dataframe thead th {\n",
       "        text-align: right;\n",
       "    }\n",
       "</style>\n",
       "<table border=\"1\" class=\"dataframe\">\n",
       "  <thead>\n",
       "    <tr style=\"text-align: right;\">\n",
       "      <th></th>\n",
       "      <th>Id</th>\n",
       "      <th>Outcome</th>\n",
       "      <th>Time</th>\n",
       "      <th>radius_mean</th>\n",
       "      <th>texture_mean</th>\n",
       "      <th>perimeter_mean</th>\n",
       "      <th>area_mean</th>\n",
       "      <th>smoothness_mean</th>\n",
       "      <th>compactness_mean</th>\n",
       "      <th>concavity_mean</th>\n",
       "      <th>...</th>\n",
       "      <th>perimeter_worst</th>\n",
       "      <th>area_worst</th>\n",
       "      <th>smoothness_worst</th>\n",
       "      <th>compactness_worst</th>\n",
       "      <th>concavity_worst</th>\n",
       "      <th>concave points_worst</th>\n",
       "      <th>symmetry_worst</th>\n",
       "      <th>fractal dimension_worst</th>\n",
       "      <th>Tumor size</th>\n",
       "      <th>Lymph node status</th>\n",
       "    </tr>\n",
       "  </thead>\n",
       "  <tbody>\n",
       "    <tr>\n",
       "      <th>0</th>\n",
       "      <td>119513</td>\n",
       "      <td>N</td>\n",
       "      <td>31</td>\n",
       "      <td>18.02</td>\n",
       "      <td>27.60</td>\n",
       "      <td>117.50</td>\n",
       "      <td>1013.0</td>\n",
       "      <td>0.09489</td>\n",
       "      <td>0.1036</td>\n",
       "      <td>0.1086</td>\n",
       "      <td>...</td>\n",
       "      <td>139.70</td>\n",
       "      <td>1436.0</td>\n",
       "      <td>0.1195</td>\n",
       "      <td>0.1926</td>\n",
       "      <td>0.3140</td>\n",
       "      <td>0.1170</td>\n",
       "      <td>0.2677</td>\n",
       "      <td>0.08113</td>\n",
       "      <td>5.0</td>\n",
       "      <td>5</td>\n",
       "    </tr>\n",
       "    <tr>\n",
       "      <th>1</th>\n",
       "      <td>8423</td>\n",
       "      <td>N</td>\n",
       "      <td>61</td>\n",
       "      <td>17.99</td>\n",
       "      <td>10.38</td>\n",
       "      <td>122.80</td>\n",
       "      <td>1001.0</td>\n",
       "      <td>0.11840</td>\n",
       "      <td>0.2776</td>\n",
       "      <td>0.3001</td>\n",
       "      <td>...</td>\n",
       "      <td>184.60</td>\n",
       "      <td>2019.0</td>\n",
       "      <td>0.1622</td>\n",
       "      <td>0.6656</td>\n",
       "      <td>0.7119</td>\n",
       "      <td>0.2654</td>\n",
       "      <td>0.4601</td>\n",
       "      <td>0.11890</td>\n",
       "      <td>3.0</td>\n",
       "      <td>2</td>\n",
       "    </tr>\n",
       "    <tr>\n",
       "      <th>2</th>\n",
       "      <td>842517</td>\n",
       "      <td>N</td>\n",
       "      <td>116</td>\n",
       "      <td>21.37</td>\n",
       "      <td>17.44</td>\n",
       "      <td>137.50</td>\n",
       "      <td>1373.0</td>\n",
       "      <td>0.08836</td>\n",
       "      <td>0.1189</td>\n",
       "      <td>0.1255</td>\n",
       "      <td>...</td>\n",
       "      <td>159.10</td>\n",
       "      <td>1949.0</td>\n",
       "      <td>0.1188</td>\n",
       "      <td>0.3449</td>\n",
       "      <td>0.3414</td>\n",
       "      <td>0.2032</td>\n",
       "      <td>0.4334</td>\n",
       "      <td>0.09067</td>\n",
       "      <td>2.5</td>\n",
       "      <td>0</td>\n",
       "    </tr>\n",
       "    <tr>\n",
       "      <th>3</th>\n",
       "      <td>843483</td>\n",
       "      <td>N</td>\n",
       "      <td>123</td>\n",
       "      <td>11.42</td>\n",
       "      <td>20.38</td>\n",
       "      <td>77.58</td>\n",
       "      <td>386.1</td>\n",
       "      <td>0.14250</td>\n",
       "      <td>0.2839</td>\n",
       "      <td>0.2414</td>\n",
       "      <td>...</td>\n",
       "      <td>98.87</td>\n",
       "      <td>567.7</td>\n",
       "      <td>0.2098</td>\n",
       "      <td>0.8663</td>\n",
       "      <td>0.6869</td>\n",
       "      <td>0.2575</td>\n",
       "      <td>0.6638</td>\n",
       "      <td>0.17300</td>\n",
       "      <td>2.0</td>\n",
       "      <td>0</td>\n",
       "    </tr>\n",
       "    <tr>\n",
       "      <th>4</th>\n",
       "      <td>843584</td>\n",
       "      <td>R</td>\n",
       "      <td>27</td>\n",
       "      <td>20.29</td>\n",
       "      <td>14.34</td>\n",
       "      <td>135.10</td>\n",
       "      <td>1297.0</td>\n",
       "      <td>0.10030</td>\n",
       "      <td>0.1328</td>\n",
       "      <td>0.1980</td>\n",
       "      <td>...</td>\n",
       "      <td>152.20</td>\n",
       "      <td>1575.0</td>\n",
       "      <td>0.1374</td>\n",
       "      <td>0.2050</td>\n",
       "      <td>0.4000</td>\n",
       "      <td>0.1625</td>\n",
       "      <td>0.2364</td>\n",
       "      <td>0.07678</td>\n",
       "      <td>3.5</td>\n",
       "      <td>0</td>\n",
       "    </tr>\n",
       "  </tbody>\n",
       "</table>\n",
       "<p>5 rows × 35 columns</p>\n",
       "</div>"
      ],
      "text/plain": [
       "       Id Outcome  Time  radius_mean  texture_mean  perimeter_mean  area_mean  \\\n",
       "0  119513       N    31        18.02         27.60          117.50     1013.0   \n",
       "1    8423       N    61        17.99         10.38          122.80     1001.0   \n",
       "2  842517       N   116        21.37         17.44          137.50     1373.0   \n",
       "3  843483       N   123        11.42         20.38           77.58      386.1   \n",
       "4  843584       R    27        20.29         14.34          135.10     1297.0   \n",
       "\n",
       "   smoothness_mean  compactness_mean  concavity_mean  ...  perimeter_worst  \\\n",
       "0          0.09489            0.1036          0.1086  ...           139.70   \n",
       "1          0.11840            0.2776          0.3001  ...           184.60   \n",
       "2          0.08836            0.1189          0.1255  ...           159.10   \n",
       "3          0.14250            0.2839          0.2414  ...            98.87   \n",
       "4          0.10030            0.1328          0.1980  ...           152.20   \n",
       "\n",
       "   area_worst  smoothness_worst  compactness_worst  concavity_worst  \\\n",
       "0      1436.0            0.1195             0.1926           0.3140   \n",
       "1      2019.0            0.1622             0.6656           0.7119   \n",
       "2      1949.0            0.1188             0.3449           0.3414   \n",
       "3       567.7            0.2098             0.8663           0.6869   \n",
       "4      1575.0            0.1374             0.2050           0.4000   \n",
       "\n",
       "   concave points_worst  symmetry_worst  fractal dimension_worst  Tumor size  \\\n",
       "0                0.1170          0.2677                  0.08113         5.0   \n",
       "1                0.2654          0.4601                  0.11890         3.0   \n",
       "2                0.2032          0.4334                  0.09067         2.5   \n",
       "3                0.2575          0.6638                  0.17300         2.0   \n",
       "4                0.1625          0.2364                  0.07678         3.5   \n",
       "\n",
       "   Lymph node status  \n",
       "0                  5  \n",
       "1                  2  \n",
       "2                  0  \n",
       "3                  0  \n",
       "4                  0  \n",
       "\n",
       "[5 rows x 35 columns]"
      ]
     },
     "execution_count": 2,
     "metadata": {},
     "output_type": "execute_result"
    }
   ],
   "source": [
    "df.head()"
   ]
  },
  {
   "cell_type": "code",
   "execution_count": 3,
   "id": "f4b286cf",
   "metadata": {},
   "outputs": [
    {
     "name": "stdout",
     "output_type": "stream",
     "text": [
      "<class 'pandas.core.frame.DataFrame'>\n",
      "RangeIndex: 198 entries, 0 to 197\n",
      "Data columns (total 35 columns):\n",
      " #   Column                    Non-Null Count  Dtype  \n",
      "---  ------                    --------------  -----  \n",
      " 0   Id                        198 non-null    int64  \n",
      " 1   Outcome                   198 non-null    object \n",
      " 2   Time                      198 non-null    int64  \n",
      " 3   radius_mean               198 non-null    float64\n",
      " 4   texture_mean              198 non-null    float64\n",
      " 5   perimeter_mean            198 non-null    float64\n",
      " 6   area_mean                 198 non-null    float64\n",
      " 7   smoothness_mean           198 non-null    float64\n",
      " 8   compactness_mean          198 non-null    float64\n",
      " 9   concavity_mean            198 non-null    float64\n",
      " 10  concave points_mean       198 non-null    float64\n",
      " 11  symmetry_mean             198 non-null    float64\n",
      " 12  fractal dimension_mean    198 non-null    float64\n",
      " 13  radius_stderr             198 non-null    float64\n",
      " 14  texture_stderr            198 non-null    float64\n",
      " 15  perimeter_stderr          198 non-null    float64\n",
      " 16  area_stderr               198 non-null    float64\n",
      " 17  smoothness_stderr         198 non-null    float64\n",
      " 18  compactness_stderr        198 non-null    float64\n",
      " 19  concavity_stderr          198 non-null    float64\n",
      " 20  concave points_stderr     198 non-null    float64\n",
      " 21  symmetry_stderr           198 non-null    float64\n",
      " 22  fractal dimension_stderr  198 non-null    float64\n",
      " 23  radius_worst              198 non-null    float64\n",
      " 24  texture_worst             198 non-null    float64\n",
      " 25  perimeter_worst           198 non-null    float64\n",
      " 26  area_worst                198 non-null    float64\n",
      " 27  smoothness_worst          198 non-null    float64\n",
      " 28  compactness_worst         198 non-null    float64\n",
      " 29  concavity_worst           198 non-null    float64\n",
      " 30  concave points_worst      198 non-null    float64\n",
      " 31  symmetry_worst            198 non-null    float64\n",
      " 32  fractal dimension_worst   198 non-null    float64\n",
      " 33  Tumor size                198 non-null    float64\n",
      " 34  Lymph node status         198 non-null    object \n",
      "dtypes: float64(31), int64(2), object(2)\n",
      "memory usage: 54.3+ KB\n"
     ]
    }
   ],
   "source": [
    "df.info()"
   ]
  },
  {
   "cell_type": "code",
   "execution_count": 4,
   "id": "88141b8c",
   "metadata": {},
   "outputs": [
    {
     "data": {
      "text/plain": [
       "N    151\n",
       "R     47\n",
       "Name: Outcome, dtype: int64"
      ]
     },
     "execution_count": 4,
     "metadata": {},
     "output_type": "execute_result"
    }
   ],
   "source": [
    "df['Outcome'].value_counts()"
   ]
  },
  {
   "cell_type": "code",
   "execution_count": 5,
   "id": "80b9391b",
   "metadata": {},
   "outputs": [],
   "source": [
    "df.loc[df['Lymph node status']=='?','Lymph node status']=None"
   ]
  },
  {
   "cell_type": "code",
   "execution_count": 6,
   "id": "e3c5994e",
   "metadata": {},
   "outputs": [],
   "source": [
    "df.dropna(inplace=True)\n",
    "df.reset_index(inplace=True, drop=True)"
   ]
  },
  {
   "cell_type": "code",
   "execution_count": 7,
   "id": "65f4bdd3",
   "metadata": {},
   "outputs": [],
   "source": [
    "df.loc[df['Outcome']=='N','Outcome'] = 0\n",
    "df.loc[df['Outcome']=='R','Outcome'] = 1\n",
    "df['Outcome'] = df['Outcome'].astype(int)"
   ]
  },
  {
   "cell_type": "code",
   "execution_count": 8,
   "id": "db2a8eb1",
   "metadata": {},
   "outputs": [],
   "source": [
    "feature = df[['radius_mean','texture_mean','perimeter_mean','area_mean',\n",
    "             'smoothness_mean','compactness_mean','concavity_mean','concave points_mean',\n",
    "             'symmetry_mean','fractal dimension_mean',\n",
    "             'radius_worst','texture_worst','perimeter_worst','area_worst',\n",
    "             'smoothness_worst','compactness_worst','concavity_worst','concave points_worst',\n",
    "             'symmetry_worst','fractal dimension_worst',\n",
    "             'Tumor size','Lymph node status']]\n",
    "outcome = df['Outcome']"
   ]
  },
  {
   "cell_type": "code",
   "execution_count": 9,
   "id": "2e6a2e18",
   "metadata": {},
   "outputs": [],
   "source": [
    "from sklearn.model_selection import train_test_split\n",
    "\n",
    "train_feature, test_feature, train_target, test_target = train_test_split(feature, outcome, random_state=42, stratify=outcome)"
   ]
  },
  {
   "cell_type": "code",
   "execution_count": 10,
   "id": "97ab3d38",
   "metadata": {},
   "outputs": [],
   "source": [
    "from sklearn.ensemble import RandomForestClassifier\n",
    "\n",
    "clf = RandomForestClassifier(n_jobs=-1,random_state=42)"
   ]
  },
  {
   "cell_type": "code",
   "execution_count": 11,
   "id": "f8384371",
   "metadata": {},
   "outputs": [
    {
     "data": {
      "text/plain": [
       "RandomForestClassifier(n_jobs=-1, random_state=42)"
      ]
     },
     "execution_count": 11,
     "metadata": {},
     "output_type": "execute_result"
    }
   ],
   "source": [
    "clf.fit(train_feature, train_target)"
   ]
  },
  {
   "cell_type": "code",
   "execution_count": 12,
   "id": "92410c02",
   "metadata": {},
   "outputs": [],
   "source": [
    "y_pred = clf.predict(test_feature)"
   ]
  },
  {
   "cell_type": "code",
   "execution_count": 13,
   "id": "5e6213cf",
   "metadata": {},
   "outputs": [
    {
     "name": "stdout",
     "output_type": "stream",
     "text": [
      "Accuracy : 0.7959183673469388\n",
      "Precision : 1.0\n",
      "Recall : 0.16666666666666666\n",
      "F1 score : 0.2857142857142857\n",
      "[[ 2 10]\n",
      " [ 0 37]]\n"
     ]
    }
   ],
   "source": [
    "from sklearn.metrics import accuracy_score, precision_score, recall_score, f1_score, confusion_matrix\n",
    "\n",
    "print(\"Accuracy :\",accuracy_score(test_target, y_pred))\n",
    "print(\"Precision :\",precision_score(test_target, y_pred))\n",
    "print(\"Recall :\",recall_score(test_target, y_pred))\n",
    "print(\"F1 score :\",f1_score(test_target, y_pred))\n",
    "print(confusion_matrix(test_target, y_pred,labels=[1,0]))"
   ]
  },
  {
   "cell_type": "code",
   "execution_count": 14,
   "id": "97b02706",
   "metadata": {},
   "outputs": [
    {
     "name": "stdout",
     "output_type": "stream",
     "text": [
      "Before oversampling\n",
      "0    111\n",
      "1     34\n",
      "Name: Outcome, dtype: int64\n"
     ]
    }
   ],
   "source": [
    "print(\"Before oversampling\")\n",
    "print(train_target.value_counts())"
   ]
  },
  {
   "cell_type": "code",
   "execution_count": 15,
   "id": "de253f4e",
   "metadata": {},
   "outputs": [],
   "source": [
    "from imblearn.over_sampling import SMOTE\n",
    "\n",
    "sm = SMOTE(random_state=42, n_jobs=-1)\n",
    "train_feature_oversampling, train_target_oversampling = sm.fit_resample(train_feature, train_target)"
   ]
  },
  {
   "cell_type": "code",
   "execution_count": 16,
   "id": "559cd7f1",
   "metadata": {},
   "outputs": [
    {
     "name": "stdout",
     "output_type": "stream",
     "text": [
      "After oversampling\n",
      "0    111\n",
      "1    111\n",
      "Name: Outcome, dtype: int64\n"
     ]
    }
   ],
   "source": [
    "print(\"After oversampling\")\n",
    "print(train_target_oversampling.value_counts())"
   ]
  },
  {
   "cell_type": "code",
   "execution_count": 17,
   "id": "4aed7bb6",
   "metadata": {},
   "outputs": [],
   "source": [
    "from sklearn.ensemble import RandomForestClassifier\n",
    "\n",
    "clf2 = RandomForestClassifier(n_jobs=-1,random_state=42)"
   ]
  },
  {
   "cell_type": "code",
   "execution_count": 18,
   "id": "858aebd5",
   "metadata": {},
   "outputs": [
    {
     "data": {
      "text/plain": [
       "RandomForestClassifier(n_jobs=-1, random_state=42)"
      ]
     },
     "execution_count": 18,
     "metadata": {},
     "output_type": "execute_result"
    }
   ],
   "source": [
    "clf2.fit(train_feature_oversampling, train_target_oversampling)"
   ]
  },
  {
   "cell_type": "code",
   "execution_count": 19,
   "id": "385a898b",
   "metadata": {},
   "outputs": [],
   "source": [
    "y_pred = clf2.predict(test_feature)"
   ]
  },
  {
   "cell_type": "code",
   "execution_count": 20,
   "id": "1161cbdc",
   "metadata": {},
   "outputs": [
    {
     "name": "stdout",
     "output_type": "stream",
     "text": [
      "Accuracy : 0.7142857142857143\n",
      "Precision : 0.4166666666666667\n",
      "Recall : 0.4166666666666667\n",
      "F1 score : 0.4166666666666667\n",
      "[[ 5  7]\n",
      " [ 7 30]]\n"
     ]
    }
   ],
   "source": [
    "from sklearn.metrics import accuracy_score, precision_score, recall_score, f1_score, confusion_matrix\n",
    "\n",
    "print(\"Accuracy :\",accuracy_score(test_target, y_pred))\n",
    "print(\"Precision :\",precision_score(test_target, y_pred))\n",
    "print(\"Recall :\",recall_score(test_target, y_pred))\n",
    "print(\"F1 score :\",f1_score(test_target, y_pred))\n",
    "print(confusion_matrix(test_target, y_pred,labels=[1,0]))"
   ]
  },
  {
   "cell_type": "code",
   "execution_count": 21,
   "id": "cad31546",
   "metadata": {},
   "outputs": [
    {
     "name": "stdout",
     "output_type": "stream",
     "text": [
      "Before undersampling\n",
      "0    111\n",
      "1     34\n",
      "Name: Outcome, dtype: int64\n"
     ]
    }
   ],
   "source": [
    "print(\"Before undersampling\")\n",
    "print(train_target.value_counts())"
   ]
  },
  {
   "cell_type": "code",
   "execution_count": 22,
   "id": "2b435b9e",
   "metadata": {},
   "outputs": [],
   "source": [
    "from imblearn.under_sampling import CondensedNearestNeighbour\n",
    "\n",
    "cnn = CondensedNearestNeighbour(random_state=42, n_jobs=-1)\n",
    "train_feature_undersampling, train_target_undersampling = cnn.fit_resample(train_feature, train_target)"
   ]
  },
  {
   "cell_type": "code",
   "execution_count": 23,
   "id": "08429926",
   "metadata": {},
   "outputs": [
    {
     "name": "stdout",
     "output_type": "stream",
     "text": [
      "After undersampling\n",
      "0    44\n",
      "1    34\n",
      "Name: Outcome, dtype: int64\n"
     ]
    }
   ],
   "source": [
    "print(\"After undersampling\")\n",
    "print(train_target_undersampling.value_counts())"
   ]
  },
  {
   "cell_type": "code",
   "execution_count": 24,
   "id": "edce8066",
   "metadata": {},
   "outputs": [],
   "source": [
    "from sklearn.ensemble import RandomForestClassifier\n",
    "\n",
    "clf3 = RandomForestClassifier(n_jobs=-1,random_state=42)"
   ]
  },
  {
   "cell_type": "code",
   "execution_count": 25,
   "id": "3cebdb5f",
   "metadata": {},
   "outputs": [
    {
     "data": {
      "text/plain": [
       "RandomForestClassifier(n_jobs=-1, random_state=42)"
      ]
     },
     "execution_count": 25,
     "metadata": {},
     "output_type": "execute_result"
    }
   ],
   "source": [
    "clf3.fit(train_feature_undersampling, train_target_undersampling)"
   ]
  },
  {
   "cell_type": "code",
   "execution_count": 26,
   "id": "098c357d",
   "metadata": {},
   "outputs": [],
   "source": [
    "y_pred = clf3.predict(test_feature)"
   ]
  },
  {
   "cell_type": "code",
   "execution_count": 27,
   "id": "db5d92ee",
   "metadata": {},
   "outputs": [
    {
     "name": "stdout",
     "output_type": "stream",
     "text": [
      "Accuracy : 0.6122448979591837\n",
      "Precision : 0.29411764705882354\n",
      "Recall : 0.4166666666666667\n",
      "F1 score : 0.3448275862068966\n",
      "[[ 5  7]\n",
      " [12 25]]\n"
     ]
    }
   ],
   "source": [
    "from sklearn.metrics import accuracy_score, precision_score, recall_score, f1_score, confusion_matrix\n",
    "\n",
    "print(\"Accuracy :\",accuracy_score(test_target, y_pred))\n",
    "print(\"Precision :\",precision_score(test_target, y_pred))\n",
    "print(\"Recall :\",recall_score(test_target, y_pred))\n",
    "print(\"F1 score :\",f1_score(test_target, y_pred))\n",
    "print(confusion_matrix(test_target, y_pred,labels=[1,0]))"
   ]
  },
  {
   "cell_type": "code",
   "execution_count": 28,
   "id": "d989b0d0",
   "metadata": {},
   "outputs": [
    {
     "name": "stdout",
     "output_type": "stream",
     "text": [
      "Before Over-undersampling\n",
      "0    111\n",
      "1     34\n",
      "Name: Outcome, dtype: int64\n"
     ]
    }
   ],
   "source": [
    "print(\"Before Over-undersampling\")\n",
    "print(train_target.value_counts())"
   ]
  },
  {
   "cell_type": "code",
   "execution_count": 29,
   "id": "278155db",
   "metadata": {},
   "outputs": [],
   "source": [
    "from imblearn.under_sampling import CondensedNearestNeighbour\n",
    "\n",
    "cnn = CondensedNearestNeighbour(random_state=42, n_jobs=-1)\n",
    "train_feature_undersampling, train_target_undersampling = cnn.fit_resample(train_feature, train_target)"
   ]
  },
  {
   "cell_type": "code",
   "execution_count": 30,
   "id": "31af078c",
   "metadata": {},
   "outputs": [],
   "source": [
    "from imblearn.over_sampling import SMOTE\n",
    "\n",
    "sm = SMOTE(random_state=42, n_jobs=-1)\n",
    "train_feature_oversampling, train_target_oversampling = sm.fit_resample(train_feature_undersampling, train_target_undersampling)"
   ]
  },
  {
   "cell_type": "code",
   "execution_count": 31,
   "id": "1aaa1006",
   "metadata": {},
   "outputs": [
    {
     "name": "stdout",
     "output_type": "stream",
     "text": [
      "After Over-undersampling\n",
      "0    44\n",
      "1    44\n",
      "Name: Outcome, dtype: int64\n"
     ]
    }
   ],
   "source": [
    "print(\"After Over-undersampling\")\n",
    "print(train_target_oversampling.value_counts())"
   ]
  },
  {
   "cell_type": "code",
   "execution_count": 32,
   "id": "e5f9ab3f",
   "metadata": {},
   "outputs": [],
   "source": [
    "from sklearn.ensemble import RandomForestClassifier\n",
    "\n",
    "clf4 = RandomForestClassifier(n_jobs=-1,random_state=42)"
   ]
  },
  {
   "cell_type": "code",
   "execution_count": 33,
   "id": "03db3aa2",
   "metadata": {},
   "outputs": [
    {
     "data": {
      "text/plain": [
       "RandomForestClassifier(n_jobs=-1, random_state=42)"
      ]
     },
     "execution_count": 33,
     "metadata": {},
     "output_type": "execute_result"
    }
   ],
   "source": [
    "clf4.fit(train_feature_oversampling, train_target_oversampling)"
   ]
  },
  {
   "cell_type": "code",
   "execution_count": 34,
   "id": "082e109d",
   "metadata": {},
   "outputs": [],
   "source": [
    "y_pred = clf4.predict(test_feature)"
   ]
  },
  {
   "cell_type": "code",
   "execution_count": 35,
   "id": "a3c9cac6",
   "metadata": {},
   "outputs": [
    {
     "name": "stdout",
     "output_type": "stream",
     "text": [
      "Accuracy : 0.673469387755102\n",
      "Precision : 0.4\n",
      "Recall : 0.6666666666666666\n",
      "F1 score : 0.5\n",
      "[[ 8  4]\n",
      " [12 25]]\n"
     ]
    }
   ],
   "source": [
    "from sklearn.metrics import accuracy_score, precision_score, recall_score, f1_score, confusion_matrix\n",
    "\n",
    "print(\"Accuracy :\",accuracy_score(test_target, y_pred))\n",
    "print(\"Precision :\",precision_score(test_target, y_pred))\n",
    "print(\"Recall :\",recall_score(test_target, y_pred))\n",
    "print(\"F1 score :\",f1_score(test_target, y_pred))\n",
    "print(confusion_matrix(test_target, y_pred,labels=[1,0]))"
   ]
  },
  {
   "cell_type": "code",
   "execution_count": 36,
   "id": "97679228",
   "metadata": {},
   "outputs": [],
   "source": [
    "from sklearn.ensemble import ExtraTreesClassifier\n",
    "\n",
    "clf5 = ExtraTreesClassifier(n_jobs=-1,random_state=42)"
   ]
  },
  {
   "cell_type": "code",
   "execution_count": 37,
   "id": "5ee20da1",
   "metadata": {},
   "outputs": [
    {
     "data": {
      "text/plain": [
       "ExtraTreesClassifier(n_jobs=-1, random_state=42)"
      ]
     },
     "execution_count": 37,
     "metadata": {},
     "output_type": "execute_result"
    }
   ],
   "source": [
    "clf5.fit(train_feature, train_target)"
   ]
  },
  {
   "cell_type": "code",
   "execution_count": 38,
   "id": "0e6a8ba8",
   "metadata": {},
   "outputs": [],
   "source": [
    "y_pred = clf5.predict(test_feature)"
   ]
  },
  {
   "cell_type": "code",
   "execution_count": 39,
   "id": "ac835799",
   "metadata": {},
   "outputs": [
    {
     "name": "stdout",
     "output_type": "stream",
     "text": [
      "Accuracy : 0.7755102040816326\n",
      "Precision : 0.6\n",
      "Recall : 0.25\n",
      "F1 score : 0.35294117647058826\n",
      "[[ 3  9]\n",
      " [ 2 35]]\n"
     ]
    }
   ],
   "source": [
    "from sklearn.metrics import accuracy_score, precision_score, recall_score, f1_score, confusion_matrix\n",
    "\n",
    "print(\"Accuracy :\",accuracy_score(test_target, y_pred))\n",
    "print(\"Precision :\",precision_score(test_target, y_pred))\n",
    "print(\"Recall :\",recall_score(test_target, y_pred))\n",
    "print(\"F1 score :\",f1_score(test_target, y_pred))\n",
    "print(confusion_matrix(test_target, y_pred,labels=[1,0]))"
   ]
  },
  {
   "cell_type": "code",
   "execution_count": 40,
   "id": "55a2dbae",
   "metadata": {},
   "outputs": [],
   "source": [
    "from sklearn.ensemble import ExtraTreesClassifier\n",
    "\n",
    "clf6 = ExtraTreesClassifier(n_jobs=-1,random_state=42)"
   ]
  },
  {
   "cell_type": "code",
   "execution_count": 41,
   "id": "5bbf38d5",
   "metadata": {},
   "outputs": [
    {
     "data": {
      "text/plain": [
       "ExtraTreesClassifier(n_jobs=-1, random_state=42)"
      ]
     },
     "execution_count": 41,
     "metadata": {},
     "output_type": "execute_result"
    }
   ],
   "source": [
    "clf6.fit(train_feature_oversampling, train_target_oversampling)"
   ]
  },
  {
   "cell_type": "code",
   "execution_count": 42,
   "id": "d0717886",
   "metadata": {},
   "outputs": [],
   "source": [
    "y_pred = clf6.predict(test_feature)"
   ]
  },
  {
   "cell_type": "code",
   "execution_count": 43,
   "id": "41344bbb",
   "metadata": {},
   "outputs": [
    {
     "name": "stdout",
     "output_type": "stream",
     "text": [
      "Accuracy : 0.673469387755102\n",
      "Precision : 0.4\n",
      "Recall : 0.6666666666666666\n",
      "F1 score : 0.5\n",
      "[[ 8  4]\n",
      " [12 25]]\n"
     ]
    }
   ],
   "source": [
    "from sklearn.metrics import accuracy_score, precision_score, recall_score, f1_score, confusion_matrix\n",
    "\n",
    "print(\"Accuracy :\",accuracy_score(test_target, y_pred))\n",
    "print(\"Precision :\",precision_score(test_target, y_pred))\n",
    "print(\"Recall :\",recall_score(test_target, y_pred))\n",
    "print(\"F1 score :\",f1_score(test_target, y_pred))\n",
    "print(confusion_matrix(test_target, y_pred,labels=[1,0]))"
   ]
  },
  {
   "cell_type": "code",
   "execution_count": null,
   "id": "99564cb6",
   "metadata": {},
   "outputs": [],
   "source": []
  }
 ],
 "metadata": {
  "kernelspec": {
   "display_name": "tensorflow gpu 2.7.0",
   "language": "python",
   "name": "tensorflow_gpu_2.7.0"
  },
  "language_info": {
   "codemirror_mode": {
    "name": "ipython",
    "version": 3
   },
   "file_extension": ".py",
   "mimetype": "text/x-python",
   "name": "python",
   "nbconvert_exporter": "python",
   "pygments_lexer": "ipython3",
   "version": "3.9.0"
  }
 },
 "nbformat": 4,
 "nbformat_minor": 5
}
