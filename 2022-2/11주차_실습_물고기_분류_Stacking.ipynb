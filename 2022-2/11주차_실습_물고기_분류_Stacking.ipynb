{
 "cells": [
  {
   "cell_type": "code",
   "execution_count": 1,
   "id": "878b3a18",
   "metadata": {},
   "outputs": [],
   "source": [
    "import pandas as pd\n",
    "\n",
    "df = pd.read_csv(\"fish_all.csv\")"
   ]
  },
  {
   "cell_type": "code",
   "execution_count": 2,
   "id": "55606518",
   "metadata": {},
   "outputs": [
    {
     "data": {
      "text/html": [
       "<div>\n",
       "<style scoped>\n",
       "    .dataframe tbody tr th:only-of-type {\n",
       "        vertical-align: middle;\n",
       "    }\n",
       "\n",
       "    .dataframe tbody tr th {\n",
       "        vertical-align: top;\n",
       "    }\n",
       "\n",
       "    .dataframe thead th {\n",
       "        text-align: right;\n",
       "    }\n",
       "</style>\n",
       "<table border=\"1\" class=\"dataframe\">\n",
       "  <thead>\n",
       "    <tr style=\"text-align: right;\">\n",
       "      <th></th>\n",
       "      <th>Species</th>\n",
       "      <th>Weight</th>\n",
       "      <th>Length1</th>\n",
       "      <th>Length2</th>\n",
       "      <th>Length3</th>\n",
       "      <th>Height</th>\n",
       "      <th>Width</th>\n",
       "    </tr>\n",
       "  </thead>\n",
       "  <tbody>\n",
       "    <tr>\n",
       "      <th>0</th>\n",
       "      <td>Bream</td>\n",
       "      <td>242.0</td>\n",
       "      <td>23.2</td>\n",
       "      <td>25.4</td>\n",
       "      <td>30.0</td>\n",
       "      <td>11.5200</td>\n",
       "      <td>4.0200</td>\n",
       "    </tr>\n",
       "    <tr>\n",
       "      <th>1</th>\n",
       "      <td>Bream</td>\n",
       "      <td>290.0</td>\n",
       "      <td>24.0</td>\n",
       "      <td>26.3</td>\n",
       "      <td>31.2</td>\n",
       "      <td>12.4800</td>\n",
       "      <td>4.3056</td>\n",
       "    </tr>\n",
       "    <tr>\n",
       "      <th>2</th>\n",
       "      <td>Bream</td>\n",
       "      <td>340.0</td>\n",
       "      <td>23.9</td>\n",
       "      <td>26.5</td>\n",
       "      <td>31.1</td>\n",
       "      <td>12.3778</td>\n",
       "      <td>4.6961</td>\n",
       "    </tr>\n",
       "    <tr>\n",
       "      <th>3</th>\n",
       "      <td>Bream</td>\n",
       "      <td>363.0</td>\n",
       "      <td>26.3</td>\n",
       "      <td>29.0</td>\n",
       "      <td>33.5</td>\n",
       "      <td>12.7300</td>\n",
       "      <td>4.4555</td>\n",
       "    </tr>\n",
       "    <tr>\n",
       "      <th>4</th>\n",
       "      <td>Bream</td>\n",
       "      <td>430.0</td>\n",
       "      <td>26.5</td>\n",
       "      <td>29.0</td>\n",
       "      <td>34.0</td>\n",
       "      <td>12.4440</td>\n",
       "      <td>5.1340</td>\n",
       "    </tr>\n",
       "  </tbody>\n",
       "</table>\n",
       "</div>"
      ],
      "text/plain": [
       "  Species  Weight  Length1  Length2  Length3   Height   Width\n",
       "0   Bream   242.0     23.2     25.4     30.0  11.5200  4.0200\n",
       "1   Bream   290.0     24.0     26.3     31.2  12.4800  4.3056\n",
       "2   Bream   340.0     23.9     26.5     31.1  12.3778  4.6961\n",
       "3   Bream   363.0     26.3     29.0     33.5  12.7300  4.4555\n",
       "4   Bream   430.0     26.5     29.0     34.0  12.4440  5.1340"
      ]
     },
     "execution_count": 2,
     "metadata": {},
     "output_type": "execute_result"
    }
   ],
   "source": [
    "df.head()"
   ]
  },
  {
   "cell_type": "code",
   "execution_count": 3,
   "id": "bfce0647",
   "metadata": {},
   "outputs": [
    {
     "data": {
      "text/plain": [
       "Perch        56\n",
       "Bream        35\n",
       "Roach        20\n",
       "Pike         17\n",
       "Smelt        14\n",
       "Parkki       11\n",
       "Whitefish     6\n",
       "Name: Species, dtype: int64"
      ]
     },
     "execution_count": 3,
     "metadata": {},
     "output_type": "execute_result"
    }
   ],
   "source": [
    "df['Species'].value_counts()"
   ]
  },
  {
   "cell_type": "code",
   "execution_count": 4,
   "id": "08cb844c",
   "metadata": {},
   "outputs": [],
   "source": [
    "df.loc[df['Species']=='Perch','Species'] = 0\n",
    "df.loc[df['Species']=='Bream','Species'] = 1\n",
    "df.loc[df['Species']=='Roach','Species'] = 2\n",
    "df.loc[df['Species']=='Pike','Species'] = 3\n",
    "df.loc[df['Species']=='Smelt','Species'] = 4\n",
    "df.loc[df['Species']=='Parkki','Species'] = 5\n",
    "df.loc[df['Species']=='Whitefish','Species'] = 6\n",
    "df['Species'] = df['Species'].astype(int)"
   ]
  },
  {
   "cell_type": "code",
   "execution_count": 5,
   "id": "572138fd",
   "metadata": {},
   "outputs": [],
   "source": [
    "feature = df[df.keys().drop('Species')]\n",
    "outcome = df['Species']"
   ]
  },
  {
   "cell_type": "code",
   "execution_count": 6,
   "id": "a50809a7",
   "metadata": {},
   "outputs": [],
   "source": [
    "from sklearn.model_selection import train_test_split\n",
    "\n",
    "train_feature, test_feature, train_target, test_target = train_test_split(feature,outcome,random_state=42, stratify=outcome)"
   ]
  },
  {
   "cell_type": "code",
   "execution_count": 7,
   "id": "88a4308c",
   "metadata": {},
   "outputs": [
    {
     "data": {
      "text/plain": [
       "RandomForestClassifier()"
      ]
     },
     "execution_count": 7,
     "metadata": {},
     "output_type": "execute_result"
    }
   ],
   "source": [
    "from sklearn.ensemble import RandomForestClassifier\n",
    "\n",
    "clf = RandomForestClassifier()\n",
    "clf.fit(train_feature, train_target)"
   ]
  },
  {
   "cell_type": "code",
   "execution_count": 8,
   "id": "5079df96",
   "metadata": {},
   "outputs": [],
   "source": [
    "y_pred = clf.predict(test_feature)"
   ]
  },
  {
   "cell_type": "code",
   "execution_count": 9,
   "id": "b22444e4",
   "metadata": {},
   "outputs": [
    {
     "name": "stdout",
     "output_type": "stream",
     "text": [
      "Accuracy : 0.825\n",
      "[[ 1  0  0  0  0  0  0]\n",
      " [ 0  2  0  0  0  0  1]\n",
      " [ 0  0  3  0  0  0  1]\n",
      " [ 0  0  0  4  0  0  0]\n",
      " [ 0  0  0  0  2  0  3]\n",
      " [ 0  0  0  0  0  9  0]\n",
      " [ 0  0  0  0  2  0 12]]\n"
     ]
    }
   ],
   "source": [
    "from sklearn.metrics import accuracy_score, precision_score, recall_score, f1_score, confusion_matrix\n",
    "\n",
    "print(\"Accuracy :\",accuracy_score(test_target, y_pred))\n",
    "print(confusion_matrix(test_target, y_pred,labels=[6,5,4,3,2,1,0]))"
   ]
  },
  {
   "cell_type": "code",
   "execution_count": 10,
   "id": "47eaa926",
   "metadata": {},
   "outputs": [
    {
     "name": "stderr",
     "output_type": "stream",
     "text": [
      "/home/minsuchae/.pyenv/versions/3.9.0/envs/tensorflow_gpu_2.7.0/lib/python3.9/site-packages/sklearn/linear_model/_logistic.py:814: ConvergenceWarning: lbfgs failed to converge (status=1):\n",
      "STOP: TOTAL NO. of f AND g EVALUATIONS EXCEEDS LIMIT.\n",
      "\n",
      "Increase the number of iterations (max_iter) or scale the data as shown in:\n",
      "    https://scikit-learn.org/stable/modules/preprocessing.html\n",
      "Please also refer to the documentation for alternative solver options:\n",
      "    https://scikit-learn.org/stable/modules/linear_model.html#logistic-regression\n",
      "  n_iter_i = _check_optimize_result(\n"
     ]
    },
    {
     "data": {
      "text/plain": [
       "LogisticRegression(max_iter=1000000)"
      ]
     },
     "execution_count": 10,
     "metadata": {},
     "output_type": "execute_result"
    }
   ],
   "source": [
    "from sklearn.linear_model import LogisticRegression\n",
    "\n",
    "clf2 = LogisticRegression(max_iter=1000000)\n",
    "clf2.fit(train_feature, train_target)"
   ]
  },
  {
   "cell_type": "code",
   "execution_count": 11,
   "id": "ce979fcb",
   "metadata": {},
   "outputs": [],
   "source": [
    "y_pred = clf2.predict(test_feature)"
   ]
  },
  {
   "cell_type": "code",
   "execution_count": 12,
   "id": "3d2bc745",
   "metadata": {},
   "outputs": [
    {
     "name": "stdout",
     "output_type": "stream",
     "text": [
      "Accuracy : 0.9\n",
      "[[ 0  0  0  0  1  0  0]\n",
      " [ 0  3  0  0  0  0  0]\n",
      " [ 0  0  4  0  0  0  0]\n",
      " [ 0  0  0  4  0  0  0]\n",
      " [ 0  0  0  0  3  1  1]\n",
      " [ 0  0  0  0  0  9  0]\n",
      " [ 0  0  0  1  0  0 13]]\n"
     ]
    }
   ],
   "source": [
    "from sklearn.metrics import accuracy_score, precision_score, recall_score, f1_score, confusion_matrix\n",
    "\n",
    "print(\"Accuracy :\",accuracy_score(test_target, y_pred))\n",
    "print(confusion_matrix(test_target, y_pred,labels=[6,5,4,3,2,1,0]))"
   ]
  },
  {
   "cell_type": "code",
   "execution_count": 13,
   "id": "8fb1ed89",
   "metadata": {},
   "outputs": [
    {
     "data": {
      "text/plain": [
       "DecisionTreeClassifier()"
      ]
     },
     "execution_count": 13,
     "metadata": {},
     "output_type": "execute_result"
    }
   ],
   "source": [
    "from sklearn.tree import DecisionTreeClassifier\n",
    "\n",
    "clf3 = DecisionTreeClassifier()\n",
    "clf3.fit(train_feature, train_target)"
   ]
  },
  {
   "cell_type": "code",
   "execution_count": 14,
   "id": "bc9907cb",
   "metadata": {},
   "outputs": [],
   "source": [
    "y_pred = clf3.predict(test_feature)"
   ]
  },
  {
   "cell_type": "code",
   "execution_count": 15,
   "id": "d0a53745",
   "metadata": {},
   "outputs": [
    {
     "name": "stdout",
     "output_type": "stream",
     "text": [
      "Accuracy : 0.675\n",
      "[[0 0 0 0 1 0 0]\n",
      " [0 3 0 0 0 0 0]\n",
      " [0 0 4 0 0 0 0]\n",
      " [0 0 0 3 0 0 1]\n",
      " [0 0 0 0 2 0 3]\n",
      " [0 0 0 0 1 8 0]\n",
      " [2 0 0 0 4 1 7]]\n"
     ]
    }
   ],
   "source": [
    "from sklearn.metrics import accuracy_score, precision_score, recall_score, f1_score, confusion_matrix\n",
    "\n",
    "print(\"Accuracy :\",accuracy_score(test_target, y_pred))\n",
    "print(confusion_matrix(test_target, y_pred,labels=[6,5,4,3,2,1,0]))"
   ]
  },
  {
   "cell_type": "code",
   "execution_count": 16,
   "id": "fdb1fcb9",
   "metadata": {},
   "outputs": [
    {
     "data": {
      "text/plain": [
       "SVC()"
      ]
     },
     "execution_count": 16,
     "metadata": {},
     "output_type": "execute_result"
    }
   ],
   "source": [
    "from sklearn.svm import SVC\n",
    "\n",
    "clf4 = SVC()\n",
    "clf4.fit(train_feature, train_target)"
   ]
  },
  {
   "cell_type": "code",
   "execution_count": 17,
   "id": "be5aed3d",
   "metadata": {},
   "outputs": [],
   "source": [
    "y_pred = clf4.predict(test_feature)"
   ]
  },
  {
   "cell_type": "code",
   "execution_count": 18,
   "id": "9f95ccef",
   "metadata": {},
   "outputs": [
    {
     "name": "stdout",
     "output_type": "stream",
     "text": [
      "Accuracy : 0.4\n",
      "[[ 0  0  0  0  0  0  1]\n",
      " [ 0  0  0  0  0  0  3]\n",
      " [ 0  0  0  0  0  0  4]\n",
      " [ 0  0  0  0  0  3  1]\n",
      " [ 0  0  0  0  0  1  4]\n",
      " [ 0  0  0  0  0  5  4]\n",
      " [ 0  0  0  0  0  3 11]]\n"
     ]
    }
   ],
   "source": [
    "from sklearn.metrics import accuracy_score, precision_score, recall_score, f1_score, confusion_matrix\n",
    "\n",
    "print(\"Accuracy :\",accuracy_score(test_target, y_pred))\n",
    "print(confusion_matrix(test_target, y_pred,labels=[6,5,4,3,2,1,0]))"
   ]
  },
  {
   "cell_type": "code",
   "execution_count": 19,
   "id": "4421b426",
   "metadata": {},
   "outputs": [],
   "source": [
    "from sklearn.ensemble import VotingClassifier\n",
    "\n",
    "clf5 = VotingClassifier([\n",
    "                         ('dt',DecisionTreeClassifier()),\n",
    "                         ('lr',LogisticRegression(max_iter=1000000)),\n",
    "                         ('rf',RandomForestClassifier()),\n",
    "                         ('svm',SVC())],\n",
    "                        voting='hard', n_jobs=-1)"
   ]
  },
  {
   "cell_type": "code",
   "execution_count": 20,
   "id": "f6c9aa4d",
   "metadata": {},
   "outputs": [
    {
     "name": "stderr",
     "output_type": "stream",
     "text": [
      "/home/minsuchae/.pyenv/versions/3.9.0/envs/tensorflow_gpu_2.7.0/lib/python3.9/site-packages/sklearn/linear_model/_logistic.py:814: ConvergenceWarning: lbfgs failed to converge (status=1):\n",
      "STOP: TOTAL NO. of f AND g EVALUATIONS EXCEEDS LIMIT.\n",
      "\n",
      "Increase the number of iterations (max_iter) or scale the data as shown in:\n",
      "    https://scikit-learn.org/stable/modules/preprocessing.html\n",
      "Please also refer to the documentation for alternative solver options:\n",
      "    https://scikit-learn.org/stable/modules/linear_model.html#logistic-regression\n",
      "  n_iter_i = _check_optimize_result(\n"
     ]
    },
    {
     "data": {
      "text/plain": [
       "VotingClassifier(estimators=[('dt', DecisionTreeClassifier()),\n",
       "                             ('lr', LogisticRegression(max_iter=1000000)),\n",
       "                             ('rf', RandomForestClassifier()), ('svm', SVC())],\n",
       "                 n_jobs=-1)"
      ]
     },
     "execution_count": 20,
     "metadata": {},
     "output_type": "execute_result"
    }
   ],
   "source": [
    "clf5.fit(train_feature, train_target)"
   ]
  },
  {
   "cell_type": "code",
   "execution_count": 21,
   "id": "91ebb4df",
   "metadata": {},
   "outputs": [],
   "source": [
    "y_pred = clf5.predict(test_feature)"
   ]
  },
  {
   "cell_type": "code",
   "execution_count": 22,
   "id": "c4d5834e",
   "metadata": {},
   "outputs": [
    {
     "name": "stdout",
     "output_type": "stream",
     "text": [
      "Accuracy : 0.85\n",
      "[[ 0  0  0  0  0  0  1]\n",
      " [ 0  2  0  0  0  0  1]\n",
      " [ 0  0  3  0  0  0  1]\n",
      " [ 0  0  0  4  0  0  0]\n",
      " [ 0  0  0  0  2  0  3]\n",
      " [ 0  0  0  0  0  9  0]\n",
      " [ 0  0  0  0  0  0 14]]\n"
     ]
    }
   ],
   "source": [
    "from sklearn.metrics import accuracy_score, precision_score, recall_score, f1_score, confusion_matrix\n",
    "\n",
    "print(\"Accuracy :\",accuracy_score(test_target, y_pred))\n",
    "print(confusion_matrix(test_target, y_pred,labels=[6,5,4,3,2,1,0]))"
   ]
  },
  {
   "cell_type": "code",
   "execution_count": 23,
   "id": "e29cf3af",
   "metadata": {},
   "outputs": [],
   "source": [
    "from sklearn.ensemble import StackingClassifier\n",
    "\n",
    "clf6 = StackingClassifier(estimators=[('dt',DecisionTreeClassifier()),\n",
    "                                      ('lr',LogisticRegression(max_iter=1000000)),\n",
    "                                      ('rf',RandomForestClassifier(n_jobs=-1)),\n",
    "                                      ('svm',SVC())],\n",
    "                          final_estimator=LogisticRegression(max_iter=1000000), n_jobs=-1)"
   ]
  },
  {
   "cell_type": "code",
   "execution_count": 24,
   "id": "ddacf9b6",
   "metadata": {},
   "outputs": [
    {
     "name": "stderr",
     "output_type": "stream",
     "text": [
      "/home/minsuchae/.pyenv/versions/3.9.0/envs/tensorflow_gpu_2.7.0/lib/python3.9/site-packages/sklearn/linear_model/_logistic.py:814: ConvergenceWarning: lbfgs failed to converge (status=1):\n",
      "STOP: TOTAL NO. of f AND g EVALUATIONS EXCEEDS LIMIT.\n",
      "\n",
      "Increase the number of iterations (max_iter) or scale the data as shown in:\n",
      "    https://scikit-learn.org/stable/modules/preprocessing.html\n",
      "Please also refer to the documentation for alternative solver options:\n",
      "    https://scikit-learn.org/stable/modules/linear_model.html#logistic-regression\n",
      "  n_iter_i = _check_optimize_result(\n",
      "/home/minsuchae/.pyenv/versions/3.9.0/envs/tensorflow_gpu_2.7.0/lib/python3.9/site-packages/sklearn/linear_model/_logistic.py:814: ConvergenceWarning: lbfgs failed to converge (status=1):\n",
      "STOP: TOTAL NO. of f AND g EVALUATIONS EXCEEDS LIMIT.\n",
      "\n",
      "Increase the number of iterations (max_iter) or scale the data as shown in:\n",
      "    https://scikit-learn.org/stable/modules/preprocessing.html\n",
      "Please also refer to the documentation for alternative solver options:\n",
      "    https://scikit-learn.org/stable/modules/linear_model.html#logistic-regression\n",
      "  n_iter_i = _check_optimize_result(\n"
     ]
    },
    {
     "data": {
      "text/plain": [
       "StackingClassifier(estimators=[('dt', DecisionTreeClassifier()),\n",
       "                               ('lr', LogisticRegression(max_iter=1000000)),\n",
       "                               ('rf', RandomForestClassifier(n_jobs=-1)),\n",
       "                               ('svm', SVC())],\n",
       "                   final_estimator=LogisticRegression(max_iter=1000000),\n",
       "                   n_jobs=-1)"
      ]
     },
     "execution_count": 24,
     "metadata": {},
     "output_type": "execute_result"
    }
   ],
   "source": [
    "clf6.fit(train_feature, train_target)"
   ]
  },
  {
   "cell_type": "code",
   "execution_count": 25,
   "id": "37e626dd",
   "metadata": {},
   "outputs": [],
   "source": [
    "y_pred = clf6.predict(test_feature)"
   ]
  },
  {
   "cell_type": "code",
   "execution_count": 26,
   "id": "d38fdb35",
   "metadata": {},
   "outputs": [
    {
     "name": "stdout",
     "output_type": "stream",
     "text": [
      "Accuracy : 0.95\n",
      "[[ 1  0  0  0  0  0  0]\n",
      " [ 0  3  0  0  0  0  0]\n",
      " [ 0  0  4  0  0  0  0]\n",
      " [ 0  0  0  4  0  0  0]\n",
      " [ 0  0  0  0  3  1  1]\n",
      " [ 0  0  0  0  0  9  0]\n",
      " [ 0  0  0  0  0  0 14]]\n"
     ]
    }
   ],
   "source": [
    "from sklearn.metrics import accuracy_score, precision_score, recall_score, f1_score, confusion_matrix\n",
    "\n",
    "print(\"Accuracy :\",accuracy_score(test_target, y_pred))\n",
    "print(confusion_matrix(test_target, y_pred,labels=[6,5,4,3,2,1,0]))"
   ]
  },
  {
   "cell_type": "code",
   "execution_count": 27,
   "id": "c2610669",
   "metadata": {},
   "outputs": [],
   "source": [
    "from xgboost import XGBClassifier\n",
    "from xgboost.callback import EarlyStopping\n",
    "import numpy as np\n",
    "from sklearn.model_selection import train_test_split\n",
    "from sklearn.tree import DecisionTreeClassifier\n",
    "from sklearn.ensemble import RandomForestClassifier\n",
    "from sklearn.linear_model import LogisticRegression\n",
    "from sklearn.svm import SVC\n",
    "\n",
    "\n",
    "class MultiLayerStacking:\n",
    "    def __init__(self):\n",
    "        self.layer_one_dt = DecisionTreeClassifier()\n",
    "        self.layer_one_lr = LogisticRegression(max_iter=1000000)\n",
    "        self.layer_one_rf = RandomForestClassifier(n_jobs=-1)\n",
    "        self.layer_one_svm = SVC()\n",
    "        \n",
    "        self.layer_two_rf = RandomForestClassifier(n_jobs=-1)\n",
    "        self.layer_two_xgboost = XGBClassifier()\n",
    "                          \n",
    "        self.layer_final = LogisticRegression(max_iter=1000000)\n",
    "                          \n",
    "    def fit(self, feature, target):\n",
    "        self.layer_one_dt.fit(feature,target)\n",
    "        self.layer_one_lr.fit(feature,target)\n",
    "        self.layer_one_rf.fit(feature,target)\n",
    "        self.layer_one_svm.fit(feature,target)\n",
    "                          \n",
    "        pred_layer_one_dt = self.layer_one_dt.predict(feature).reshape(-1,1)\n",
    "        pred_layer_one_lr = self.layer_one_lr.predict(feature).reshape(-1,1)\n",
    "        pred_layer_one_rf = self.layer_one_rf.predict(feature).reshape(-1,1)\n",
    "        pred_layer_one_svm = self.layer_one_svm.predict(feature).reshape(-1,1)\n",
    "        \n",
    "        input_layer_two = np.concatenate([pred_layer_one_dt,pred_layer_one_lr,pred_layer_one_rf,pred_layer_one_svm], axis=1)\n",
    "        train_feature, val_feature, train_target, val_target = train_test_split(input_layer_two, target, stratify=target, random_state = 42)\n",
    "        \n",
    "        self.layer_two_rf.fit(input_layer_two, target)\n",
    "        \n",
    "        early_stop = EarlyStopping(rounds=30,metric_name='merror',data_name=\"validation_0\",save_best=True)        \n",
    "        self.layer_two_xgboost.fit(train_feature, train_target, eval_set=[(val_feature,val_target)], eval_metric='merror',callbacks=[early_stop], verbose=False)\n",
    "        \n",
    "        pred_layer_two_rf = self.layer_two_rf.predict(input_layer_two).reshape(-1,1)\n",
    "        pred_layer_two_xgboost = self.layer_two_xgboost.predict(input_layer_two).reshape(-1,1)\n",
    "        \n",
    "        input_layer_last = np.concatenate([pred_layer_two_rf,pred_layer_two_xgboost], axis=1)\n",
    "        self.layer_final.fit(input_layer_last,target)\n",
    "        \n",
    "    def predict(self, feature):\n",
    "        pred_layer_one_dt = self.layer_one_dt.predict(feature).reshape(-1,1)\n",
    "        pred_layer_one_lr = self.layer_one_lr.predict(feature).reshape(-1,1)\n",
    "        pred_layer_one_rf = self.layer_one_rf.predict(feature).reshape(-1,1)\n",
    "        pred_layer_one_svm = self.layer_one_svm.predict(feature).reshape(-1,1)\n",
    "        \n",
    "        input_layer_two = np.concatenate([pred_layer_one_dt,pred_layer_one_lr,pred_layer_one_rf,pred_layer_one_svm], axis=1)\n",
    "        \n",
    "        pred_layer_two_rf = self.layer_two_rf.predict(input_layer_two).reshape(-1,1)\n",
    "        pred_layer_two_xgboost = self.layer_two_xgboost.predict(input_layer_two).reshape(-1,1)\n",
    "        \n",
    "        input_layer_last = np.concatenate([pred_layer_two_rf,pred_layer_two_xgboost], axis=1)\n",
    "        return self.layer_final.predict(input_layer_last)"
   ]
  },
  {
   "cell_type": "code",
   "execution_count": 28,
   "id": "13810a05",
   "metadata": {},
   "outputs": [],
   "source": [
    "clf7 = MultiLayerStacking()"
   ]
  },
  {
   "cell_type": "code",
   "execution_count": 29,
   "id": "204395ec",
   "metadata": {
    "scrolled": false
   },
   "outputs": [
    {
     "name": "stderr",
     "output_type": "stream",
     "text": [
      "/home/minsuchae/.pyenv/versions/3.9.0/envs/tensorflow_gpu_2.7.0/lib/python3.9/site-packages/sklearn/linear_model/_logistic.py:814: ConvergenceWarning: lbfgs failed to converge (status=1):\n",
      "STOP: TOTAL NO. of f AND g EVALUATIONS EXCEEDS LIMIT.\n",
      "\n",
      "Increase the number of iterations (max_iter) or scale the data as shown in:\n",
      "    https://scikit-learn.org/stable/modules/preprocessing.html\n",
      "Please also refer to the documentation for alternative solver options:\n",
      "    https://scikit-learn.org/stable/modules/linear_model.html#logistic-regression\n",
      "  n_iter_i = _check_optimize_result(\n",
      "/home/minsuchae/.pyenv/versions/3.9.0/envs/tensorflow_gpu_2.7.0/lib/python3.9/site-packages/xgboost/sklearn.py:861: UserWarning: `eval_metric` in `fit` method is deprecated for better compatibility with scikit-learn, use `eval_metric` in constructor or`set_params` instead.\n",
      "  warnings.warn(\n",
      "/home/minsuchae/.pyenv/versions/3.9.0/envs/tensorflow_gpu_2.7.0/lib/python3.9/site-packages/xgboost/sklearn.py:861: UserWarning: `callbacks` in `fit` method is deprecated for better compatibility with scikit-learn, use `callbacks` in constructor or`set_params` instead.\n",
      "  warnings.warn(\n"
     ]
    }
   ],
   "source": [
    "clf7.fit(train_feature, train_target)"
   ]
  },
  {
   "cell_type": "code",
   "execution_count": 30,
   "id": "deb24b06",
   "metadata": {},
   "outputs": [],
   "source": [
    "y_pred = clf7.predict(test_feature)"
   ]
  },
  {
   "cell_type": "code",
   "execution_count": 31,
   "id": "29ee9edc",
   "metadata": {},
   "outputs": [
    {
     "name": "stdout",
     "output_type": "stream",
     "text": [
      "Accuracy : 0.7\n",
      "[[0 0 0 0 1 0 0]\n",
      " [0 3 0 0 0 0 0]\n",
      " [0 0 3 0 1 0 0]\n",
      " [0 0 0 3 0 0 1]\n",
      " [0 0 0 1 2 0 2]\n",
      " [0 0 0 0 0 9 0]\n",
      " [0 0 0 0 4 2 8]]\n"
     ]
    }
   ],
   "source": [
    "from sklearn.metrics import accuracy_score, precision_score, recall_score, f1_score, confusion_matrix\n",
    "\n",
    "print(\"Accuracy :\",accuracy_score(test_target, y_pred))\n",
    "print(confusion_matrix(test_target, y_pred,labels=[6,5,4,3,2,1,0]))"
   ]
  },
  {
   "cell_type": "code",
   "execution_count": null,
   "id": "bdbfb9ac",
   "metadata": {},
   "outputs": [],
   "source": []
  }
 ],
 "metadata": {
  "kernelspec": {
   "display_name": "tensorflow gpu 2.7.0",
   "language": "python",
   "name": "tensorflow_gpu_2.7.0"
  },
  "language_info": {
   "codemirror_mode": {
    "name": "ipython",
    "version": 3
   },
   "file_extension": ".py",
   "mimetype": "text/x-python",
   "name": "python",
   "nbconvert_exporter": "python",
   "pygments_lexer": "ipython3",
   "version": "3.9.0"
  }
 },
 "nbformat": 4,
 "nbformat_minor": 5
}
