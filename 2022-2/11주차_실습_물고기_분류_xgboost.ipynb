{
 "cells": [
  {
   "cell_type": "code",
   "execution_count": 1,
   "id": "878b3a18",
   "metadata": {},
   "outputs": [],
   "source": [
    "import pandas as pd\n",
    "\n",
    "df = pd.read_csv(\"fish_all.csv\")"
   ]
  },
  {
   "cell_type": "code",
   "execution_count": 2,
   "id": "55606518",
   "metadata": {},
   "outputs": [
    {
     "data": {
      "text/html": [
       "<div>\n",
       "<style scoped>\n",
       "    .dataframe tbody tr th:only-of-type {\n",
       "        vertical-align: middle;\n",
       "    }\n",
       "\n",
       "    .dataframe tbody tr th {\n",
       "        vertical-align: top;\n",
       "    }\n",
       "\n",
       "    .dataframe thead th {\n",
       "        text-align: right;\n",
       "    }\n",
       "</style>\n",
       "<table border=\"1\" class=\"dataframe\">\n",
       "  <thead>\n",
       "    <tr style=\"text-align: right;\">\n",
       "      <th></th>\n",
       "      <th>Species</th>\n",
       "      <th>Weight</th>\n",
       "      <th>Length1</th>\n",
       "      <th>Length2</th>\n",
       "      <th>Length3</th>\n",
       "      <th>Height</th>\n",
       "      <th>Width</th>\n",
       "    </tr>\n",
       "  </thead>\n",
       "  <tbody>\n",
       "    <tr>\n",
       "      <th>0</th>\n",
       "      <td>Bream</td>\n",
       "      <td>242.0</td>\n",
       "      <td>23.2</td>\n",
       "      <td>25.4</td>\n",
       "      <td>30.0</td>\n",
       "      <td>11.5200</td>\n",
       "      <td>4.0200</td>\n",
       "    </tr>\n",
       "    <tr>\n",
       "      <th>1</th>\n",
       "      <td>Bream</td>\n",
       "      <td>290.0</td>\n",
       "      <td>24.0</td>\n",
       "      <td>26.3</td>\n",
       "      <td>31.2</td>\n",
       "      <td>12.4800</td>\n",
       "      <td>4.3056</td>\n",
       "    </tr>\n",
       "    <tr>\n",
       "      <th>2</th>\n",
       "      <td>Bream</td>\n",
       "      <td>340.0</td>\n",
       "      <td>23.9</td>\n",
       "      <td>26.5</td>\n",
       "      <td>31.1</td>\n",
       "      <td>12.3778</td>\n",
       "      <td>4.6961</td>\n",
       "    </tr>\n",
       "    <tr>\n",
       "      <th>3</th>\n",
       "      <td>Bream</td>\n",
       "      <td>363.0</td>\n",
       "      <td>26.3</td>\n",
       "      <td>29.0</td>\n",
       "      <td>33.5</td>\n",
       "      <td>12.7300</td>\n",
       "      <td>4.4555</td>\n",
       "    </tr>\n",
       "    <tr>\n",
       "      <th>4</th>\n",
       "      <td>Bream</td>\n",
       "      <td>430.0</td>\n",
       "      <td>26.5</td>\n",
       "      <td>29.0</td>\n",
       "      <td>34.0</td>\n",
       "      <td>12.4440</td>\n",
       "      <td>5.1340</td>\n",
       "    </tr>\n",
       "  </tbody>\n",
       "</table>\n",
       "</div>"
      ],
      "text/plain": [
       "  Species  Weight  Length1  Length2  Length3   Height   Width\n",
       "0   Bream   242.0     23.2     25.4     30.0  11.5200  4.0200\n",
       "1   Bream   290.0     24.0     26.3     31.2  12.4800  4.3056\n",
       "2   Bream   340.0     23.9     26.5     31.1  12.3778  4.6961\n",
       "3   Bream   363.0     26.3     29.0     33.5  12.7300  4.4555\n",
       "4   Bream   430.0     26.5     29.0     34.0  12.4440  5.1340"
      ]
     },
     "execution_count": 2,
     "metadata": {},
     "output_type": "execute_result"
    }
   ],
   "source": [
    "df.head()"
   ]
  },
  {
   "cell_type": "code",
   "execution_count": 3,
   "id": "bfce0647",
   "metadata": {},
   "outputs": [
    {
     "data": {
      "text/plain": [
       "Perch        56\n",
       "Bream        35\n",
       "Roach        20\n",
       "Pike         17\n",
       "Smelt        14\n",
       "Parkki       11\n",
       "Whitefish     6\n",
       "Name: Species, dtype: int64"
      ]
     },
     "execution_count": 3,
     "metadata": {},
     "output_type": "execute_result"
    }
   ],
   "source": [
    "df['Species'].value_counts()"
   ]
  },
  {
   "cell_type": "code",
   "execution_count": 4,
   "id": "08cb844c",
   "metadata": {},
   "outputs": [],
   "source": [
    "df.loc[df['Species']=='Perch','Species'] = 0\n",
    "df.loc[df['Species']=='Bream','Species'] = 1\n",
    "df.loc[df['Species']=='Roach','Species'] = 2\n",
    "df.loc[df['Species']=='Pike','Species'] = 3\n",
    "df.loc[df['Species']=='Smelt','Species'] = 4\n",
    "df.loc[df['Species']=='Parkki','Species'] = 5\n",
    "df.loc[df['Species']=='Whitefish','Species'] = 6\n",
    "df['Species'] = df['Species'].astype(int)"
   ]
  },
  {
   "cell_type": "code",
   "execution_count": 5,
   "id": "572138fd",
   "metadata": {},
   "outputs": [],
   "source": [
    "feature = df[df.keys().drop('Species')]\n",
    "outcome = df['Species']"
   ]
  },
  {
   "cell_type": "code",
   "execution_count": 6,
   "id": "a50809a7",
   "metadata": {},
   "outputs": [],
   "source": [
    "from sklearn.model_selection import train_test_split\n",
    "\n",
    "train_feature, test_featue, train_target, test_target = train_test_split(feature,outcome,random_state=42, stratify=outcome)\n",
    "train_feature, val_featue, train_target, val_target = train_test_split(train_feature,train_target,random_state=42, stratify=train_target)"
   ]
  },
  {
   "cell_type": "code",
   "execution_count": 7,
   "id": "88a4308c",
   "metadata": {},
   "outputs": [
    {
     "data": {
      "text/plain": [
       "XGBClassifier(base_score=0.5, booster='gbtree', callbacks=None,\n",
       "              colsample_bylevel=1, colsample_bynode=1, colsample_bytree=1,\n",
       "              early_stopping_rounds=None, enable_categorical=False,\n",
       "              eval_metric=None, feature_types=None, gamma=0, gpu_id=-1,\n",
       "              grow_policy='depthwise', importance_type=None,\n",
       "              interaction_constraints='', learning_rate=0.300000012,\n",
       "              max_bin=256, max_cat_threshold=64, max_cat_to_onehot=4,\n",
       "              max_delta_step=0, max_depth=6, max_leaves=0, min_child_weight=1,\n",
       "              missing=nan, monotone_constraints='()', n_estimators=100,\n",
       "              n_jobs=0, num_parallel_tree=1, objective='multi:softprob',\n",
       "              predictor='auto', ...)"
      ]
     },
     "execution_count": 7,
     "metadata": {},
     "output_type": "execute_result"
    }
   ],
   "source": [
    "from xgboost import XGBClassifier\n",
    "\n",
    "clf = XGBClassifier()\n",
    "clf.fit(train_feature, train_target)"
   ]
  },
  {
   "cell_type": "code",
   "execution_count": 8,
   "id": "182cf390",
   "metadata": {},
   "outputs": [],
   "source": [
    "y_pred = clf.predict(test_featue)"
   ]
  },
  {
   "cell_type": "code",
   "execution_count": 9,
   "id": "48a42834",
   "metadata": {},
   "outputs": [
    {
     "name": "stdout",
     "output_type": "stream",
     "text": [
      "Accuracy : 0.675\n",
      "[[0 0 0 0 0 0 1]\n",
      " [0 1 0 0 2 0 0]\n",
      " [0 0 4 0 0 0 0]\n",
      " [0 0 0 3 0 0 1]\n",
      " [0 0 0 0 1 0 4]\n",
      " [0 0 0 0 0 9 0]\n",
      " [0 0 0 2 3 0 9]]\n"
     ]
    }
   ],
   "source": [
    "from sklearn.metrics import accuracy_score, precision_score, recall_score, f1_score, confusion_matrix\n",
    "\n",
    "print(\"Accuracy :\",accuracy_score(test_target, y_pred))\n",
    "print(confusion_matrix(test_target, y_pred,labels=[6,5,4,3,2,1,0]))"
   ]
  },
  {
   "cell_type": "code",
   "execution_count": 10,
   "id": "6c0e1a66",
   "metadata": {},
   "outputs": [],
   "source": [
    "from imblearn.over_sampling import SMOTE\n",
    "\n",
    "sm = SMOTE(random_state=42, n_jobs=-1, k_neighbors=3)\n",
    "train_feature_oversampling, train_target_oversampling = sm.fit_resample(train_feature, train_target)"
   ]
  },
  {
   "cell_type": "code",
   "execution_count": 11,
   "id": "e28116ac",
   "metadata": {},
   "outputs": [
    {
     "data": {
      "text/plain": [
       "XGBClassifier(base_score=0.5, booster='gbtree', callbacks=None,\n",
       "              colsample_bylevel=1, colsample_bynode=1, colsample_bytree=1,\n",
       "              early_stopping_rounds=None, enable_categorical=False,\n",
       "              eval_metric=None, feature_types=None, gamma=0, gpu_id=-1,\n",
       "              grow_policy='depthwise', importance_type=None,\n",
       "              interaction_constraints='', learning_rate=0.300000012,\n",
       "              max_bin=256, max_cat_threshold=64, max_cat_to_onehot=4,\n",
       "              max_delta_step=0, max_depth=6, max_leaves=0, min_child_weight=1,\n",
       "              missing=nan, monotone_constraints='()', n_estimators=100,\n",
       "              n_jobs=0, num_parallel_tree=1, objective='multi:softprob',\n",
       "              predictor='auto', ...)"
      ]
     },
     "execution_count": 11,
     "metadata": {},
     "output_type": "execute_result"
    }
   ],
   "source": [
    "from xgboost import XGBClassifier\n",
    "\n",
    "clf2 = XGBClassifier()\n",
    "clf2.fit(train_feature_oversampling, train_target_oversampling)"
   ]
  },
  {
   "cell_type": "code",
   "execution_count": 12,
   "id": "e63c1ac5",
   "metadata": {},
   "outputs": [],
   "source": [
    "y_pred = clf2.predict(test_featue)"
   ]
  },
  {
   "cell_type": "code",
   "execution_count": 13,
   "id": "2999ef71",
   "metadata": {},
   "outputs": [
    {
     "name": "stdout",
     "output_type": "stream",
     "text": [
      "Accuracy : 0.625\n",
      "[[0 0 0 0 0 0 1]\n",
      " [0 1 0 0 2 0 0]\n",
      " [0 0 4 0 0 0 0]\n",
      " [0 0 0 3 0 0 1]\n",
      " [1 0 0 0 1 0 3]\n",
      " [0 0 0 0 0 9 0]\n",
      " [3 0 0 0 3 1 7]]\n"
     ]
    }
   ],
   "source": [
    "from sklearn.metrics import accuracy_score, precision_score, recall_score, f1_score, confusion_matrix\n",
    "\n",
    "print(\"Accuracy :\",accuracy_score(test_target, y_pred))\n",
    "print(confusion_matrix(test_target, y_pred,labels=[6,5,4,3,2,1,0]))"
   ]
  },
  {
   "cell_type": "code",
   "execution_count": 14,
   "id": "91d9dc6c",
   "metadata": {
    "scrolled": false
   },
   "outputs": [
    {
     "name": "stderr",
     "output_type": "stream",
     "text": [
      "/home/minsuchae/.pyenv/versions/3.9.0/envs/tensorflow_gpu_2.7.0/lib/python3.9/site-packages/xgboost/sklearn.py:861: UserWarning: `eval_metric` in `fit` method is deprecated for better compatibility with scikit-learn, use `eval_metric` in constructor or`set_params` instead.\n",
      "  warnings.warn(\n",
      "/home/minsuchae/.pyenv/versions/3.9.0/envs/tensorflow_gpu_2.7.0/lib/python3.9/site-packages/xgboost/sklearn.py:861: UserWarning: `callbacks` in `fit` method is deprecated for better compatibility with scikit-learn, use `callbacks` in constructor or`set_params` instead.\n",
      "  warnings.warn(\n"
     ]
    },
    {
     "name": "stdout",
     "output_type": "stream",
     "text": [
      "[0]\tvalidation_0-merror:0.43333\n",
      "[1]\tvalidation_0-merror:0.33333\n",
      "[2]\tvalidation_0-merror:0.30000\n",
      "[3]\tvalidation_0-merror:0.23333\n",
      "[4]\tvalidation_0-merror:0.26667\n",
      "[5]\tvalidation_0-merror:0.26667\n",
      "[6]\tvalidation_0-merror:0.26667\n",
      "[7]\tvalidation_0-merror:0.26667\n",
      "[8]\tvalidation_0-merror:0.26667\n",
      "[9]\tvalidation_0-merror:0.26667\n",
      "[10]\tvalidation_0-merror:0.26667\n",
      "[11]\tvalidation_0-merror:0.26667\n",
      "[12]\tvalidation_0-merror:0.26667\n",
      "[13]\tvalidation_0-merror:0.30000\n",
      "[14]\tvalidation_0-merror:0.30000\n",
      "[15]\tvalidation_0-merror:0.30000\n",
      "[16]\tvalidation_0-merror:0.30000\n",
      "[17]\tvalidation_0-merror:0.30000\n",
      "[18]\tvalidation_0-merror:0.30000\n",
      "[19]\tvalidation_0-merror:0.30000\n",
      "[20]\tvalidation_0-merror:0.30000\n",
      "[21]\tvalidation_0-merror:0.30000\n",
      "[22]\tvalidation_0-merror:0.30000\n",
      "[23]\tvalidation_0-merror:0.30000\n",
      "[24]\tvalidation_0-merror:0.30000\n",
      "[25]\tvalidation_0-merror:0.30000\n",
      "[26]\tvalidation_0-merror:0.30000\n",
      "[27]\tvalidation_0-merror:0.30000\n",
      "[28]\tvalidation_0-merror:0.30000\n",
      "[29]\tvalidation_0-merror:0.30000\n",
      "[30]\tvalidation_0-merror:0.30000\n",
      "[31]\tvalidation_0-merror:0.30000\n",
      "[32]\tvalidation_0-merror:0.30000\n"
     ]
    },
    {
     "data": {
      "text/plain": [
       "XGBClassifier(base_score=0.5, booster='gbtree', callbacks=None,\n",
       "              colsample_bylevel=1, colsample_bynode=1, colsample_bytree=1,\n",
       "              early_stopping_rounds=None, enable_categorical=False,\n",
       "              eval_metric=None, feature_types=None, gamma=0, gpu_id=-1,\n",
       "              grow_policy='depthwise', importance_type=None,\n",
       "              interaction_constraints='', learning_rate=0.300000012,\n",
       "              max_bin=256, max_cat_threshold=64, max_cat_to_onehot=4,\n",
       "              max_delta_step=0, max_depth=6, max_leaves=0, min_child_weight=1,\n",
       "              missing=nan, monotone_constraints='()', n_estimators=100,\n",
       "              n_jobs=0, num_parallel_tree=1, objective='multi:softprob',\n",
       "              predictor='auto', ...)"
      ]
     },
     "execution_count": 14,
     "metadata": {},
     "output_type": "execute_result"
    }
   ],
   "source": [
    "from xgboost import XGBClassifier\n",
    "from xgboost.callback import EarlyStopping\n",
    "\n",
    "clf3 = XGBClassifier()\n",
    "early_stop = EarlyStopping(rounds=30,metric_name='merror',data_name=\"validation_0\",save_best=True)\n",
    "clf3.fit(train_feature, train_target, eval_set=[(val_featue,val_target)], eval_metric='merror',callbacks=[early_stop])"
   ]
  },
  {
   "cell_type": "code",
   "execution_count": 15,
   "id": "e7050f7b",
   "metadata": {},
   "outputs": [],
   "source": [
    "y_pred = clf3.predict(test_featue)"
   ]
  },
  {
   "cell_type": "code",
   "execution_count": 16,
   "id": "e5b97555",
   "metadata": {},
   "outputs": [
    {
     "name": "stdout",
     "output_type": "stream",
     "text": [
      "Accuracy : 0.7\n",
      "[[ 0  0  0  0  0  0  1]\n",
      " [ 0  1  0  0  2  0  0]\n",
      " [ 0  0  4  0  0  0  0]\n",
      " [ 0  0  0  3  0  0  1]\n",
      " [ 0  0  0  0  1  0  4]\n",
      " [ 0  0  0  0  0  9  0]\n",
      " [ 0  0  0  0  4  0 10]]\n"
     ]
    }
   ],
   "source": [
    "from sklearn.metrics import accuracy_score, precision_score, recall_score, f1_score, confusion_matrix\n",
    "\n",
    "print(\"Accuracy :\",accuracy_score(test_target, y_pred))\n",
    "print(confusion_matrix(test_target, y_pred,labels=[6,5,4,3,2,1,0]))"
   ]
  },
  {
   "cell_type": "code",
   "execution_count": 17,
   "id": "f54b4ec8",
   "metadata": {},
   "outputs": [
    {
     "name": "stderr",
     "output_type": "stream",
     "text": [
      "/home/minsuchae/.pyenv/versions/3.9.0/envs/tensorflow_gpu_2.7.0/lib/python3.9/site-packages/xgboost/sklearn.py:861: UserWarning: `eval_metric` in `fit` method is deprecated for better compatibility with scikit-learn, use `eval_metric` in constructor or`set_params` instead.\n",
      "  warnings.warn(\n",
      "/home/minsuchae/.pyenv/versions/3.9.0/envs/tensorflow_gpu_2.7.0/lib/python3.9/site-packages/xgboost/sklearn.py:861: UserWarning: `callbacks` in `fit` method is deprecated for better compatibility with scikit-learn, use `callbacks` in constructor or`set_params` instead.\n",
      "  warnings.warn(\n"
     ]
    },
    {
     "name": "stdout",
     "output_type": "stream",
     "text": [
      "[0]\tvalidation_0-merror:0.53333\n",
      "[1]\tvalidation_0-merror:0.40000\n",
      "[2]\tvalidation_0-merror:0.36667\n",
      "[3]\tvalidation_0-merror:0.30000\n",
      "[4]\tvalidation_0-merror:0.30000\n",
      "[5]\tvalidation_0-merror:0.30000\n",
      "[6]\tvalidation_0-merror:0.30000\n",
      "[7]\tvalidation_0-merror:0.30000\n",
      "[8]\tvalidation_0-merror:0.30000\n",
      "[9]\tvalidation_0-merror:0.30000\n",
      "[10]\tvalidation_0-merror:0.30000\n",
      "[11]\tvalidation_0-merror:0.30000\n",
      "[12]\tvalidation_0-merror:0.26667\n",
      "[13]\tvalidation_0-merror:0.26667\n",
      "[14]\tvalidation_0-merror:0.26667\n",
      "[15]\tvalidation_0-merror:0.26667\n",
      "[16]\tvalidation_0-merror:0.26667\n",
      "[17]\tvalidation_0-merror:0.26667\n",
      "[18]\tvalidation_0-merror:0.26667\n",
      "[19]\tvalidation_0-merror:0.26667\n",
      "[20]\tvalidation_0-merror:0.26667\n",
      "[21]\tvalidation_0-merror:0.26667\n",
      "[22]\tvalidation_0-merror:0.26667\n",
      "[23]\tvalidation_0-merror:0.26667\n",
      "[24]\tvalidation_0-merror:0.26667\n",
      "[25]\tvalidation_0-merror:0.26667\n",
      "[26]\tvalidation_0-merror:0.26667\n",
      "[27]\tvalidation_0-merror:0.26667\n",
      "[28]\tvalidation_0-merror:0.26667\n",
      "[29]\tvalidation_0-merror:0.26667\n",
      "[30]\tvalidation_0-merror:0.30000\n",
      "[31]\tvalidation_0-merror:0.26667\n",
      "[32]\tvalidation_0-merror:0.30000\n",
      "[33]\tvalidation_0-merror:0.30000\n",
      "[34]\tvalidation_0-merror:0.30000\n",
      "[35]\tvalidation_0-merror:0.30000\n",
      "[36]\tvalidation_0-merror:0.30000\n",
      "[37]\tvalidation_0-merror:0.30000\n",
      "[38]\tvalidation_0-merror:0.30000\n",
      "[39]\tvalidation_0-merror:0.30000\n",
      "[40]\tvalidation_0-merror:0.30000\n",
      "[41]\tvalidation_0-merror:0.30000\n",
      "[42]\tvalidation_0-merror:0.30000\n"
     ]
    },
    {
     "data": {
      "text/plain": [
       "XGBClassifier(base_score=0.5, booster='gbtree', callbacks=None,\n",
       "              colsample_bylevel=1, colsample_bynode=1, colsample_bytree=1,\n",
       "              early_stopping_rounds=None, enable_categorical=False,\n",
       "              eval_metric=None, feature_types=None, gamma=0, gpu_id=0,\n",
       "              grow_policy='depthwise', importance_type=None,\n",
       "              interaction_constraints='', learning_rate=0.300000012,\n",
       "              max_bin=256, max_cat_threshold=64, max_cat_to_onehot=4,\n",
       "              max_delta_step=0, max_depth=6, max_leaves=0, min_child_weight=1,\n",
       "              missing=nan, monotone_constraints='()', n_estimators=100,\n",
       "              n_jobs=0, num_parallel_tree=1, objective='multi:softprob',\n",
       "              predictor='auto', ...)"
      ]
     },
     "execution_count": 17,
     "metadata": {},
     "output_type": "execute_result"
    }
   ],
   "source": [
    "from xgboost import XGBClassifier\n",
    "from xgboost.callback import EarlyStopping\n",
    "\n",
    "clf4 = XGBClassifier(tree_method='gpu_hist', gpu_id=0)\n",
    "early_stop = EarlyStopping(rounds=30,metric_name='merror',data_name=\"validation_0\",save_best=True)\n",
    "clf4.fit(train_feature, train_target, eval_set=[(val_featue,val_target)], eval_metric='merror',callbacks=[early_stop])"
   ]
  },
  {
   "cell_type": "code",
   "execution_count": 18,
   "id": "b33097a6",
   "metadata": {},
   "outputs": [],
   "source": [
    "y_pred = clf4.predict(test_featue)"
   ]
  },
  {
   "cell_type": "code",
   "execution_count": 19,
   "id": "f15a547d",
   "metadata": {},
   "outputs": [
    {
     "name": "stdout",
     "output_type": "stream",
     "text": [
      "Accuracy : 0.65\n",
      "[[0 0 0 0 0 0 1]\n",
      " [0 1 0 0 2 0 0]\n",
      " [0 0 3 0 0 0 1]\n",
      " [0 0 0 3 0 0 1]\n",
      " [0 0 0 0 2 0 3]\n",
      " [0 0 0 0 0 9 0]\n",
      " [0 0 0 3 3 0 8]]\n"
     ]
    }
   ],
   "source": [
    "from sklearn.metrics import accuracy_score, precision_score, recall_score, f1_score, confusion_matrix\n",
    "\n",
    "print(\"Accuracy :\",accuracy_score(test_target, y_pred))\n",
    "print(confusion_matrix(test_target, y_pred,labels=[6,5,4,3,2,1,0]))"
   ]
  },
  {
   "cell_type": "code",
   "execution_count": 20,
   "id": "4d78c578",
   "metadata": {},
   "outputs": [],
   "source": [
    "from sklearn.model_selection import GridSearchCV\n",
    "from xgboost import XGBClassifier\n",
    "from xgboost.callback import EarlyStopping\n",
    "import numpy as np\n",
    "\n",
    "clf5 = XGBClassifier(tree_method='gpu_hist', gpu_id=0)\n",
    "parameters = {'gamma':np.arange(0.1,2.1,0.1),'max_depth':np.arange(1,3)}\n",
    "grid_search = GridSearchCV(clf5, param_grid=parameters, cv=5, n_jobs=-1,scoring='accuracy')"
   ]
  },
  {
   "cell_type": "code",
   "execution_count": 21,
   "id": "00efb1ee",
   "metadata": {},
   "outputs": [
    {
     "name": "stderr",
     "output_type": "stream",
     "text": [
      "/home/minsuchae/.pyenv/versions/3.9.0/envs/tensorflow_gpu_2.7.0/lib/python3.9/site-packages/sklearn/model_selection/_split.py:676: UserWarning: The least populated class in y has only 4 members, which is less than n_splits=5.\n",
      "  warnings.warn(\n"
     ]
    },
    {
     "data": {
      "text/plain": [
       "GridSearchCV(cv=5,\n",
       "             estimator=XGBClassifier(base_score=None, booster=None,\n",
       "                                     callbacks=None, colsample_bylevel=None,\n",
       "                                     colsample_bynode=None,\n",
       "                                     colsample_bytree=None,\n",
       "                                     early_stopping_rounds=None,\n",
       "                                     enable_categorical=False, eval_metric=None,\n",
       "                                     feature_types=None, gamma=None, gpu_id=0,\n",
       "                                     grow_policy=None, importance_type=None,\n",
       "                                     interaction_constraints=None,\n",
       "                                     learning_rate=None, max...\n",
       "                                     max_delta_step=None, max_depth=None,\n",
       "                                     max_leaves=None, min_child_weight=None,\n",
       "                                     missing=nan, monotone_constraints=None,\n",
       "                                     n_estimators=100, n_jobs=None,\n",
       "                                     num_parallel_tree=None, predictor=None,\n",
       "                                     random_state=None, ...),\n",
       "             n_jobs=-1,\n",
       "             param_grid={'gamma': array([0.1, 0.2, 0.3, 0.4, 0.5, 0.6, 0.7, 0.8, 0.9, 1. , 1.1, 1.2, 1.3,\n",
       "       1.4, 1.5, 1.6, 1.7, 1.8, 1.9, 2. ]),\n",
       "                         'max_depth': array([1, 2])},\n",
       "             scoring='accuracy')"
      ]
     },
     "execution_count": 21,
     "metadata": {},
     "output_type": "execute_result"
    }
   ],
   "source": [
    "grid_search.fit(train_feature, train_target)"
   ]
  },
  {
   "cell_type": "code",
   "execution_count": 22,
   "id": "5f234c62",
   "metadata": {},
   "outputs": [
    {
     "data": {
      "text/plain": [
       "{'gamma': 0.1, 'max_depth': 1}"
      ]
     },
     "execution_count": 22,
     "metadata": {},
     "output_type": "execute_result"
    }
   ],
   "source": [
    "grid_search.best_params_"
   ]
  },
  {
   "cell_type": "code",
   "execution_count": 23,
   "id": "8045474c",
   "metadata": {},
   "outputs": [],
   "source": [
    "clf5 = grid_search.best_estimator_"
   ]
  },
  {
   "cell_type": "code",
   "execution_count": 24,
   "id": "06a63926",
   "metadata": {},
   "outputs": [],
   "source": [
    "y_pred = clf5.predict(test_featue)"
   ]
  },
  {
   "cell_type": "code",
   "execution_count": 25,
   "id": "b17f8b0b",
   "metadata": {},
   "outputs": [
    {
     "name": "stdout",
     "output_type": "stream",
     "text": [
      "Accuracy : 0.725\n",
      "[[ 0  0  0  0  1  0  0]\n",
      " [ 0  1  0  0  2  0  0]\n",
      " [ 0  0  4  0  0  0  0]\n",
      " [ 0  0  0  3  0  0  1]\n",
      " [ 0  0  0  0  2  0  3]\n",
      " [ 0  0  0  0  0  9  0]\n",
      " [ 0  0  0  1  3  0 10]]\n"
     ]
    }
   ],
   "source": [
    "from sklearn.metrics import accuracy_score, precision_score, recall_score, f1_score, confusion_matrix\n",
    "\n",
    "print(\"Accuracy :\",accuracy_score(test_target, y_pred))\n",
    "print(confusion_matrix(test_target, y_pred,labels=[6,5,4,3,2,1,0]))"
   ]
  }
 ],
 "metadata": {
  "kernelspec": {
   "display_name": "tensorflow gpu 2.7.0",
   "language": "python",
   "name": "tensorflow_gpu_2.7.0"
  },
  "language_info": {
   "codemirror_mode": {
    "name": "ipython",
    "version": 3
   },
   "file_extension": ".py",
   "mimetype": "text/x-python",
   "name": "python",
   "nbconvert_exporter": "python",
   "pygments_lexer": "ipython3",
   "version": "3.9.0"
  }
 },
 "nbformat": 4,
 "nbformat_minor": 5
}
