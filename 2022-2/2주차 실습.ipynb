{
  "nbformat": 4,
  "nbformat_minor": 0,
  "metadata": {
    "colab": {
      "provenance": [],
      "collapsed_sections": []
    },
    "kernelspec": {
      "name": "python3",
      "display_name": "Python 3"
    },
    "language_info": {
      "name": "python"
    }
  },
  "cells": [
    {
      "cell_type": "markdown",
      "source": [
        "## 파이썬의 자료형 타입"
      ],
      "metadata": {
        "id": "nI5LyD1LBfOO"
      }
    },
    {
      "cell_type": "markdown",
      "source": [
        "### 숫자 타입"
      ],
      "metadata": {
        "id": "4B4GmGMGBjYh"
      }
    },
    {
      "cell_type": "code",
      "execution_count": 1,
      "metadata": {
        "id": "uacie9bAYhKj",
        "outputId": "18c296b4-95c9-4210-afa1-47f67c8e5f06",
        "colab": {
          "base_uri": "https://localhost:8080/"
        }
      },
      "outputs": [
        {
          "output_type": "stream",
          "name": "stdout",
          "text": [
            "-1\n"
          ]
        }
      ],
      "source": [
        "print(1-2)"
      ]
    },
    {
      "cell_type": "code",
      "source": [
        "print(1+2)"
      ],
      "metadata": {
        "colab": {
          "base_uri": "https://localhost:8080/"
        },
        "id": "x6S1ri3zB10-",
        "outputId": "c87f4deb-6887-4524-e7b2-f737819c5527"
      },
      "execution_count": 2,
      "outputs": [
        {
          "output_type": "stream",
          "name": "stdout",
          "text": [
            "3\n"
          ]
        }
      ]
    },
    {
      "cell_type": "code",
      "source": [
        "print(-2147483648-1)"
      ],
      "metadata": {
        "colab": {
          "base_uri": "https://localhost:8080/"
        },
        "id": "DZueoCnfB3QC",
        "outputId": "2b23404a-cfa8-4dae-cf43-2dcd6af888c9"
      },
      "execution_count": 3,
      "outputs": [
        {
          "output_type": "stream",
          "name": "stdout",
          "text": [
            "-2147483649\n"
          ]
        }
      ]
    },
    {
      "cell_type": "code",
      "source": [
        "print(type(-2147483648-1))"
      ],
      "metadata": {
        "colab": {
          "base_uri": "https://localhost:8080/"
        },
        "id": "SU4vWZTdB4hK",
        "outputId": "fe15ddb5-1fb0-406d-83c3-7f54dd803d2a"
      },
      "execution_count": 4,
      "outputs": [
        {
          "output_type": "stream",
          "name": "stdout",
          "text": [
            "<class 'int'>\n"
          ]
        }
      ]
    },
    {
      "cell_type": "code",
      "source": [
        "print(2147483647+1)"
      ],
      "metadata": {
        "colab": {
          "base_uri": "https://localhost:8080/"
        },
        "id": "CRGFP3DjB53l",
        "outputId": "a0cb6ab7-6729-478b-f372-a8d5fbb8e54c"
      },
      "execution_count": 5,
      "outputs": [
        {
          "output_type": "stream",
          "name": "stdout",
          "text": [
            "2147483648\n"
          ]
        }
      ]
    },
    {
      "cell_type": "code",
      "source": [
        "print(type(2147483647+1))"
      ],
      "metadata": {
        "colab": {
          "base_uri": "https://localhost:8080/"
        },
        "id": "MomLvrPJB7jE",
        "outputId": "a1081a47-c908-4ffa-d22e-c7dba340bbe2"
      },
      "execution_count": 6,
      "outputs": [
        {
          "output_type": "stream",
          "name": "stdout",
          "text": [
            "<class 'int'>\n"
          ]
        }
      ]
    },
    {
      "cell_type": "markdown",
      "source": [
        "### 문자타입"
      ],
      "metadata": {
        "id": "I4UY7FGeBqVQ"
      }
    },
    {
      "cell_type": "code",
      "source": [
        "print('a')"
      ],
      "metadata": {
        "id": "Fa2IAOw6YktJ",
        "colab": {
          "base_uri": "https://localhost:8080/"
        },
        "outputId": "4f5233e9-2520-4f39-88c2-ce76d3d6737c"
      },
      "execution_count": 7,
      "outputs": [
        {
          "output_type": "stream",
          "name": "stdout",
          "text": [
            "a\n"
          ]
        }
      ]
    },
    {
      "cell_type": "code",
      "source": [
        "print(type('a'))"
      ],
      "metadata": {
        "colab": {
          "base_uri": "https://localhost:8080/"
        },
        "id": "98Lcg3RPB9a0",
        "outputId": "d006a036-7ed7-418c-cf5c-659d7be103b4"
      },
      "execution_count": 8,
      "outputs": [
        {
          "output_type": "stream",
          "name": "stdout",
          "text": [
            "<class 'str'>\n"
          ]
        }
      ]
    },
    {
      "cell_type": "code",
      "source": [
        "print(\"alphabet\")"
      ],
      "metadata": {
        "colab": {
          "base_uri": "https://localhost:8080/"
        },
        "id": "8XiZGT7_B-7y",
        "outputId": "da7d3cae-4d85-4d42-a81f-cf6203e57c09"
      },
      "execution_count": 9,
      "outputs": [
        {
          "output_type": "stream",
          "name": "stdout",
          "text": [
            "alphabet\n"
          ]
        }
      ]
    },
    {
      "cell_type": "code",
      "source": [
        "print(type(\"alphabet\"))"
      ],
      "metadata": {
        "colab": {
          "base_uri": "https://localhost:8080/"
        },
        "id": "Or0XAezZCAcc",
        "outputId": "25da8b6e-0ec6-4cd8-85eb-e01150a5c928"
      },
      "execution_count": 10,
      "outputs": [
        {
          "output_type": "stream",
          "name": "stdout",
          "text": [
            "<class 'str'>\n"
          ]
        }
      ]
    },
    {
      "cell_type": "code",
      "source": [
        "string = '''line1\n",
        "line2\n",
        "line3'''"
      ],
      "metadata": {
        "id": "9nN8pMW1CB-H"
      },
      "execution_count": 11,
      "outputs": []
    },
    {
      "cell_type": "code",
      "source": [
        "print(string)"
      ],
      "metadata": {
        "colab": {
          "base_uri": "https://localhost:8080/"
        },
        "id": "s2QhIROKCDoo",
        "outputId": "098a54cc-82d1-441c-b0ef-fced5f985d4c"
      },
      "execution_count": 12,
      "outputs": [
        {
          "output_type": "stream",
          "name": "stdout",
          "text": [
            "line1\n",
            "line2\n",
            "line3\n"
          ]
        }
      ]
    },
    {
      "cell_type": "code",
      "source": [
        "print(type(string))"
      ],
      "metadata": {
        "colab": {
          "base_uri": "https://localhost:8080/"
        },
        "id": "QdOQvtmLCFUc",
        "outputId": "6badbd07-6754-4acb-a03e-f07a0170ddb1"
      },
      "execution_count": 13,
      "outputs": [
        {
          "output_type": "stream",
          "name": "stdout",
          "text": [
            "<class 'str'>\n"
          ]
        }
      ]
    },
    {
      "cell_type": "code",
      "source": [
        "string=\"\"\"line1\n",
        "line2\n",
        "line3\"\"\""
      ],
      "metadata": {
        "id": "g182Qaf_CHGE"
      },
      "execution_count": 14,
      "outputs": []
    },
    {
      "cell_type": "code",
      "source": [
        "print(string)"
      ],
      "metadata": {
        "colab": {
          "base_uri": "https://localhost:8080/"
        },
        "id": "vXr_ai9ICJRE",
        "outputId": "b8e0c026-c619-4842-d12b-7fbe14ac67b2"
      },
      "execution_count": 15,
      "outputs": [
        {
          "output_type": "stream",
          "name": "stdout",
          "text": [
            "line1\n",
            "line2\n",
            "line3\n"
          ]
        }
      ]
    },
    {
      "cell_type": "code",
      "source": [
        "print(type(string))"
      ],
      "metadata": {
        "colab": {
          "base_uri": "https://localhost:8080/"
        },
        "id": "swy4594JCK5i",
        "outputId": "61dcb059-0297-4eb6-9fd3-7c1bcada8840"
      },
      "execution_count": 16,
      "outputs": [
        {
          "output_type": "stream",
          "name": "stdout",
          "text": [
            "<class 'str'>\n"
          ]
        }
      ]
    },
    {
      "cell_type": "markdown",
      "source": [
        "### 날짜 타입"
      ],
      "metadata": {
        "id": "5NYoigGABzqm"
      }
    },
    {
      "cell_type": "code",
      "source": [
        "import datetime"
      ],
      "metadata": {
        "id": "vEhNnhBYBuEC"
      },
      "execution_count": 17,
      "outputs": []
    },
    {
      "cell_type": "code",
      "source": [
        "date = datetime.datetime.strptime('2022-09-13', \"%Y-%m-%d\")"
      ],
      "metadata": {
        "id": "8oCey9Z0CSCq"
      },
      "execution_count": 18,
      "outputs": []
    },
    {
      "cell_type": "code",
      "source": [
        "print(date)"
      ],
      "metadata": {
        "colab": {
          "base_uri": "https://localhost:8080/"
        },
        "id": "v9eQiC68CUpC",
        "outputId": "629e4ac1-9ab0-4ab9-f726-3fe454324136"
      },
      "execution_count": 19,
      "outputs": [
        {
          "output_type": "stream",
          "name": "stdout",
          "text": [
            "2022-09-13 00:00:00\n"
          ]
        }
      ]
    },
    {
      "cell_type": "code",
      "source": [
        "print(type(date))"
      ],
      "metadata": {
        "colab": {
          "base_uri": "https://localhost:8080/"
        },
        "id": "7qJNnqLUCVaS",
        "outputId": "faad9477-7aa8-434c-bf05-1cec2399fb2d"
      },
      "execution_count": 20,
      "outputs": [
        {
          "output_type": "stream",
          "name": "stdout",
          "text": [
            "<class 'datetime.datetime'>\n"
          ]
        }
      ]
    },
    {
      "cell_type": "markdown",
      "source": [
        "## 자료 구조"
      ],
      "metadata": {
        "id": "IocYCis-CYcr"
      }
    },
    {
      "cell_type": "markdown",
      "source": [
        "### List"
      ],
      "metadata": {
        "id": "5YUY4u_dCa7r"
      }
    },
    {
      "cell_type": "code",
      "source": [
        "a = [1,2,3,[4,5,6]]\n",
        "print(a)"
      ],
      "metadata": {
        "colab": {
          "base_uri": "https://localhost:8080/"
        },
        "id": "CdT85tcTCdDc",
        "outputId": "b4e09816-e032-4ec8-e129-48cacab823fe"
      },
      "execution_count": 21,
      "outputs": [
        {
          "output_type": "stream",
          "name": "stdout",
          "text": [
            "[1, 2, 3, [4, 5, 6]]\n"
          ]
        }
      ]
    },
    {
      "cell_type": "code",
      "source": [
        "data = [\n",
        "    [1, 170, 100, 130, 120, 100],\n",
        "    [2, 160, 80, 110, 100, 105],\n",
        "    [3, 150, 40, 100, 70, 80]\n",
        "]\n",
        "print(data)"
      ],
      "metadata": {
        "colab": {
          "base_uri": "https://localhost:8080/"
        },
        "id": "MsdPf1BVCfL5",
        "outputId": "20e958f7-42cc-4193-efca-fcaecdd5ecac"
      },
      "execution_count": 22,
      "outputs": [
        {
          "output_type": "stream",
          "name": "stdout",
          "text": [
            "[[1, 170, 100, 130, 120, 100], [2, 160, 80, 110, 100, 105], [3, 150, 40, 100, 70, 80]]\n"
          ]
        }
      ]
    },
    {
      "cell_type": "markdown",
      "source": [
        "### Tuple"
      ],
      "metadata": {
        "id": "q1heYyDfClyj"
      }
    },
    {
      "cell_type": "code",
      "source": [
        "x = 10\n",
        "y = 5\n",
        "tmp = x\n",
        "x = y\n",
        "y = tmp\n",
        "print(x, y)"
      ],
      "metadata": {
        "colab": {
          "base_uri": "https://localhost:8080/"
        },
        "id": "5l-FlKAqCgTR",
        "outputId": "56b45475-b07b-4670-f6aa-9bb304866290"
      },
      "execution_count": 23,
      "outputs": [
        {
          "output_type": "stream",
          "name": "stdout",
          "text": [
            "5 10\n"
          ]
        }
      ]
    },
    {
      "cell_type": "code",
      "source": [
        "x = 10\n",
        "y = 5\n",
        "x, y = y, x\n",
        "print(x, y)"
      ],
      "metadata": {
        "colab": {
          "base_uri": "https://localhost:8080/"
        },
        "id": "HodKlv2YCpsa",
        "outputId": "532061af-eddb-4f6a-c118-15370b33ccd5"
      },
      "execution_count": 24,
      "outputs": [
        {
          "output_type": "stream",
          "name": "stdout",
          "text": [
            "5 10\n"
          ]
        }
      ]
    },
    {
      "cell_type": "markdown",
      "source": [
        "### Set"
      ],
      "metadata": {
        "id": "bTwR59PrCvRJ"
      }
    },
    {
      "cell_type": "code",
      "source": [
        "my_list = [1,1,2,3,4,5,6,7,8]\n",
        "my_set = set([1,1,2,3,4,5,6,7,8])"
      ],
      "metadata": {
        "id": "ntfC_rdhCrkR"
      },
      "execution_count": 25,
      "outputs": []
    },
    {
      "cell_type": "code",
      "source": [
        "print(my_list)"
      ],
      "metadata": {
        "colab": {
          "base_uri": "https://localhost:8080/"
        },
        "id": "kPZswUA2Du0d",
        "outputId": "4a450c78-25cf-4b6d-a871-76ed3d32d859"
      },
      "execution_count": 26,
      "outputs": [
        {
          "output_type": "stream",
          "name": "stdout",
          "text": [
            "[1, 1, 2, 3, 4, 5, 6, 7, 8]\n"
          ]
        }
      ]
    },
    {
      "cell_type": "code",
      "source": [
        "print(my_set)"
      ],
      "metadata": {
        "colab": {
          "base_uri": "https://localhost:8080/"
        },
        "id": "7xVAGaCFDvsw",
        "outputId": "3511aa42-ca13-4616-bd8b-55e5ba0d8579"
      },
      "execution_count": 27,
      "outputs": [
        {
          "output_type": "stream",
          "name": "stdout",
          "text": [
            "{1, 2, 3, 4, 5, 6, 7, 8}\n"
          ]
        }
      ]
    },
    {
      "cell_type": "markdown",
      "source": [
        "### Dictionary"
      ],
      "metadata": {
        "id": "pNyo5XFXC2VQ"
      }
    },
    {
      "cell_type": "code",
      "source": [
        "dictionary = {'홍길동':'홍길동@customdomain.net', '아무개':'아무개@customdomain.net'}"
      ],
      "metadata": {
        "id": "RPu5l59LC1DJ"
      },
      "execution_count": 28,
      "outputs": []
    },
    {
      "cell_type": "code",
      "source": [
        "print(dictionary['홍길동'])"
      ],
      "metadata": {
        "colab": {
          "base_uri": "https://localhost:8080/"
        },
        "id": "XLjkZKVoC8Jp",
        "outputId": "01507f68-b1c2-4a03-eff0-35f2963b9db0"
      },
      "execution_count": 29,
      "outputs": [
        {
          "output_type": "stream",
          "name": "stdout",
          "text": [
            "홍길동@customdomain.net\n"
          ]
        }
      ]
    },
    {
      "cell_type": "code",
      "source": [
        "print(dictionary['채민수'])"
      ],
      "metadata": {
        "colab": {
          "base_uri": "https://localhost:8080/",
          "height": 174
        },
        "id": "1TucddJrC89J",
        "outputId": "8206c9bc-ab1e-4a18-8299-0fd923163ca6"
      },
      "execution_count": 30,
      "outputs": [
        {
          "output_type": "error",
          "ename": "KeyError",
          "evalue": "ignored",
          "traceback": [
            "\u001b[0;31m---------------------------------------------------------------------------\u001b[0m",
            "\u001b[0;31mKeyError\u001b[0m                                  Traceback (most recent call last)",
            "\u001b[0;32m<ipython-input-30-f6158b57e5a7>\u001b[0m in \u001b[0;36m<module>\u001b[0;34m\u001b[0m\n\u001b[0;32m----> 1\u001b[0;31m \u001b[0mprint\u001b[0m\u001b[0;34m(\u001b[0m\u001b[0mdictionary\u001b[0m\u001b[0;34m[\u001b[0m\u001b[0;34m'채민수'\u001b[0m\u001b[0;34m]\u001b[0m\u001b[0;34m)\u001b[0m\u001b[0;34m\u001b[0m\u001b[0;34m\u001b[0m\u001b[0m\n\u001b[0m",
            "\u001b[0;31mKeyError\u001b[0m: '채민수'"
          ]
        }
      ]
    },
    {
      "cell_type": "markdown",
      "source": [
        "## 연산자"
      ],
      "metadata": {
        "id": "HPD0u8K2DA8D"
      }
    },
    {
      "cell_type": "markdown",
      "source": [
        "### 산술 연산자"
      ],
      "metadata": {
        "id": "paNyaDFSDC7d"
      }
    },
    {
      "cell_type": "code",
      "source": [
        "a = 5\n",
        "b = 3"
      ],
      "metadata": {
        "id": "FGKLrf4VC_GC"
      },
      "execution_count": 31,
      "outputs": []
    },
    {
      "cell_type": "code",
      "source": [
        "print(a+b)"
      ],
      "metadata": {
        "colab": {
          "base_uri": "https://localhost:8080/"
        },
        "id": "7p6mTDH3DtQq",
        "outputId": "7fa69c7f-2811-4d56-bef8-46a91eadcce2"
      },
      "execution_count": 32,
      "outputs": [
        {
          "output_type": "stream",
          "name": "stdout",
          "text": [
            "8\n"
          ]
        }
      ]
    },
    {
      "cell_type": "code",
      "source": [
        "print(a-b)"
      ],
      "metadata": {
        "colab": {
          "base_uri": "https://localhost:8080/"
        },
        "id": "G3N_ul-PDsO8",
        "outputId": "bf93463d-f2a4-473e-9e4e-340418f360ca"
      },
      "execution_count": 33,
      "outputs": [
        {
          "output_type": "stream",
          "name": "stdout",
          "text": [
            "2\n"
          ]
        }
      ]
    },
    {
      "cell_type": "code",
      "source": [
        "print(a * b)"
      ],
      "metadata": {
        "colab": {
          "base_uri": "https://localhost:8080/"
        },
        "id": "5GKc-t-EDMBy",
        "outputId": "41666e83-f197-4091-aec3-542196659e4c"
      },
      "execution_count": 34,
      "outputs": [
        {
          "output_type": "stream",
          "name": "stdout",
          "text": [
            "15\n"
          ]
        }
      ]
    },
    {
      "cell_type": "code",
      "source": [
        "print(a ** b)"
      ],
      "metadata": {
        "colab": {
          "base_uri": "https://localhost:8080/"
        },
        "id": "rwRpdzGWDNoS",
        "outputId": "526d63ad-3f5f-480c-d7e9-1b8fa61fac36"
      },
      "execution_count": 35,
      "outputs": [
        {
          "output_type": "stream",
          "name": "stdout",
          "text": [
            "125\n"
          ]
        }
      ]
    },
    {
      "cell_type": "code",
      "source": [
        "a = 5\n",
        "b = '3'\n",
        "print(a+b)"
      ],
      "metadata": {
        "colab": {
          "base_uri": "https://localhost:8080/",
          "height": 211
        },
        "id": "OI_IKAIRDPdq",
        "outputId": "534162f4-9a00-43ad-d24f-90578138e1af"
      },
      "execution_count": 36,
      "outputs": [
        {
          "output_type": "error",
          "ename": "TypeError",
          "evalue": "ignored",
          "traceback": [
            "\u001b[0;31m---------------------------------------------------------------------------\u001b[0m",
            "\u001b[0;31mTypeError\u001b[0m                                 Traceback (most recent call last)",
            "\u001b[0;32m<ipython-input-36-7f9e23877c55>\u001b[0m in \u001b[0;36m<module>\u001b[0;34m\u001b[0m\n\u001b[1;32m      1\u001b[0m \u001b[0ma\u001b[0m \u001b[0;34m=\u001b[0m \u001b[0;36m5\u001b[0m\u001b[0;34m\u001b[0m\u001b[0;34m\u001b[0m\u001b[0m\n\u001b[1;32m      2\u001b[0m \u001b[0mb\u001b[0m \u001b[0;34m=\u001b[0m \u001b[0;34m'3'\u001b[0m\u001b[0;34m\u001b[0m\u001b[0;34m\u001b[0m\u001b[0m\n\u001b[0;32m----> 3\u001b[0;31m \u001b[0mprint\u001b[0m\u001b[0;34m(\u001b[0m\u001b[0ma\u001b[0m\u001b[0;34m+\u001b[0m\u001b[0mb\u001b[0m\u001b[0;34m)\u001b[0m\u001b[0;34m\u001b[0m\u001b[0;34m\u001b[0m\u001b[0m\n\u001b[0m",
            "\u001b[0;31mTypeError\u001b[0m: unsupported operand type(s) for +: 'int' and 'str'"
          ]
        }
      ]
    },
    {
      "cell_type": "code",
      "source": [
        "print(a+int(b))"
      ],
      "metadata": {
        "colab": {
          "base_uri": "https://localhost:8080/"
        },
        "id": "QB3hN9EuDS9y",
        "outputId": "c81b1c7c-c8d9-4b25-f0e7-0f2e018c6346"
      },
      "execution_count": 37,
      "outputs": [
        {
          "output_type": "stream",
          "name": "stdout",
          "text": [
            "8\n"
          ]
        }
      ]
    },
    {
      "cell_type": "markdown",
      "source": [
        "### 복합 산술 연산자"
      ],
      "metadata": {
        "id": "MJUUkH-6DXIK"
      }
    },
    {
      "cell_type": "code",
      "source": [
        "result = 0\n",
        "result += 2\n",
        "print(result)"
      ],
      "metadata": {
        "colab": {
          "base_uri": "https://localhost:8080/"
        },
        "id": "EV_3sA9HDU9K",
        "outputId": "18c5cf7b-63de-418e-8dc8-6c66c1cbf7b1"
      },
      "execution_count": 38,
      "outputs": [
        {
          "output_type": "stream",
          "name": "stdout",
          "text": [
            "2\n"
          ]
        }
      ]
    },
    {
      "cell_type": "markdown",
      "source": [
        "### 비교 연산자"
      ],
      "metadata": {
        "id": "08-bep3uDc0g"
      }
    },
    {
      "cell_type": "code",
      "source": [
        "import datetime\n",
        "\n",
        "today = datetime.datetime.strptime('2022-09-13', \"%Y-%m-%d\")\n",
        "tomorrow = datetime.datetime.strptime('2022-09-14', \"%Y-%m-%d\")\n",
        "print(today < tomorrow)"
      ],
      "metadata": {
        "colab": {
          "base_uri": "https://localhost:8080/"
        },
        "id": "HO10TAXmDa7y",
        "outputId": "f989c767-f356-44e3-f254-4f59d201e983"
      },
      "execution_count": 39,
      "outputs": [
        {
          "output_type": "stream",
          "name": "stdout",
          "text": [
            "True\n"
          ]
        }
      ]
    },
    {
      "cell_type": "code",
      "source": [
        "import datetime\n",
        "\n",
        "yesterday = datetime.datetime.strptime('2022-09-12', \"%Y-%m-%d\")\n",
        "today = datetime.datetime.strptime('2022-09-13', \"%Y-%m-%d\")\n",
        "tomorrow = datetime.datetime.strptime('2022-09-14', \"%Y-%m-%d\")\n",
        "print(yesterday < today < tomorrow)"
      ],
      "metadata": {
        "colab": {
          "base_uri": "https://localhost:8080/"
        },
        "id": "8qEm7OlMDfSS",
        "outputId": "047ecd38-6536-4f38-928d-b76be43efb4b"
      },
      "execution_count": 40,
      "outputs": [
        {
          "output_type": "stream",
          "name": "stdout",
          "text": [
            "True\n"
          ]
        }
      ]
    },
    {
      "cell_type": "markdown",
      "source": [
        "### 식별 연산자"
      ],
      "metadata": {
        "id": "_XxvqbL7DjHI"
      }
    },
    {
      "cell_type": "code",
      "source": [
        "a = 10\n",
        "b = 10\n",
        "c = 10.0"
      ],
      "metadata": {
        "id": "uKQUejl6Dgrq"
      },
      "execution_count": 41,
      "outputs": []
    },
    {
      "cell_type": "code",
      "source": [
        "print(a == b)"
      ],
      "metadata": {
        "colab": {
          "base_uri": "https://localhost:8080/"
        },
        "id": "6h4L_9oQDnSi",
        "outputId": "eb3a27ad-2419-4ea5-f7f5-140467308b9c"
      },
      "execution_count": 42,
      "outputs": [
        {
          "output_type": "stream",
          "name": "stdout",
          "text": [
            "True\n"
          ]
        }
      ]
    },
    {
      "cell_type": "code",
      "source": [
        "print(a is b)"
      ],
      "metadata": {
        "colab": {
          "base_uri": "https://localhost:8080/"
        },
        "id": "axuHVmFzDoCS",
        "outputId": "9aa7ca87-38a2-4712-c200-14258747d62c"
      },
      "execution_count": 43,
      "outputs": [
        {
          "output_type": "stream",
          "name": "stdout",
          "text": [
            "True\n"
          ]
        }
      ]
    },
    {
      "cell_type": "code",
      "source": [
        "print(a == c)"
      ],
      "metadata": {
        "colab": {
          "base_uri": "https://localhost:8080/"
        },
        "id": "008Zjlo7DpIq",
        "outputId": "22d29e66-ecc0-402f-ce3c-75d4618c7716"
      },
      "execution_count": 44,
      "outputs": [
        {
          "output_type": "stream",
          "name": "stdout",
          "text": [
            "True\n"
          ]
        }
      ]
    },
    {
      "cell_type": "code",
      "source": [
        "print(a is c)"
      ],
      "metadata": {
        "colab": {
          "base_uri": "https://localhost:8080/"
        },
        "id": "J5vqn30dDp8a",
        "outputId": "ef6f55d6-054c-43f1-f0b8-31518c7ae9f3"
      },
      "execution_count": 45,
      "outputs": [
        {
          "output_type": "stream",
          "name": "stdout",
          "text": [
            "False\n"
          ]
        }
      ]
    },
    {
      "cell_type": "markdown",
      "source": [
        "### 멤버 연산자"
      ],
      "metadata": {
        "id": "y1Gq9UM9D2NW"
      }
    },
    {
      "cell_type": "code",
      "source": [
        "dictionary = {'홍길동':'홍길동@customdomain.net', '아무개':'아무개@customdomain.net'}"
      ],
      "metadata": {
        "id": "9m9fW4BNDqdK"
      },
      "execution_count": 46,
      "outputs": []
    },
    {
      "cell_type": "code",
      "source": [
        "print('홍길동' in dictionary)"
      ],
      "metadata": {
        "colab": {
          "base_uri": "https://localhost:8080/"
        },
        "id": "a46wYk2nD4YK",
        "outputId": "8d97e788-6486-4ea5-cd6e-dbd0f0e03ed8"
      },
      "execution_count": 47,
      "outputs": [
        {
          "output_type": "stream",
          "name": "stdout",
          "text": [
            "True\n"
          ]
        }
      ]
    },
    {
      "cell_type": "code",
      "source": [
        "print('채민수' in dictionary)"
      ],
      "metadata": {
        "colab": {
          "base_uri": "https://localhost:8080/"
        },
        "id": "CU65TqI5D44q",
        "outputId": "033dd89f-13fe-4123-e426-1424a8728044"
      },
      "execution_count": 48,
      "outputs": [
        {
          "output_type": "stream",
          "name": "stdout",
          "text": [
            "False\n"
          ]
        }
      ]
    },
    {
      "cell_type": "markdown",
      "source": [
        "## 조건문"
      ],
      "metadata": {
        "id": "fFgzFdOpD8mz"
      }
    },
    {
      "cell_type": "markdown",
      "source": [
        "### if문"
      ],
      "metadata": {
        "id": "qhIK0oF5D9qQ"
      }
    },
    {
      "cell_type": "code",
      "source": [
        "data = [\n",
        "    [1, 170, 100, 130, 120, 100],\n",
        "    [1, 170, 100, 130, 120, 103],\n",
        "    [1, 170, 100, 130, 120, 105],\n",
        "    [2, None, None, 110, 100, 105],\n",
        "    [2, None, None, 110, 100, 102],\n",
        "    [2, 160, 80, 110, 100, 103],\n",
        "    [3, None, None, 100, 70, 80],\n",
        "    [3, None, None, 100, 70, 85],\n",
        "    [3, None, None, 100, 70, 90]\n",
        "]\n",
        "print(data)"
      ],
      "metadata": {
        "colab": {
          "base_uri": "https://localhost:8080/"
        },
        "id": "WQ0vk8iZD5Os",
        "outputId": "6129ca98-83e2-40dd-bc23-c59502961515"
      },
      "execution_count": 49,
      "outputs": [
        {
          "output_type": "stream",
          "name": "stdout",
          "text": [
            "[[1, 170, 100, 130, 120, 100], [1, 170, 100, 130, 120, 103], [1, 170, 100, 130, 120, 105], [2, None, None, 110, 100, 105], [2, None, None, 110, 100, 102], [2, 160, 80, 110, 100, 103], [3, None, None, 100, 70, 80], [3, None, None, 100, 70, 85], [3, None, None, 100, 70, 90]]\n"
          ]
        }
      ]
    },
    {
      "cell_type": "code",
      "source": [
        "my_dictionary = {}\n",
        "my_dictionary[1] = {'height':170, 'weight':100}\n",
        "my_dictionary[2] = {'height':160, 'weight':80}\n",
        "my_dictionary[3] = {}"
      ],
      "metadata": {
        "id": "639P9ptMEBPi"
      },
      "execution_count": 50,
      "outputs": []
    },
    {
      "cell_type": "code",
      "source": [
        "data[3][1] = my_dictionary[2]['height']\n",
        "data[3][2] = my_dictionary[2]['weight']\n",
        "data[4][1] = my_dictionary[2]['height']\n",
        "data[4][2] = my_dictionary[2]['weight']"
      ],
      "metadata": {
        "id": "hIqVqeRTED-6"
      },
      "execution_count": 51,
      "outputs": []
    },
    {
      "cell_type": "code",
      "source": [
        "print(data)"
      ],
      "metadata": {
        "colab": {
          "base_uri": "https://localhost:8080/"
        },
        "id": "kHxR2HekEF4i",
        "outputId": "090336e9-3724-4492-85ef-08995e062235"
      },
      "execution_count": 52,
      "outputs": [
        {
          "output_type": "stream",
          "name": "stdout",
          "text": [
            "[[1, 170, 100, 130, 120, 100], [1, 170, 100, 130, 120, 103], [1, 170, 100, 130, 120, 105], [2, 160, 80, 110, 100, 105], [2, 160, 80, 110, 100, 102], [2, 160, 80, 110, 100, 103], [3, None, None, 100, 70, 80], [3, None, None, 100, 70, 85], [3, None, None, 100, 70, 90]]\n"
          ]
        }
      ]
    },
    {
      "cell_type": "code",
      "source": [
        "data[5][1] = my_dictionary[3]['height']\n",
        "data[5][2] = my_dictionary[3]['weight']"
      ],
      "metadata": {
        "colab": {
          "base_uri": "https://localhost:8080/",
          "height": 193
        },
        "id": "pehnJ7ZaEKka",
        "outputId": "c225e7c0-c8fe-4d18-ccf4-907a2dc616a0"
      },
      "execution_count": 53,
      "outputs": [
        {
          "output_type": "error",
          "ename": "KeyError",
          "evalue": "ignored",
          "traceback": [
            "\u001b[0;31m---------------------------------------------------------------------------\u001b[0m",
            "\u001b[0;31mKeyError\u001b[0m                                  Traceback (most recent call last)",
            "\u001b[0;32m<ipython-input-53-04aedbc14c10>\u001b[0m in \u001b[0;36m<module>\u001b[0;34m\u001b[0m\n\u001b[0;32m----> 1\u001b[0;31m \u001b[0mdata\u001b[0m\u001b[0;34m[\u001b[0m\u001b[0;36m5\u001b[0m\u001b[0;34m]\u001b[0m\u001b[0;34m[\u001b[0m\u001b[0;36m1\u001b[0m\u001b[0;34m]\u001b[0m \u001b[0;34m=\u001b[0m \u001b[0mmy_dictionary\u001b[0m\u001b[0;34m[\u001b[0m\u001b[0;36m3\u001b[0m\u001b[0;34m]\u001b[0m\u001b[0;34m[\u001b[0m\u001b[0;34m'height'\u001b[0m\u001b[0;34m]\u001b[0m\u001b[0;34m\u001b[0m\u001b[0;34m\u001b[0m\u001b[0m\n\u001b[0m\u001b[1;32m      2\u001b[0m \u001b[0mdata\u001b[0m\u001b[0;34m[\u001b[0m\u001b[0;36m5\u001b[0m\u001b[0;34m]\u001b[0m\u001b[0;34m[\u001b[0m\u001b[0;36m2\u001b[0m\u001b[0;34m]\u001b[0m \u001b[0;34m=\u001b[0m \u001b[0mmy_dictionary\u001b[0m\u001b[0;34m[\u001b[0m\u001b[0;36m3\u001b[0m\u001b[0;34m]\u001b[0m\u001b[0;34m[\u001b[0m\u001b[0;34m'weight'\u001b[0m\u001b[0;34m]\u001b[0m\u001b[0;34m\u001b[0m\u001b[0;34m\u001b[0m\u001b[0m\n",
            "\u001b[0;31mKeyError\u001b[0m: 'height'"
          ]
        }
      ]
    },
    {
      "cell_type": "code",
      "source": [
        "if 'height' in my_dictionary[3]:\n",
        "    data[5][1] = my_dictionary[3]['height']\n",
        "else:\n",
        "    print('Patient 3 does not exist height.')\n",
        "if 'weight' in my_dictionary[3]:\n",
        "    data[5][1] = my_dictionary[3]['weight']\n",
        "else:\n",
        "    print('Patient 3 does not exist weight.')"
      ],
      "metadata": {
        "colab": {
          "base_uri": "https://localhost:8080/"
        },
        "id": "cnjRnXkFEPnq",
        "outputId": "2db55315-6c12-49fe-fb45-0fcff5f6ea96"
      },
      "execution_count": 54,
      "outputs": [
        {
          "output_type": "stream",
          "name": "stdout",
          "text": [
            "Patient 3 does not exist height.\n",
            "Patient 3 does not exist weight.\n"
          ]
        }
      ]
    },
    {
      "cell_type": "code",
      "source": [
        "data = [\n",
        "    [1, 170, 100, 130, 120, 100, None],\n",
        "    [2, 160, 80, 110, 100, 105, None],\n",
        "    [3, 150, 40, 100, 70, 80, None]\n",
        "]\n",
        "diseasePatients = [2]\n",
        "\n",
        "data[0][6] = 1 if data[0][0] in diseasePatients else 0\n",
        "data[1][6] = 1 if data[1][0] in diseasePatients else 0\n",
        "data[2][6] = 1 if data[2][0] in diseasePatients else 0\n",
        "print(data)"
      ],
      "metadata": {
        "colab": {
          "base_uri": "https://localhost:8080/"
        },
        "id": "Rx_lz-TYER1r",
        "outputId": "10f6d363-b075-45f7-9aa8-7d93567582f8"
      },
      "execution_count": 55,
      "outputs": [
        {
          "output_type": "stream",
          "name": "stdout",
          "text": [
            "[[1, 170, 100, 130, 120, 100, 0], [2, 160, 80, 110, 100, 105, 1], [3, 150, 40, 100, 70, 80, 0]]\n"
          ]
        }
      ]
    },
    {
      "cell_type": "markdown",
      "source": [
        "## 반복문"
      ],
      "metadata": {
        "id": "KvxchaG8EXvH"
      }
    },
    {
      "cell_type": "markdown",
      "source": [
        "### while 문"
      ],
      "metadata": {
        "id": "DQOkjjVhEY8G"
      }
    },
    {
      "cell_type": "code",
      "source": [
        "result = 0\n",
        "i = 0\n",
        "\n",
        "while i <= 100:\n",
        "    result += i\n",
        "    i += 1\n",
        "print(result)"
      ],
      "metadata": {
        "colab": {
          "base_uri": "https://localhost:8080/"
        },
        "id": "L2JY0n_KEWCi",
        "outputId": "91989218-808d-42c7-ec8a-086e7c342b47"
      },
      "execution_count": 56,
      "outputs": [
        {
          "output_type": "stream",
          "name": "stdout",
          "text": [
            "5050\n"
          ]
        }
      ]
    },
    {
      "cell_type": "code",
      "source": [
        "result = (1 + 100)*50\n",
        "print(result)"
      ],
      "metadata": {
        "colab": {
          "base_uri": "https://localhost:8080/"
        },
        "id": "2T8s9WN3EbKK",
        "outputId": "293555ef-72c9-43f8-f43d-31e87066897e"
      },
      "execution_count": 57,
      "outputs": [
        {
          "output_type": "stream",
          "name": "stdout",
          "text": [
            "5050\n"
          ]
        }
      ]
    },
    {
      "cell_type": "code",
      "source": [
        "result = sum(range(101))\n",
        "print(result)"
      ],
      "metadata": {
        "colab": {
          "base_uri": "https://localhost:8080/"
        },
        "id": "_zfa9GXFEc_C",
        "outputId": "f26ff639-2a68-4653-b974-e6f1b612487d"
      },
      "execution_count": 58,
      "outputs": [
        {
          "output_type": "stream",
          "name": "stdout",
          "text": [
            "5050\n"
          ]
        }
      ]
    },
    {
      "cell_type": "markdown",
      "source": [
        "### continue 문"
      ],
      "metadata": {
        "id": "kflcDeYpE7R2"
      }
    },
    {
      "cell_type": "code",
      "source": [
        "data = [[1, 170, 100, 130, 120, 100], [1, 170, 100, 130, 120, 100], [1, 170, 100, 130, 120, 101], [1, 170, 100, 130, 120, 102], [1, 170, 100, 130, 120, 99], [1, 170, 100, 130, 120, 103], [2, 160, 80, 110, 100, 105], [2, 160, 80, 110, 100, 105], [2, 160, 80, 110, 100, 100], [2, 160, 80, 110, 100, 103], [2, 160, 80, 110,100, 100], [3, 150, 40, 100, 70, 80], [3, 150, 40, 100, 70, 85], [3, 150, 40, 100, 70, 82]]\n",
        "i = 0\n",
        "count = 0\n",
        "while i < len(data):\n",
        "    if data[i][0] != 1:\n",
        "        i += 1\n",
        "        continue\n",
        "    count += 1\n",
        "    i += 1\n",
        "print(count)"
      ],
      "metadata": {
        "colab": {
          "base_uri": "https://localhost:8080/"
        },
        "id": "kooNbplqEe2a",
        "outputId": "bcc1fa80-b540-4b3c-e418-43bae1387eda"
      },
      "execution_count": 59,
      "outputs": [
        {
          "output_type": "stream",
          "name": "stdout",
          "text": [
            "6\n"
          ]
        }
      ]
    },
    {
      "cell_type": "markdown",
      "source": [
        "### break 문"
      ],
      "metadata": {
        "id": "-HoydvzKFBn3"
      }
    },
    {
      "cell_type": "code",
      "source": [
        "num = 7\n",
        "i = 2\n",
        "while True:\n",
        "    if num % i == 0:\n",
        "        break\n",
        "    i += 1\n",
        "if i == num :\n",
        "    print(num,'는 소수입니다.')"
      ],
      "metadata": {
        "colab": {
          "base_uri": "https://localhost:8080/"
        },
        "id": "IH7NBuT2E_Ia",
        "outputId": "17a52bd0-9d31-4d90-d1b2-2a4cd0869499"
      },
      "execution_count": 60,
      "outputs": [
        {
          "output_type": "stream",
          "name": "stdout",
          "text": [
            "7 는 소수입니다.\n"
          ]
        }
      ]
    },
    {
      "cell_type": "markdown",
      "source": [
        "### 반복문 내 else 문"
      ],
      "metadata": {
        "id": "mNhEOPMAFEwP"
      }
    },
    {
      "cell_type": "code",
      "source": [
        "num = 7\n",
        "i = 2\n",
        "while i < num:\n",
        "    if num % i == 0:\n",
        "        break\n",
        "    i += 1\n",
        "else:\n",
        "    print(num,'는 소수입니다.')"
      ],
      "metadata": {
        "colab": {
          "base_uri": "https://localhost:8080/"
        },
        "id": "hnIeirelFDb7",
        "outputId": "a94d91cf-81b0-45e1-a649-88f18b550474"
      },
      "execution_count": 61,
      "outputs": [
        {
          "output_type": "stream",
          "name": "stdout",
          "text": [
            "7 는 소수입니다.\n"
          ]
        }
      ]
    },
    {
      "cell_type": "markdown",
      "source": [
        "### for 문"
      ],
      "metadata": {
        "id": "-6svA-iKFL2D"
      }
    },
    {
      "cell_type": "code",
      "source": [
        "data = [\n",
        "    [1, 170, 100, 130, 120, 100],\n",
        "    [2, 160, 80, 110, 100, 105],\n",
        "    [3, 150, 40, 100, 70, 80]\n",
        "]\n",
        "\n",
        "for p in data:\n",
        "    print(p)\n",
        "    p[0] = 0\n",
        "print(data)"
      ],
      "metadata": {
        "colab": {
          "base_uri": "https://localhost:8080/"
        },
        "id": "1m7T8jzGFJza",
        "outputId": "352bc94b-04a8-4e31-a34a-3076a54f4fa4"
      },
      "execution_count": 62,
      "outputs": [
        {
          "output_type": "stream",
          "name": "stdout",
          "text": [
            "[1, 170, 100, 130, 120, 100]\n",
            "[2, 160, 80, 110, 100, 105]\n",
            "[3, 150, 40, 100, 70, 80]\n",
            "[[0, 170, 100, 130, 120, 100], [0, 160, 80, 110, 100, 105], [0, 150, 40, 100, 70, 80]]\n"
          ]
        }
      ]
    },
    {
      "cell_type": "code",
      "source": [
        "data = [ 1, 2, 3, 4, 5, 6, 7, 8, 9, 10]\n",
        "\n",
        "for p in data:\n",
        "    p = 0\n",
        "print(data)"
      ],
      "metadata": {
        "colab": {
          "base_uri": "https://localhost:8080/"
        },
        "id": "3zWi9KJGFO2b",
        "outputId": "27d8132e-ffd8-4936-818d-9098ac2aedda"
      },
      "execution_count": 63,
      "outputs": [
        {
          "output_type": "stream",
          "name": "stdout",
          "text": [
            "[1, 2, 3, 4, 5, 6, 7, 8, 9, 10]\n"
          ]
        }
      ]
    },
    {
      "cell_type": "code",
      "source": [
        "data = [[1, 170, 100, 130, 120, 100], [1, 170, 100, 130, 120, 100], [1, 170, 100, 130, 120, 101], [1, 170, 100, 130, 120, 102], [1, 170, 100, 130, 120, 99], [1, 170, 100, 130, 120, 103], [2, 160, 80, 110, 100, 105], [2, 160, 80, 110, 100, 105], [2, 160, 80, 110, 100, 100], [2, 160, 80, 110, 100, 103], [2, 160, 80, 110,100, 100], [3, 150, 40, 100, 70, 80], [3, 150, 40, 100, 70, 85], [3, 150, 40, 100, 70, 82]]\n",
        "\n",
        "list_each_patients = []\n",
        "last = None\n",
        "tmp = None\n",
        "for p in data:\n",
        "    if last == None:\n",
        "        last = p[0]\n",
        "        tmp = []\n",
        "    if last == p[0]:\n",
        "        tmp.append(p)\n",
        "    else:\n",
        "        list_each_patients.append(tmp)\n",
        "        last = p[0]\n",
        "        tmp = []\n",
        "if len(tmp) > 1:\n",
        "    list_each_patients.append(tmp)"
      ],
      "metadata": {
        "id": "MmRhQSpOFSli"
      },
      "execution_count": 64,
      "outputs": []
    },
    {
      "cell_type": "code",
      "source": [
        "print(list_each_patients[0])"
      ],
      "metadata": {
        "colab": {
          "base_uri": "https://localhost:8080/"
        },
        "id": "c-nk1_yUFUgS",
        "outputId": "2c8ce255-4159-4454-ea73-6bcbc28c3676"
      },
      "execution_count": 65,
      "outputs": [
        {
          "output_type": "stream",
          "name": "stdout",
          "text": [
            "[[1, 170, 100, 130, 120, 100], [1, 170, 100, 130, 120, 100], [1, 170, 100, 130, 120, 101], [1, 170, 100, 130, 120, 102], [1, 170, 100, 130, 120, 99], [1, 170, 100, 130, 120, 103]]\n"
          ]
        }
      ]
    },
    {
      "cell_type": "code",
      "source": [
        "print(list_each_patients[1])"
      ],
      "metadata": {
        "colab": {
          "base_uri": "https://localhost:8080/"
        },
        "id": "PBfU0qnBFesy",
        "outputId": "cab9a6f0-3a42-4ae3-d4d9-fb002c364115"
      },
      "execution_count": 66,
      "outputs": [
        {
          "output_type": "stream",
          "name": "stdout",
          "text": [
            "[[2, 160, 80, 110, 100, 105], [2, 160, 80, 110, 100, 100], [2, 160, 80, 110, 100, 103], [2, 160, 80, 110, 100, 100]]\n"
          ]
        }
      ]
    },
    {
      "cell_type": "code",
      "source": [
        "print(list_each_patients[2])"
      ],
      "metadata": {
        "colab": {
          "base_uri": "https://localhost:8080/"
        },
        "id": "vLoHH76vFfX7",
        "outputId": "c44c02f2-6d3f-4d85-c587-eba461d50db5"
      },
      "execution_count": 67,
      "outputs": [
        {
          "output_type": "stream",
          "name": "stdout",
          "text": [
            "[[3, 150, 40, 100, 70, 85], [3, 150, 40, 100, 70, 82]]\n"
          ]
        }
      ]
    },
    {
      "cell_type": "code",
      "source": [
        "data = [\n",
        "    [1, 170, 100, 130, 120, 100],\n",
        "    [1, 170, 100, 130, 120, 103],\n",
        "    [1, 170, 100, 130, 120, 105],\n",
        "    [2, None, None, 110, 100, 105],\n",
        "    [2, None, None, 110, 100, 102],\n",
        "    [2, 160, 80, 110, 100, 103],\n",
        "    [3, None, None, 100, 70, 80],\n",
        "    [3, None, None, 100, 70, 85],\n",
        "    [3, None, None, 100, 70, 90]\n",
        "]\n",
        "print(data)"
      ],
      "metadata": {
        "colab": {
          "base_uri": "https://localhost:8080/"
        },
        "id": "40I9WOxsOeCp",
        "outputId": "2baf2692-8ca8-4bc2-e50a-904d826b5e81"
      },
      "execution_count": 68,
      "outputs": [
        {
          "output_type": "stream",
          "name": "stdout",
          "text": [
            "[[1, 170, 100, 130, 120, 100], [1, 170, 100, 130, 120, 103], [1, 170, 100, 130, 120, 105], [2, None, None, 110, 100, 105], [2, None, None, 110, 100, 102], [2, 160, 80, 110, 100, 103], [3, None, None, 100, 70, 80], [3, None, None, 100, 70, 85], [3, None, None, 100, 70, 90]]\n"
          ]
        }
      ]
    },
    {
      "cell_type": "code",
      "source": [
        "my_dictionary = {}\n",
        "for p in data:\n",
        "    if p[0] not in my_dictionary:\n",
        "        my_dictionary[p[0]] = {}\n",
        "        if p[1] is not None:\n",
        "            my_dictionary[p[0]]['height'] = p[1]\n",
        "        if p[2] is not None :\n",
        "            my_dictionary[p[0]]['weight'] = p[2]\n",
        "    if 'height' not in  my_dictionary[p[0]] or my_dictionary[p[0]]['height'] is None:\n",
        "        my_dictionary[p[0]]['height'] = p[1]\n",
        "    if 'weight' not in  my_dictionary[p[0]] or my_dictionary[p[0]]['weight'] is None:\n",
        "        my_dictionary[p[0]]['weight'] = p[2]"
      ],
      "metadata": {
        "id": "0MQSmgDeOjPO"
      },
      "execution_count": 69,
      "outputs": []
    },
    {
      "cell_type": "code",
      "source": [
        "print(my_dictionary)"
      ],
      "metadata": {
        "colab": {
          "base_uri": "https://localhost:8080/"
        },
        "id": "wLA0fZ3oPBM6",
        "outputId": "27e29dd6-7d75-4772-dfda-d440b82cf27e"
      },
      "execution_count": 70,
      "outputs": [
        {
          "output_type": "stream",
          "name": "stdout",
          "text": [
            "{1: {'height': 170, 'weight': 100}, 2: {'height': 160, 'weight': 80}, 3: {'height': None, 'weight': None}}\n"
          ]
        }
      ]
    },
    {
      "cell_type": "code",
      "source": [
        "for p in data:\n",
        "    if p[1] is None:\n",
        "        if p[0] in my_dictionary and my_dictionary[p[0]]['height'] is not None:\n",
        "            p[1] = my_dictionary[p[0]]['height']\n",
        "    if p[2] is None:\n",
        "        if p[0] in my_dictionary and my_dictionary[p[0]]['weight'] is not None:\n",
        "            p[2] = my_dictionary[p[0]]['weight']"
      ],
      "metadata": {
        "id": "eH3XyMGMP1TG"
      },
      "execution_count": 71,
      "outputs": []
    },
    {
      "cell_type": "code",
      "source": [
        "print(data)"
      ],
      "metadata": {
        "colab": {
          "base_uri": "https://localhost:8080/"
        },
        "id": "1P5UYfUxQVW7",
        "outputId": "9fbac108-10e1-4711-8bb9-b2bdf31a9b34"
      },
      "execution_count": 72,
      "outputs": [
        {
          "output_type": "stream",
          "name": "stdout",
          "text": [
            "[[1, 170, 100, 130, 120, 100], [1, 170, 100, 130, 120, 103], [1, 170, 100, 130, 120, 105], [2, 160, 80, 110, 100, 105], [2, 160, 80, 110, 100, 102], [2, 160, 80, 110, 100, 103], [3, None, None, 100, 70, 80], [3, None, None, 100, 70, 85], [3, None, None, 100, 70, 90]]\n"
          ]
        }
      ]
    },
    {
      "cell_type": "markdown",
      "source": [
        "## 고급 문자열"
      ],
      "metadata": {
        "id": "pENEEUgYFjuM"
      }
    },
    {
      "cell_type": "markdown",
      "source": [
        "### 슬라이싱"
      ],
      "metadata": {
        "id": "a0yZNAhpFlOA"
      }
    },
    {
      "cell_type": "code",
      "source": [
        "string = \"Hello world\""
      ],
      "metadata": {
        "id": "SL2WwjSsFgJK"
      },
      "execution_count": 73,
      "outputs": []
    },
    {
      "cell_type": "code",
      "source": [
        "print(string[-3:-1])"
      ],
      "metadata": {
        "colab": {
          "base_uri": "https://localhost:8080/"
        },
        "id": "cNLNGm78Fnna",
        "outputId": "9763cc72-1a76-4a73-d84b-d7b61dcf15c3"
      },
      "execution_count": 74,
      "outputs": [
        {
          "output_type": "stream",
          "name": "stdout",
          "text": [
            "rl\n"
          ]
        }
      ]
    },
    {
      "cell_type": "code",
      "source": [
        "print(string[-1:-3:-1])"
      ],
      "metadata": {
        "colab": {
          "base_uri": "https://localhost:8080/"
        },
        "id": "krnCqZ4tFpLK",
        "outputId": "bc810327-9afc-4e0f-a99e-2593e1669a3d"
      },
      "execution_count": 75,
      "outputs": [
        {
          "output_type": "stream",
          "name": "stdout",
          "text": [
            "dl\n"
          ]
        }
      ]
    },
    {
      "cell_type": "markdown",
      "source": [
        "### 문자열 검색"
      ],
      "metadata": {
        "id": "1udo-HiEFq-D"
      }
    },
    {
      "cell_type": "code",
      "source": [
        "from requests import get\n",
        "pathName = get('http://172.28.0.2:9000/api/sessions').json()[0]['name']\n",
        "pathName = pathName[:pathName.rfind('.')]\n",
        "print(pathName)"
      ],
      "metadata": {
        "colab": {
          "base_uri": "https://localhost:8080/"
        },
        "id": "DQYhw723FpbT",
        "outputId": "9fe5f20c-7953-4026-8e6b-16d1195b560c"
      },
      "execution_count": 76,
      "outputs": [
        {
          "output_type": "stream",
          "name": "stdout",
          "text": [
            "2%EC%A3%BC%EC%B0%A8%20%EC%8B%A4%EC%8A%B5\n"
          ]
        }
      ]
    },
    {
      "cell_type": "markdown",
      "source": [
        "## 고급 리스트"
      ],
      "metadata": {
        "id": "gT5IRaMsF9XW"
      }
    },
    {
      "cell_type": "markdown",
      "source": [
        "### 얕은 복사"
      ],
      "metadata": {
        "id": "kFvzkcH4Jjpg"
      }
    },
    {
      "cell_type": "code",
      "source": [
        "list_a = [1, 2, 3, 4, 5]\n",
        "list_b = list_a"
      ],
      "metadata": {
        "id": "xFh7WtqkFtuD"
      },
      "execution_count": 77,
      "outputs": []
    },
    {
      "cell_type": "code",
      "source": [
        "list_b[0] = 0"
      ],
      "metadata": {
        "id": "7_t2bUZgJr5V"
      },
      "execution_count": 78,
      "outputs": []
    },
    {
      "cell_type": "code",
      "source": [
        "print(list_a)"
      ],
      "metadata": {
        "colab": {
          "base_uri": "https://localhost:8080/"
        },
        "id": "8lvsjdiFJt3s",
        "outputId": "61556bb1-28e5-478f-ce67-d4dc4cfa9858"
      },
      "execution_count": 79,
      "outputs": [
        {
          "output_type": "stream",
          "name": "stdout",
          "text": [
            "[0, 2, 3, 4, 5]\n"
          ]
        }
      ]
    },
    {
      "cell_type": "markdown",
      "source": [
        "### 깊은 복사"
      ],
      "metadata": {
        "id": "cHPdqnOCKOxy"
      }
    },
    {
      "cell_type": "code",
      "source": [
        "import copy"
      ],
      "metadata": {
        "id": "06XGX-KGJunk"
      },
      "execution_count": 80,
      "outputs": []
    },
    {
      "cell_type": "code",
      "source": [
        "list_b = copy.deepcopy(list_b)"
      ],
      "metadata": {
        "id": "zaUp1QdwKSFN"
      },
      "execution_count": 81,
      "outputs": []
    },
    {
      "cell_type": "code",
      "source": [
        "list_b[0] = 3"
      ],
      "metadata": {
        "id": "XMEY1LD8KVDt"
      },
      "execution_count": 82,
      "outputs": []
    },
    {
      "cell_type": "code",
      "source": [
        "print(list_a)"
      ],
      "metadata": {
        "colab": {
          "base_uri": "https://localhost:8080/"
        },
        "id": "yzMXjbPZKWFE",
        "outputId": "49366852-b378-4551-cbd5-5dcf6a4c6ef0"
      },
      "execution_count": 83,
      "outputs": [
        {
          "output_type": "stream",
          "name": "stdout",
          "text": [
            "[0, 2, 3, 4, 5]\n"
          ]
        }
      ]
    },
    {
      "cell_type": "code",
      "source": [
        "print(list_b)"
      ],
      "metadata": {
        "colab": {
          "base_uri": "https://localhost:8080/"
        },
        "id": "S4S7TYXUKXPc",
        "outputId": "e7d86839-a6e8-45b3-91bb-8cc70ed05d28"
      },
      "execution_count": 84,
      "outputs": [
        {
          "output_type": "stream",
          "name": "stdout",
          "text": [
            "[3, 2, 3, 4, 5]\n"
          ]
        }
      ]
    },
    {
      "cell_type": "markdown",
      "source": [
        "### 슬라이싱"
      ],
      "metadata": {
        "id": "dljHTehuLPfa"
      }
    },
    {
      "cell_type": "code",
      "source": [
        "data = [[1, 170, 100, 130, 120, 100], [1, 170, 100, 130, 120, 100], [1, 170, 100, 130, 120, 101], [1, 170, 100, 130, 120, 102], [1, 170, 100, 130, 120, 99], [1, 170, 100, 130, 120, 103], [2, 160, 80, 110, 100, 105], [2, 160, 80, 110, 100, 105], [2, 160, 80, 110, 100, 100], [2, 160, 80, 110, 100, 103], [2, 160, 80, 110,100, 100], [3, 150, 40, 100, 70, 80], [3, 150, 40, 100, 70, 85], [3, 150, 40, 100, 70, 82]]\n",
        "\n",
        "list_each_patients = []\n",
        "list_each_patients.append(data[0:6])\n",
        "list_each_patients.append(data[6:11])\n",
        "list_each_patients.append(data[11:14])"
      ],
      "metadata": {
        "id": "JOZz2sUlKaeE"
      },
      "execution_count": 85,
      "outputs": []
    },
    {
      "cell_type": "code",
      "source": [
        "print(list_each_patients[0])"
      ],
      "metadata": {
        "colab": {
          "base_uri": "https://localhost:8080/"
        },
        "id": "ViQ_9BbxLhIW",
        "outputId": "ef9b6450-c56d-4548-9f63-73a62503f99e"
      },
      "execution_count": 86,
      "outputs": [
        {
          "output_type": "stream",
          "name": "stdout",
          "text": [
            "[[1, 170, 100, 130, 120, 100], [1, 170, 100, 130, 120, 100], [1, 170, 100, 130, 120, 101], [1, 170, 100, 130, 120, 102], [1, 170, 100, 130, 120, 99], [1, 170, 100, 130, 120, 103]]\n"
          ]
        }
      ]
    },
    {
      "cell_type": "code",
      "source": [
        "print(list_each_patients[1])"
      ],
      "metadata": {
        "colab": {
          "base_uri": "https://localhost:8080/"
        },
        "id": "LPqn7RZgLh21",
        "outputId": "a6bcba69-c787-47cb-e7d8-a2285177013d"
      },
      "execution_count": 87,
      "outputs": [
        {
          "output_type": "stream",
          "name": "stdout",
          "text": [
            "[[2, 160, 80, 110, 100, 105], [2, 160, 80, 110, 100, 105], [2, 160, 80, 110, 100, 100], [2, 160, 80, 110, 100, 103], [2, 160, 80, 110, 100, 100]]\n"
          ]
        }
      ]
    },
    {
      "cell_type": "code",
      "source": [
        "print(list_each_patients[2])"
      ],
      "metadata": {
        "colab": {
          "base_uri": "https://localhost:8080/"
        },
        "id": "Q9YvQcFFL7h1",
        "outputId": "cc75143a-0e62-4d0b-8d5e-b79c6f5f620a"
      },
      "execution_count": 88,
      "outputs": [
        {
          "output_type": "stream",
          "name": "stdout",
          "text": [
            "[[3, 150, 40, 100, 70, 80], [3, 150, 40, 100, 70, 85], [3, 150, 40, 100, 70, 82]]\n"
          ]
        }
      ]
    }
  ]
}