{
 "cells": [
  {
   "cell_type": "code",
   "execution_count": 1,
   "id": "5078ef77",
   "metadata": {},
   "outputs": [],
   "source": [
    "import pandas as pd\n",
    "\n",
    "df = pd.read_csv('fish_all.csv')"
   ]
  },
  {
   "cell_type": "code",
   "execution_count": 2,
   "id": "3c1779cc",
   "metadata": {},
   "outputs": [],
   "source": [
    "df.loc[df['Species']=='Perch','Species'] = 0\n",
    "df.loc[df['Species']=='Bream','Species'] = 1\n",
    "df.loc[df['Species']=='Roach','Species'] = 2\n",
    "df.loc[df['Species']=='Pike','Species'] = 3\n",
    "df.loc[df['Species']=='Smelt','Species'] = 4\n",
    "df.loc[df['Species']=='Parkki','Species'] = 5\n",
    "df.loc[df['Species']=='Whitefish','Species'] = 6\n",
    "df['Species'] = df['Species'].astype('int32')"
   ]
  },
  {
   "cell_type": "code",
   "execution_count": 3,
   "id": "3c078c68",
   "metadata": {},
   "outputs": [],
   "source": [
    "features = df[df.keys().drop('Species')]\n",
    "outcome = df['Species']"
   ]
  },
  {
   "cell_type": "code",
   "execution_count": 4,
   "id": "06fdaa3b",
   "metadata": {},
   "outputs": [],
   "source": [
    "from sklearn.model_selection import train_test_split\n",
    "\n",
    "train_features, test_features, train_target, test_target = train_test_split(features,outcome,random_state=42, stratify=outcome)"
   ]
  },
  {
   "cell_type": "code",
   "execution_count": 5,
   "id": "7458d1fd",
   "metadata": {},
   "outputs": [],
   "source": [
    "from sklearn.preprocessing import MinMaxScaler\n",
    "\n",
    "scaler = MinMaxScaler()\n",
    "train_features_scaled = scaler.fit_transform(train_features)\n",
    "test_features_scaled = scaler.transform(test_features)"
   ]
  },
  {
   "cell_type": "code",
   "execution_count": 6,
   "id": "3f8e6d7a",
   "metadata": {},
   "outputs": [
    {
     "data": {
      "text/plain": [
       "SVC()"
      ]
     },
     "execution_count": 6,
     "metadata": {},
     "output_type": "execute_result"
    }
   ],
   "source": [
    "from sklearn.svm import SVC\n",
    "\n",
    "clf = SVC()\n",
    "clf.fit(train_features_scaled,train_target)"
   ]
  },
  {
   "cell_type": "code",
   "execution_count": 7,
   "id": "5a3c4262",
   "metadata": {},
   "outputs": [],
   "source": [
    "pred = clf.predict(test_features_scaled)"
   ]
  },
  {
   "cell_type": "code",
   "execution_count": 8,
   "id": "1394f55c",
   "metadata": {},
   "outputs": [
    {
     "name": "stdout",
     "output_type": "stream",
     "text": [
      "0.775\n",
      "[[14  0  0  0  0  0  0]\n",
      " [ 0  9  0  0  0  0  0]\n",
      " [ 5  0  0  0  0  0  0]\n",
      " [ 0  0  0  4  0  0  0]\n",
      " [ 0  0  0  0  4  0  0]\n",
      " [ 3  0  0  0  0  0  0]\n",
      " [ 1  0  0  0  0  0  0]]\n"
     ]
    }
   ],
   "source": [
    "from sklearn.metrics import accuracy_score, confusion_matrix\n",
    "\n",
    "print(accuracy_score(test_target, pred))\n",
    "print(confusion_matrix(test_target, pred))"
   ]
  },
  {
   "cell_type": "code",
   "execution_count": 9,
   "id": "3d64c9b5",
   "metadata": {},
   "outputs": [
    {
     "data": {
      "text/plain": [
       "SVC(kernel='poly')"
      ]
     },
     "execution_count": 9,
     "metadata": {},
     "output_type": "execute_result"
    }
   ],
   "source": [
    "from sklearn.svm import SVC\n",
    "\n",
    "clf = SVC(kernel=\"poly\")\n",
    "clf.fit(train_features_scaled,train_target)"
   ]
  },
  {
   "cell_type": "code",
   "execution_count": 10,
   "id": "7483a5f7",
   "metadata": {},
   "outputs": [],
   "source": [
    "pred = clf.predict(test_features_scaled)"
   ]
  },
  {
   "cell_type": "code",
   "execution_count": 11,
   "id": "2d1650f1",
   "metadata": {},
   "outputs": [
    {
     "name": "stdout",
     "output_type": "stream",
     "text": [
      "0.775\n",
      "[[13  0  0  0  0  0  1]\n",
      " [ 0  9  0  0  0  0  0]\n",
      " [ 4  0  0  0  1  0  0]\n",
      " [ 0  0  0  4  0  0  0]\n",
      " [ 0  0  0  0  4  0  0]\n",
      " [ 1  0  0  0  1  1  0]\n",
      " [ 1  0  0  0  0  0  0]]\n"
     ]
    }
   ],
   "source": [
    "from sklearn.metrics import accuracy_score, confusion_matrix\n",
    "\n",
    "print(accuracy_score(test_target, pred))\n",
    "print(confusion_matrix(test_target, pred))"
   ]
  },
  {
   "cell_type": "code",
   "execution_count": 12,
   "id": "ade74ec9",
   "metadata": {},
   "outputs": [
    {
     "data": {
      "text/plain": [
       "SVC(kernel='sigmoid')"
      ]
     },
     "execution_count": 12,
     "metadata": {},
     "output_type": "execute_result"
    }
   ],
   "source": [
    "from sklearn.svm import SVC\n",
    "\n",
    "clf = SVC(kernel=\"sigmoid\")\n",
    "clf.fit(train_features_scaled,train_target)"
   ]
  },
  {
   "cell_type": "code",
   "execution_count": 13,
   "id": "4e4fa746",
   "metadata": {},
   "outputs": [],
   "source": [
    "pred = clf.predict(test_features_scaled)"
   ]
  },
  {
   "cell_type": "code",
   "execution_count": 14,
   "id": "3b2a0cbf",
   "metadata": {},
   "outputs": [
    {
     "name": "stdout",
     "output_type": "stream",
     "text": [
      "0.175\n",
      "[[6 8 0 0 0 0 0]\n",
      " [9 0 0 0 0 0 0]\n",
      " [1 4 0 0 0 0 0]\n",
      " [4 0 0 0 0 0 0]\n",
      " [2 1 0 0 1 0 0]\n",
      " [0 3 0 0 0 0 0]\n",
      " [1 0 0 0 0 0 0]]\n"
     ]
    }
   ],
   "source": [
    "from sklearn.metrics import accuracy_score, confusion_matrix\n",
    "\n",
    "print(accuracy_score(test_target, pred))\n",
    "print(confusion_matrix(test_target, pred))"
   ]
  },
  {
   "cell_type": "code",
   "execution_count": 15,
   "id": "d0a35856",
   "metadata": {},
   "outputs": [
    {
     "data": {
      "text/plain": [
       "SVC(kernel='linear')"
      ]
     },
     "execution_count": 15,
     "metadata": {},
     "output_type": "execute_result"
    }
   ],
   "source": [
    "from sklearn.svm import SVC\n",
    "\n",
    "clf = SVC(kernel=\"linear\")\n",
    "clf.fit(train_features_scaled,train_target)"
   ]
  },
  {
   "cell_type": "code",
   "execution_count": 16,
   "id": "27b57d87",
   "metadata": {},
   "outputs": [],
   "source": [
    "pred = clf.predict(test_features_scaled)"
   ]
  },
  {
   "cell_type": "code",
   "execution_count": 17,
   "id": "efeec9c9",
   "metadata": {},
   "outputs": [
    {
     "name": "stdout",
     "output_type": "stream",
     "text": [
      "0.7\n",
      "[[14  0  0  0  0  0  0]\n",
      " [ 0  9  0  0  0  0  0]\n",
      " [ 5  0  0  0  0  0  0]\n",
      " [ 2  0  0  2  0  0  0]\n",
      " [ 1  0  0  0  3  0  0]\n",
      " [ 3  0  0  0  0  0  0]\n",
      " [ 1  0  0  0  0  0  0]]\n"
     ]
    }
   ],
   "source": [
    "from sklearn.metrics import accuracy_score, confusion_matrix\n",
    "\n",
    "print(accuracy_score(test_target, pred))\n",
    "print(confusion_matrix(test_target, pred))"
   ]
  },
  {
   "cell_type": "code",
   "execution_count": 18,
   "id": "53cbe5e2",
   "metadata": {},
   "outputs": [
    {
     "data": {
      "text/plain": [
       "LinearSVC()"
      ]
     },
     "execution_count": 18,
     "metadata": {},
     "output_type": "execute_result"
    }
   ],
   "source": [
    "from sklearn.svm import LinearSVC\n",
    "\n",
    "clf = LinearSVC()\n",
    "clf.fit(train_features_scaled,train_target)"
   ]
  },
  {
   "cell_type": "code",
   "execution_count": 19,
   "id": "fb3c8f6c",
   "metadata": {},
   "outputs": [],
   "source": [
    "pred = clf.predict(test_features_scaled)"
   ]
  },
  {
   "cell_type": "code",
   "execution_count": 20,
   "id": "da371d26",
   "metadata": {},
   "outputs": [
    {
     "name": "stdout",
     "output_type": "stream",
     "text": [
      "0.8\n",
      "[[14  0  0  0  0  0  0]\n",
      " [ 0  9  0  0  0  0  0]\n",
      " [ 5  0  0  0  0  0  0]\n",
      " [ 0  0  0  4  0  0  0]\n",
      " [ 0  0  0  0  4  0  0]\n",
      " [ 1  1  0  0  0  1  0]\n",
      " [ 1  0  0  0  0  0  0]]\n"
     ]
    }
   ],
   "source": [
    "from sklearn.metrics import accuracy_score, confusion_matrix\n",
    "\n",
    "print(accuracy_score(test_target, pred))\n",
    "print(confusion_matrix(test_target, pred))"
   ]
  },
  {
   "cell_type": "code",
   "execution_count": 21,
   "id": "a8d1938e",
   "metadata": {
    "scrolled": false
   },
   "outputs": [
    {
     "data": {
      "text/plain": [
       "NuSVC(nu=0.21)"
      ]
     },
     "execution_count": 21,
     "metadata": {},
     "output_type": "execute_result"
    }
   ],
   "source": [
    "from sklearn.svm import NuSVC\n",
    "\n",
    "clf = NuSVC(nu=0.21)\n",
    "clf.fit(train_features_scaled,train_target)"
   ]
  },
  {
   "cell_type": "code",
   "execution_count": 22,
   "id": "fe1f5f7b",
   "metadata": {},
   "outputs": [
    {
     "name": "stdout",
     "output_type": "stream",
     "text": [
      "0.8\n",
      "[[14  0  0  0  0  0  0]\n",
      " [ 0  9  0  0  0  0  0]\n",
      " [ 5  0  0  0  0  0  0]\n",
      " [ 0  0  0  4  0  0  0]\n",
      " [ 0  0  0  0  4  0  0]\n",
      " [ 1  1  0  0  0  1  0]\n",
      " [ 1  0  0  0  0  0  0]]\n"
     ]
    }
   ],
   "source": [
    "from sklearn.metrics import accuracy_score, confusion_matrix\n",
    "\n",
    "print(accuracy_score(test_target, pred))\n",
    "print(confusion_matrix(test_target, pred))"
   ]
  },
  {
   "cell_type": "code",
   "execution_count": null,
   "id": "23c9f465",
   "metadata": {},
   "outputs": [],
   "source": []
  }
 ],
 "metadata": {
  "kernelspec": {
   "display_name": "tensorflow gpu 2.7.0",
   "language": "python",
   "name": "tensorflow_gpu_2.7.0"
  },
  "language_info": {
   "codemirror_mode": {
    "name": "ipython",
    "version": 3
   },
   "file_extension": ".py",
   "mimetype": "text/x-python",
   "name": "python",
   "nbconvert_exporter": "python",
   "pygments_lexer": "ipython3",
   "version": "3.9.0"
  }
 },
 "nbformat": 4,
 "nbformat_minor": 5
}
